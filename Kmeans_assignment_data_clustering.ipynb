{
 "cells": [
  {
   "cell_type": "markdown",
   "id": "6079b53302308029",
   "metadata": {},
   "source": [
    "# <span style=\"color:cyan\">ΚΑΘΟΡΙΣΜΟΣ ΤΟΥ DIRECTORY ΟΠΟΥ ΒΡΙΣΚΕΤΑΙ ΤΟ ΑΡΧΕΙΟ"
   ]
  },
  {
   "cell_type": "code",
   "execution_count": 52,
   "id": "e614c4cff89aec06",
   "metadata": {
    "ExecuteTime": {
     "end_time": "2024-06-23T11:24:28.571470Z",
     "start_time": "2024-06-23T11:24:28.560168Z"
    },
    "tags": []
   },
   "outputs": [
    {
     "data": {
      "text/plain": [
       "'C:\\\\Users\\\\Kosta\\\\uoa_py_course\\\\Final _Assigment_Ravanos'"
      ]
     },
     "execution_count": 52,
     "metadata": {},
     "output_type": "execute_result"
    }
   ],
   "source": [
    "pwd #Καθορίζει το path file του αρχείου που θα εκτελεστεί"
   ]
  },
  {
   "cell_type": "markdown",
   "id": "d04fb6d97ce4cd45",
   "metadata": {},
   "source": [
    "# <span style=\"color:cyan\">ΕΙΣΑΓΩΓΗ ΤΩΝ ΑΠΑΡΑΙΤΡΗΤΩΝ ΒΙΒΛΙΟΘΗΚΩΝ"
   ]
  },
  {
   "cell_type": "code",
   "execution_count": 53,
   "id": "b4c58e235f13120f",
   "metadata": {
    "ExecuteTime": {
     "end_time": "2024-06-23T11:24:32.540202Z",
     "start_time": "2024-06-23T11:24:32.530857Z"
    },
    "tags": []
   },
   "outputs": [],
   "source": [
    "#Βιβλιοθήκες για την εισαγωγή και επεξεργασία των δεδομένων\n",
    "import warnings\n",
    "import numpy as np\n",
    "import pandas as pd\n",
    "\n",
    "\n",
    "#Βιβλιοθήκες για την εκτύπωση των διαγραμμάτων\n",
    "import seaborn as sns\n",
    "import matplotlib.cm as cm\n",
    "import plotly.express as px\n",
    "import matplotlib.pyplot as plt\n",
    "import plotly.graph_objects as go\n",
    "from mpl_toolkits.mplot3d import Axes3D\n",
    "from plotly.subplots import make_subplots\n",
    "\n",
    "\n",
    "#Βιβλιοθήκες για εκπαίδευση μοντέλων μηχανικής μάθησης\n",
    "from sklearn.cluster import KMeans\n",
    "from sklearn.preprocessing import StandardScaler\n",
    "from sklearn.metrics import silhouette_samples, silhouette_score"
   ]
  },
  {
   "cell_type": "markdown",
   "id": "6fef0cc6023ac78f",
   "metadata": {},
   "source": [
    "# <span style=\"color:cyan\">ΚΑΘΟΡΙΣΜΟΣ ΑΚΡΙΒΕΙΑΣ ΤΟΥ ΜΟΝΤΕΛΟΥ"
   ]
  },
  {
   "cell_type": "code",
   "execution_count": 54,
   "id": "92c9dbf0b7edfdfb",
   "metadata": {
    "ExecuteTime": {
     "end_time": "2024-06-23T11:24:34.272705Z",
     "start_time": "2024-06-23T11:24:34.256385Z"
    },
    "tags": []
   },
   "outputs": [],
   "source": [
    "#Καθορισμός ακριβείας μοντέλου\n",
    "pd.set_option(\"display.precision\", 2)"
   ]
  },
  {
   "cell_type": "markdown",
   "id": "a49a075fc4f111b8",
   "metadata": {},
   "source": [
    "# <span style=\"color:cyan\">ΕΙΣΑΓΩΓΗ ΚΑΙ ΕΠΕΞΕΡΓΑΣΙΑ ΤΟΥ ΑΡΧΕΙΟΥ ΠΟΥ ΕΙΝΑΙ ΑΠΑΡΑΙΤΗΤΟ ΓΙΑ ΤΗΝ ΕΚΤΕΛΕΣΗ ΤΟΥ ΑΛΓΟΡΙΘΜΟΥ"
   ]
  },
  {
   "cell_type": "code",
   "execution_count": 55,
   "id": "8cbd1d58cd11aa9b",
   "metadata": {
    "ExecuteTime": {
     "end_time": "2024-06-23T11:24:37.581642Z",
     "start_time": "2024-06-23T11:24:37.553038Z"
    },
    "tags": []
   },
   "outputs": [
    {
     "name": "stdout",
     "output_type": "stream",
     "text": [
      "                     Unnamed: 0 Private  Apps  Accept  Enroll  Top10perc  \\\n",
      "0  Abilene Christian University     Yes  1660    1232     721         23   \n",
      "1            Adelphi University     Yes  2186    1924     512         16   \n",
      "2                Adrian College     Yes  1428    1097     336         22   \n",
      "3           Agnes Scott College     Yes   417     349     137         60   \n",
      "4     Alaska Pacific University     Yes   193     146      55         16   \n",
      "\n",
      "   Top25perc  F.Undergrad  P.Undergrad  Outstate  Room.Board  Books  Personal  \\\n",
      "0         52         2885          537      7440        3300    450      2200   \n",
      "1         29         2683         1227     12280        6450    750      1500   \n",
      "2         50         1036           99     11250        3750    400      1165   \n",
      "3         89          510           63     12960        5450    450       875   \n",
      "4         44          249          869      7560        4120    800      1500   \n",
      "\n",
      "   PhD  Terminal  S.F.Ratio  perc.alumni  Expend  Grad.Rate  \n",
      "0   70        78       18.1           12    7041         60  \n",
      "1   29        30       12.2           16   10527         56  \n",
      "2   53        66       12.9           30    8735         54  \n",
      "3   92        97        7.7           37   19016         59  \n",
      "4   76        72       11.9            2   10922         15  \n"
     ]
    }
   ],
   "source": [
    "#Αναγνώριση του αρχείου και εισαγωγή του στο πρόγραμμα\n",
    "df = pd.read_csv('data/Kmeans_assignment_data.csv')\n",
    "\n",
    "#Δημιουργία DataFrame\n",
    "df.head() \n",
    "\n",
    "#Δίνει την εκτύπωση των πέντε πρώτων στηλών των δεδομένων\n",
    "print(df.head())"
   ]
  },
  {
   "cell_type": "markdown",
   "id": "5d3c4a64a13a764a",
   "metadata": {},
   "source": [
    "# <span style=\"color:cyan\">ΣΥΝΟΠΤΙΚΗ ΠΑΡΟΥΣΙΑΣΗ ΤΩΝ ΔΕΔΟΜΕΝΩΝ ΠΡΙΝ ΑΠΟ ΤΗΝ ΑΦΑΙΡΕΣΗ ΤΟΝ ΤΙΜΩΝ ΠΟΥ ΤΕΙΝΟΥΝ ΣΤΟ ΑΠΕΙΡΟ ΚΑΙ ΤΩΝ ΤΙΜΩΝ NaN\n"
   ]
  },
  {
   "cell_type": "code",
   "execution_count": 1,
   "id": "91ff35de5dcaa821",
   "metadata": {
    "ExecuteTime": {
     "end_time": "2024-06-23T11:24:39.255284Z",
     "start_time": "2024-06-23T11:24:39.247572Z"
    },
    "tags": []
   },
   "outputs": [
    {
     "ename": "NameError",
     "evalue": "name 'df' is not defined",
     "output_type": "error",
     "traceback": [
      "\u001b[1;31m---------------------------------------------------------------------------\u001b[0m",
      "\u001b[1;31mNameError\u001b[0m                                 Traceback (most recent call last)",
      "Cell \u001b[1;32mIn[1], line 2\u001b[0m\n\u001b[0;32m      1\u001b[0m \u001b[38;5;66;03m#Επιστρέφει το σύνολο των γραμμών του αρχείου στο οποίο βρίσκονται τα δεδομένα\u001b[39;00m\n\u001b[1;32m----> 2\u001b[0m \u001b[38;5;28mlen\u001b[39m(\u001b[43mdf\u001b[49m)\n",
      "\u001b[1;31mNameError\u001b[0m: name 'df' is not defined"
     ]
    }
   ],
   "source": [
    "#Επιστρέφει το σύνολο των γραμμών του αρχείου στο οποίο βρίσκονται τα δεδομένα\n",
    "len(df)"
   ]
  },
  {
   "cell_type": "code",
   "execution_count": 2,
   "id": "3dbb4c9f2fb4be47",
   "metadata": {
    "ExecuteTime": {
     "end_time": "2024-06-23T11:24:39.692051Z",
     "start_time": "2024-06-23T11:24:39.682686Z"
    },
    "tags": []
   },
   "outputs": [
    {
     "ename": "NameError",
     "evalue": "name 'df' is not defined",
     "output_type": "error",
     "traceback": [
      "\u001b[1;31m---------------------------------------------------------------------------\u001b[0m",
      "\u001b[1;31mNameError\u001b[0m                                 Traceback (most recent call last)",
      "Cell \u001b[1;32mIn[2], line 2\u001b[0m\n\u001b[0;32m      1\u001b[0m \u001b[38;5;66;03m#Επιστρέφει τα ονόματα των στηλών του αρχείου στο οποίο βρίσκονται τα δεδομένα\u001b[39;00m\n\u001b[1;32m----> 2\u001b[0m \u001b[43mdf\u001b[49m\u001b[38;5;241m.\u001b[39mcolumns\n",
      "\u001b[1;31mNameError\u001b[0m: name 'df' is not defined"
     ]
    }
   ],
   "source": [
    "#Επιστρέφει τα ονόματα των στηλών του αρχείου στο οποίο βρίσκονται τα δεδομένα\n",
    "df.columns"
   ]
  },
  {
   "cell_type": "code",
   "execution_count": 4,
   "id": "4bb2c83f30d787d",
   "metadata": {
    "ExecuteTime": {
     "end_time": "2024-06-23T11:24:40.183372Z",
     "start_time": "2024-06-23T11:24:40.161421Z"
    },
    "tags": []
   },
   "outputs": [],
   "source": [
    " #Δίνει τον τύπο των δεδομένων που περιέχονται στις στήλες του αρχείου."
   ]
  },
  {
   "cell_type": "code",
   "execution_count": 5,
   "id": "b88ffe14a2ae493f",
   "metadata": {
    "ExecuteTime": {
     "end_time": "2024-06-23T11:24:40.700401Z",
     "start_time": "2024-06-23T11:24:40.692594Z"
    },
    "tags": []
   },
   "outputs": [],
   "source": [
    "#Ορίζει της μεταβλητές που περιέχουν τιμές 0 και 1 ως κατηγορικές για λόγους παρουσίασης και κατανόησης των δεδομένων. Η εντολή θα εκτελεστεί στην επόμενη ενότητα μετά την καθαρισμό των τιμών που τείνουν στο άπειρο και των τιμών NaN καθώς το πρόγραμμα δε θα μπορεί να τρέξει την εντολή για τον έλεγχο των τιμών που τείνουν στο άπειρο αν υπάρχουν κατηγορικές μεταβλητές στο dataset.\n",
    "\n",
    "#for column in df.columns:\n",
    "    #if set(df[column].unique()) == {0, 1}:\n",
    "        #df[column] = df[column].astype('category')"
   ]
  },
  {
   "cell_type": "code",
   "execution_count": 6,
   "id": "d0d648fc7b354cea",
   "metadata": {
    "ExecuteTime": {
     "end_time": "2024-06-23T11:24:41.154289Z",
     "start_time": "2024-06-23T11:24:41.139177Z"
    },
    "tags": []
   },
   "outputs": [
    {
     "ename": "NameError",
     "evalue": "name 'df' is not defined",
     "output_type": "error",
     "traceback": [
      "\u001b[1;31m---------------------------------------------------------------------------\u001b[0m",
      "\u001b[1;31mNameError\u001b[0m                                 Traceback (most recent call last)",
      "Cell \u001b[1;32mIn[6], line 2\u001b[0m\n\u001b[0;32m      1\u001b[0m \u001b[38;5;66;03m# Εκτυπώνει το όνομα των στηλών και τον τύπο των δεδομένων που περιέχουν\u001b[39;00m\n\u001b[1;32m----> 2\u001b[0m \u001b[43mdf\u001b[49m\u001b[38;5;241m.\u001b[39minfo()\n",
      "\u001b[1;31mNameError\u001b[0m: name 'df' is not defined"
     ]
    }
   ],
   "source": [
    "# Εκτυπώνει το όνομα των στηλών και τον τύπο των δεδομένων που περιέχουν\n",
    "df.info()"
   ]
  },
  {
   "cell_type": "code",
   "execution_count": 7,
   "id": "ad070d29a605142a",
   "metadata": {
    "ExecuteTime": {
     "end_time": "2024-06-23T11:24:42.283764Z",
     "start_time": "2024-06-23T11:24:42.273834Z"
    },
    "tags": []
   },
   "outputs": [
    {
     "ename": "NameError",
     "evalue": "name 'df' is not defined",
     "output_type": "error",
     "traceback": [
      "\u001b[1;31m---------------------------------------------------------------------------\u001b[0m",
      "\u001b[1;31mNameError\u001b[0m                                 Traceback (most recent call last)",
      "Cell \u001b[1;32mIn[7], line 2\u001b[0m\n\u001b[0;32m      1\u001b[0m \u001b[38;5;66;03m#Εκτυπώνει το είδος της κάθε μεταβλητής του dataset \u001b[39;00m\n\u001b[1;32m----> 2\u001b[0m \u001b[38;5;28mprint\u001b[39m(\u001b[43mdf\u001b[49m\u001b[38;5;241m.\u001b[39mdtypes)\n",
      "\u001b[1;31mNameError\u001b[0m: name 'df' is not defined"
     ]
    }
   ],
   "source": [
    "#Εκτυπώνει το είδος της κάθε μεταβλητής του dataset \n",
    "print(df.dtypes)"
   ]
  },
  {
   "cell_type": "markdown",
   "id": "a5b276395be532e5",
   "metadata": {},
   "source": [
    "# <span style=\"color:cyan\">ΕΠΕΞΕΡΓΑΣΙΑ ΤΟΥ DATASET ΚΑΙ ΕΚΑΘΑΡΙΣΜΟΣ ΤΩΝ ΤΙΜΩΝ ΠΟΥ ΤΕΙΝΟΥΝ ΣΤΟ ΑΠΕΙΡΟ ΚΑΙ ΤΩΝ ΤΙΜΩΝ NaN\n"
   ]
  },
  {
   "cell_type": "code",
   "execution_count": 8,
   "id": "88dbcdad41ea89b8",
   "metadata": {
    "ExecuteTime": {
     "end_time": "2024-06-23T11:24:49.134758Z",
     "start_time": "2024-06-23T11:24:49.122871Z"
    },
    "tags": []
   },
   "outputs": [
    {
     "ename": "NameError",
     "evalue": "name 'df' is not defined",
     "output_type": "error",
     "traceback": [
      "\u001b[1;31m---------------------------------------------------------------------------\u001b[0m",
      "\u001b[1;31mNameError\u001b[0m                                 Traceback (most recent call last)",
      "Cell \u001b[1;32mIn[8], line 2\u001b[0m\n\u001b[0;32m      1\u001b[0m \u001b[38;5;66;03m# Αντικατάσταση των τιμών των κατηγορικών μεταβλητών με αριθμούς\u001b[39;00m\n\u001b[1;32m----> 2\u001b[0m \u001b[43mdf\u001b[49m[\u001b[38;5;124m'\u001b[39m\u001b[38;5;124mPrivate\u001b[39m\u001b[38;5;124m'\u001b[39m]\u001b[38;5;241m.\u001b[39mreplace({\u001b[38;5;124m'\u001b[39m\u001b[38;5;124mNo\u001b[39m\u001b[38;5;124m'\u001b[39m: \u001b[38;5;241m0\u001b[39m, \u001b[38;5;124m'\u001b[39m\u001b[38;5;124mYes\u001b[39m\u001b[38;5;124m'\u001b[39m: \u001b[38;5;241m1\u001b[39m}, inplace\u001b[38;5;241m=\u001b[39m\u001b[38;5;28;01mTrue\u001b[39;00m)\n",
      "\u001b[1;31mNameError\u001b[0m: name 'df' is not defined"
     ]
    }
   ],
   "source": [
    "# Αντικατάσταση των τιμών των κατηγορικών μεταβλητών με αριθμούς\n",
    "df['Private'].replace({'No': 0, 'Yes': 1}, inplace=True)"
   ]
  },
  {
   "cell_type": "code",
   "execution_count": 9,
   "id": "8151dc0c870762f5",
   "metadata": {
    "ExecuteTime": {
     "end_time": "2024-06-23T11:24:54.535929Z",
     "start_time": "2024-06-23T11:24:54.527683Z"
    },
    "tags": []
   },
   "outputs": [
    {
     "ename": "NameError",
     "evalue": "name 'df' is not defined",
     "output_type": "error",
     "traceback": [
      "\u001b[1;31m---------------------------------------------------------------------------\u001b[0m",
      "\u001b[1;31mNameError\u001b[0m                                 Traceback (most recent call last)",
      "Cell \u001b[1;32mIn[9], line 2\u001b[0m\n\u001b[0;32m      1\u001b[0m \u001b[38;5;66;03m# Αφαιρεί τις στήλες που δεν προσφέρουν πληροφορίες για την ανάλυση των δεδομένων\u001b[39;00m\n\u001b[1;32m----> 2\u001b[0m df \u001b[38;5;241m=\u001b[39m \u001b[43mdf\u001b[49m\u001b[38;5;241m.\u001b[39mdrop([\u001b[38;5;124m\"\u001b[39m\u001b[38;5;124mUnnamed: 0\u001b[39m\u001b[38;5;124m\"\u001b[39m] ,axis\u001b[38;5;241m=\u001b[39m\u001b[38;5;241m1\u001b[39m)\n",
      "\u001b[1;31mNameError\u001b[0m: name 'df' is not defined"
     ]
    }
   ],
   "source": [
    "# Αφαιρεί τις στήλες που δεν προσφέρουν πληροφορίες για την ανάλυση των δεδομένων\n",
    "df = df.drop([\"Unnamed: 0\"] ,axis=1)"
   ]
  },
  {
   "cell_type": "code",
   "execution_count": 10,
   "id": "5e4bf4269c529003",
   "metadata": {
    "ExecuteTime": {
     "end_time": "2024-06-23T11:24:55.687003Z",
     "start_time": "2024-06-23T11:24:55.679097Z"
    },
    "tags": []
   },
   "outputs": [
    {
     "ename": "NameError",
     "evalue": "name 'np' is not defined",
     "output_type": "error",
     "traceback": [
      "\u001b[1;31m---------------------------------------------------------------------------\u001b[0m",
      "\u001b[1;31mNameError\u001b[0m                                 Traceback (most recent call last)",
      "Cell \u001b[1;32mIn[10], line 2\u001b[0m\n\u001b[0;32m      1\u001b[0m \u001b[38;5;66;03m# Ελέγχει αν υπάρχουν τιμές στο dataset που τείνουν στο άπειρο\u001b[39;00m\n\u001b[1;32m----> 2\u001b[0m \u001b[38;5;28;01mif\u001b[39;00m \u001b[43mnp\u001b[49m\u001b[38;5;241m.\u001b[39many(np\u001b[38;5;241m.\u001b[39misinf(df)):\n\u001b[0;32m      3\u001b[0m     \u001b[38;5;28mprint\u001b[39m(\u001b[38;5;124m\"\u001b[39m\u001b[38;5;124mData contains infinite values. Replacing them with NaN.\u001b[39m\u001b[38;5;124m\"\u001b[39m)\n\u001b[0;32m      4\u001b[0m     df\u001b[38;5;241m.\u001b[39mreplace([np\u001b[38;5;241m.\u001b[39minf, \u001b[38;5;241m-\u001b[39mnp\u001b[38;5;241m.\u001b[39minf], np\u001b[38;5;241m.\u001b[39mnan, inplace\u001b[38;5;241m=\u001b[39m\u001b[38;5;28;01mTrue\u001b[39;00m)\n",
      "\u001b[1;31mNameError\u001b[0m: name 'np' is not defined"
     ]
    }
   ],
   "source": [
    "# Ελέγχει αν υπάρχουν τιμές στο dataset που τείνουν στο άπειρο\n",
    "if np.any(np.isinf(df)):\n",
    "    print(\"Data contains infinite values. Replacing them with NaN.\")\n",
    "    df.replace([np.inf, -np.inf], np.nan, inplace=True)"
   ]
  },
  {
   "cell_type": "code",
   "execution_count": 11,
   "id": "cbc46fa8e38365e9",
   "metadata": {
    "ExecuteTime": {
     "end_time": "2024-06-23T11:24:56.471104Z",
     "start_time": "2024-06-23T11:24:56.460280Z"
    },
    "tags": []
   },
   "outputs": [
    {
     "ename": "NameError",
     "evalue": "name 'df' is not defined",
     "output_type": "error",
     "traceback": [
      "\u001b[1;31m---------------------------------------------------------------------------\u001b[0m",
      "\u001b[1;31mNameError\u001b[0m                                 Traceback (most recent call last)",
      "Cell \u001b[1;32mIn[11], line 3\u001b[0m\n\u001b[0;32m      1\u001b[0m \u001b[38;5;66;03m# Ελέγχει αν υπάρχουν τιμές NaN στο dataset. \u001b[39;00m\n\u001b[0;32m      2\u001b[0m \u001b[38;5;66;03m# Αν τρέξω την εντολή πριν από την παρουσίαση των δεδομένων που βρίσκεται στη συνέχεια η παρουσίαση θα γίνει χωρίς αυτές τις τιμές. Καλό θα ήταν η εντολή να τρέξει μετά την παρουσίαση των δεδομένων ώστε να μπορούν να τρέξουν και τα μοντέλα.\u001b[39;00m\n\u001b[1;32m----> 3\u001b[0m \u001b[38;5;28;01mif\u001b[39;00m \u001b[43mdf\u001b[49m\u001b[38;5;241m.\u001b[39misnull()\u001b[38;5;241m.\u001b[39mvalues\u001b[38;5;241m.\u001b[39many():\n\u001b[0;32m      4\u001b[0m     \u001b[38;5;28mprint\u001b[39m(\u001b[38;5;124m\"\u001b[39m\u001b[38;5;124mData contains NaN values. Please handle missing data before proceeding.\u001b[39m\u001b[38;5;124m\"\u001b[39m)\n\u001b[0;32m      5\u001b[0m     df\u001b[38;5;241m.\u001b[39mdropna(inplace\u001b[38;5;241m=\u001b[39m\u001b[38;5;28;01mTrue\u001b[39;00m)\n",
      "\u001b[1;31mNameError\u001b[0m: name 'df' is not defined"
     ]
    }
   ],
   "source": [
    "# Ελέγχει αν υπάρχουν τιμές NaN στο dataset. \n",
    "# Αν τρέξω την εντολή πριν από την παρουσίαση των δεδομένων που βρίσκεται στη συνέχεια η παρουσίαση θα γίνει χωρίς αυτές τις τιμές. Καλό θα ήταν η εντολή να τρέξει μετά την παρουσίαση των δεδομένων ώστε να μπορούν να τρέξουν και τα μοντέλα.\n",
    "if df.isnull().values.any():\n",
    "    print(\"Data contains NaN values. Please handle missing data before proceeding.\")\n",
    "    df.dropna(inplace=True)"
   ]
  },
  {
   "cell_type": "markdown",
   "id": "a80dccd09c53184d",
   "metadata": {},
   "source": [
    "# <span style=\"color:cyan\">ΣΥΝΟΠΤΙΚΗ ΠΑΡΟΥΣΙΑΣΗ ΤΩΝ ΔΕΔΟΜΕΝΩΝ\n"
   ]
  },
  {
   "cell_type": "code",
   "execution_count": 12,
   "id": "35ac94dda1ddc096",
   "metadata": {
    "ExecuteTime": {
     "end_time": "2024-06-23T11:24:57.954832Z",
     "start_time": "2024-06-23T11:24:57.946978Z"
    },
    "tags": []
   },
   "outputs": [
    {
     "ename": "NameError",
     "evalue": "name 'df' is not defined",
     "output_type": "error",
     "traceback": [
      "\u001b[1;31m---------------------------------------------------------------------------\u001b[0m",
      "\u001b[1;31mNameError\u001b[0m                                 Traceback (most recent call last)",
      "Cell \u001b[1;32mIn[12], line 2\u001b[0m\n\u001b[0;32m      1\u001b[0m \u001b[38;5;66;03m#Επιστρέφει το σύνολο των γραμμών του αρχείου στο οποίο βρίσκονται τα δεδομένα\u001b[39;00m\n\u001b[1;32m----> 2\u001b[0m \u001b[38;5;28mlen\u001b[39m(\u001b[43mdf\u001b[49m)\n",
      "\u001b[1;31mNameError\u001b[0m: name 'df' is not defined"
     ]
    }
   ],
   "source": [
    "#Επιστρέφει το σύνολο των γραμμών του αρχείου στο οποίο βρίσκονται τα δεδομένα\n",
    "len(df)"
   ]
  },
  {
   "cell_type": "code",
   "execution_count": 13,
   "id": "b3ef1fcadfff81e6",
   "metadata": {
    "ExecuteTime": {
     "end_time": "2024-06-23T11:24:58.948665Z",
     "start_time": "2024-06-23T11:24:58.938207Z"
    },
    "tags": []
   },
   "outputs": [
    {
     "ename": "NameError",
     "evalue": "name 'df' is not defined",
     "output_type": "error",
     "traceback": [
      "\u001b[1;31m---------------------------------------------------------------------------\u001b[0m",
      "\u001b[1;31mNameError\u001b[0m                                 Traceback (most recent call last)",
      "Cell \u001b[1;32mIn[13], line 2\u001b[0m\n\u001b[0;32m      1\u001b[0m \u001b[38;5;66;03m#Επιστρέφει τα ονόματα των στηλών του αρχείου στο οποίο βρίσκονται τα δεδομένα\u001b[39;00m\n\u001b[1;32m----> 2\u001b[0m \u001b[43mdf\u001b[49m\u001b[38;5;241m.\u001b[39mcolumns\n",
      "\u001b[1;31mNameError\u001b[0m: name 'df' is not defined"
     ]
    }
   ],
   "source": [
    "#Επιστρέφει τα ονόματα των στηλών του αρχείου στο οποίο βρίσκονται τα δεδομένα\n",
    "df.columns"
   ]
  },
  {
   "cell_type": "code",
   "execution_count": 15,
   "id": "ad0788cbe65e453",
   "metadata": {
    "ExecuteTime": {
     "end_time": "2024-06-23T11:24:59.484715Z",
     "start_time": "2024-06-23T11:24:59.472677Z"
    },
    "tags": []
   },
   "outputs": [
    {
     "ename": "NameError",
     "evalue": "name 'df' is not defined",
     "output_type": "error",
     "traceback": [
      "\u001b[1;31m---------------------------------------------------------------------------\u001b[0m",
      "\u001b[1;31mNameError\u001b[0m                                 Traceback (most recent call last)",
      "Cell \u001b[1;32mIn[15], line 2\u001b[0m\n\u001b[0;32m      1\u001b[0m \u001b[38;5;66;03m#Δίνει τον τύπο των δεδομένων που περιέχονται στις στήλες του αρχείου.\u001b[39;00m\n\u001b[1;32m----> 2\u001b[0m \u001b[43mdf\u001b[49m\u001b[38;5;241m.\u001b[39mdtypes\n",
      "\u001b[1;31mNameError\u001b[0m: name 'df' is not defined"
     ]
    }
   ],
   "source": [
    "#Δίνει τον τύπο των δεδομένων που περιέχονται στις στήλες του αρχείου.\n",
    "df.dtypes"
   ]
  },
  {
   "cell_type": "code",
   "execution_count": 16,
   "id": "d79f91bed04d00c3",
   "metadata": {
    "ExecuteTime": {
     "end_time": "2024-06-23T11:25:00.163591Z",
     "start_time": "2024-06-23T11:25:00.151172Z"
    },
    "tags": []
   },
   "outputs": [
    {
     "ename": "IndentationError",
     "evalue": "unexpected indent (1494192544.py, line 2)",
     "output_type": "error",
     "traceback": [
      "\u001b[1;36m  Cell \u001b[1;32mIn[16], line 2\u001b[1;36m\u001b[0m\n\u001b[1;33m    if set(df[column].unique()) == {0, 1}:\u001b[0m\n\u001b[1;37m    ^\u001b[0m\n\u001b[1;31mIndentationError\u001b[0m\u001b[1;31m:\u001b[0m unexpected indent\n"
     ]
    }
   ],
   "source": [
    "#Ορίζει της μεταβλητές που περιέχουν τιμές 0 και 1 ως κατηγορικές για λόγους παρουσίασης και κατανόησης των δεδομένων.\n",
    "    if set(df[column].unique()) == {0, 1}:\n",
    "        df[column] = df[column].astype('category')"
   ]
  },
  {
   "cell_type": "code",
   "execution_count": 17,
   "id": "f81c5a5046eadb59",
   "metadata": {
    "ExecuteTime": {
     "end_time": "2024-06-23T11:25:00.768793Z",
     "start_time": "2024-06-23T11:25:00.755966Z"
    },
    "tags": []
   },
   "outputs": [
    {
     "ename": "NameError",
     "evalue": "name 'df' is not defined",
     "output_type": "error",
     "traceback": [
      "\u001b[1;31m---------------------------------------------------------------------------\u001b[0m",
      "\u001b[1;31mNameError\u001b[0m                                 Traceback (most recent call last)",
      "Cell \u001b[1;32mIn[17], line 2\u001b[0m\n\u001b[0;32m      1\u001b[0m \u001b[38;5;66;03m# Εκτυπώνει το όνομα των στηλών και τον τύπο των δεδομένων που περιέχουν\u001b[39;00m\n\u001b[1;32m----> 2\u001b[0m \u001b[43mdf\u001b[49m\u001b[38;5;241m.\u001b[39minfo()\n",
      "\u001b[1;31mNameError\u001b[0m: name 'df' is not defined"
     ]
    }
   ],
   "source": [
    "# Εκτυπώνει το όνομα των στηλών και τον τύπο των δεδομένων που περιέχουν\n",
    "df.info()"
   ]
  },
  {
   "cell_type": "code",
   "execution_count": 18,
   "id": "4025067156dbb675",
   "metadata": {
    "ExecuteTime": {
     "end_time": "2024-06-23T11:28:10.811447Z",
     "start_time": "2024-06-23T11:28:10.804541Z"
    },
    "tags": []
   },
   "outputs": [
    {
     "ename": "NameError",
     "evalue": "name 'df' is not defined",
     "output_type": "error",
     "traceback": [
      "\u001b[1;31m---------------------------------------------------------------------------\u001b[0m",
      "\u001b[1;31mNameError\u001b[0m                                 Traceback (most recent call last)",
      "Cell \u001b[1;32mIn[18], line 2\u001b[0m\n\u001b[0;32m      1\u001b[0m \u001b[38;5;66;03m#Εκτυπώνει το είδος της κάθε μεταβλητής του dataset \u001b[39;00m\n\u001b[1;32m----> 2\u001b[0m \u001b[38;5;28mprint\u001b[39m(\u001b[43mdf\u001b[49m\u001b[38;5;241m.\u001b[39mdtypes)\n",
      "\u001b[1;31mNameError\u001b[0m: name 'df' is not defined"
     ]
    }
   ],
   "source": [
    "#Εκτυπώνει το είδος της κάθε μεταβλητής του dataset \n",
    "print(df.dtypes)"
   ]
  },
  {
   "cell_type": "code",
   "execution_count": 19,
   "id": "8c2ee550bd0740fc",
   "metadata": {
    "ExecuteTime": {
     "end_time": "2024-06-23T11:28:11.939131Z",
     "start_time": "2024-06-23T11:28:11.901008Z"
    },
    "tags": []
   },
   "outputs": [
    {
     "ename": "NameError",
     "evalue": "name 'df' is not defined",
     "output_type": "error",
     "traceback": [
      "\u001b[1;31m---------------------------------------------------------------------------\u001b[0m",
      "\u001b[1;31mNameError\u001b[0m                                 Traceback (most recent call last)",
      "Cell \u001b[1;32mIn[19], line 2\u001b[0m\n\u001b[0;32m      1\u001b[0m \u001b[38;5;66;03m#Δίνει τον πίνακα συσχέτισης των μεταβλητών του dataset\u001b[39;00m\n\u001b[1;32m----> 2\u001b[0m \u001b[43mdf\u001b[49m\u001b[38;5;241m.\u001b[39mcorr()\n",
      "\u001b[1;31mNameError\u001b[0m: name 'df' is not defined"
     ]
    }
   ],
   "source": [
    "#Δίνει τον πίνακα συσχέτισης των μεταβλητών του dataset\n",
    "df.corr()"
   ]
  },
  {
   "cell_type": "code",
   "execution_count": 81,
   "id": "d03a9cd14898499b",
   "metadata": {
    "ExecuteTime": {
     "end_time": "2024-06-23T11:28:19.222865Z",
     "start_time": "2024-06-23T11:28:19.205407Z"
    }
   },
   "outputs": [],
   "source": [
    "df['Private'] = df['Private'].astype('int64')"
   ]
  },
  {
   "cell_type": "markdown",
   "id": "346609eefee64988",
   "metadata": {},
   "source": [
    "# <span style=\"color:cyan\">ΠΕΡΙΓΡΑΦΙΚΗ ΣΤΑΤΙΣΤΙΚΗ ΣΤΟΙΧΕΙΑ ΤΩΝ ΔΕΔΟΜΕΝΩΝ"
   ]
  },
  {
   "cell_type": "code",
   "execution_count": 26,
   "id": "c9c8f77ec9a4a5ee",
   "metadata": {
    "ExecuteTime": {
     "end_time": "2024-06-23T11:28:21.812847Z",
     "start_time": "2024-06-23T11:28:21.733340Z"
    },
    "tags": []
   },
   "outputs": [
    {
     "ename": "NameError",
     "evalue": "name 'df' is not defined",
     "output_type": "error",
     "traceback": [
      "\u001b[1;31m---------------------------------------------------------------------------\u001b[0m",
      "\u001b[1;31mNameError\u001b[0m                                 Traceback (most recent call last)",
      "Cell \u001b[1;32mIn[26], line 2\u001b[0m\n\u001b[0;32m      1\u001b[0m \u001b[38;5;66;03m# Αφαιρεί τις στήλες που δεν προσφέρουν πληροφορίες για την ανάλυση των δεδομένων\u001b[39;00m\n\u001b[1;32m----> 2\u001b[0m df \u001b[38;5;241m=\u001b[39m \u001b[43mdf\u001b[49m\u001b[38;5;241m.\u001b[39mdrop([\u001b[38;5;124m\"\u001b[39m\u001b[38;5;124mUnnamed: 0\u001b[39m\u001b[38;5;124m\"\u001b[39m] ,axis\u001b[38;5;241m=\u001b[39m\u001b[38;5;241m1\u001b[39m)\n",
      "\u001b[1;31mNameError\u001b[0m: name 'df' is not defined"
     ]
    }
   ],
   "source": [
    "# Αφαιρεί τις στήλες που δεν προσφέρουν πληροφορίες για την ανάλυση των δεδομένων\n",
    "df = df.drop([\"Unnamed: 0\"] ,axis=1)"
   ]
  },
  {
   "cell_type": "code",
   "execution_count": 27,
   "id": "6b71a682ccc7ca65",
   "metadata": {
    "ExecuteTime": {
     "end_time": "2024-06-23T11:28:23.060916Z",
     "start_time": "2024-06-23T11:28:22.987765Z"
    },
    "tags": []
   },
   "outputs": [
    {
     "ename": "NameError",
     "evalue": "name 'df' is not defined",
     "output_type": "error",
     "traceback": [
      "\u001b[1;31m---------------------------------------------------------------------------\u001b[0m",
      "\u001b[1;31mNameError\u001b[0m                                 Traceback (most recent call last)",
      "Cell \u001b[1;32mIn[27], line 2\u001b[0m\n\u001b[0;32m      1\u001b[0m \u001b[38;5;66;03m# Εκτυπώνει τα περιγραφικά στατιστικά των αριθμητικών μεταβλητών\u001b[39;00m\n\u001b[1;32m----> 2\u001b[0m \u001b[43mdf\u001b[49m\u001b[38;5;241m.\u001b[39mdescribe()\n",
      "\u001b[1;31mNameError\u001b[0m: name 'df' is not defined"
     ]
    }
   ],
   "source": [
    "# Εκτυπώνει τα περιγραφικά στατιστικά των αριθμητικών μεταβλητών\n",
    "df.describe()"
   ]
  },
  {
   "cell_type": "code",
   "execution_count": 28,
   "id": "70fed3c9254035c0",
   "metadata": {
    "ExecuteTime": {
     "end_time": "2024-06-23T11:28:24.532414Z",
     "start_time": "2024-06-23T11:28:24.464111Z"
    },
    "tags": []
   },
   "outputs": [
    {
     "ename": "NameError",
     "evalue": "name 'df' is not defined",
     "output_type": "error",
     "traceback": [
      "\u001b[1;31m---------------------------------------------------------------------------\u001b[0m",
      "\u001b[1;31mNameError\u001b[0m                                 Traceback (most recent call last)",
      "Cell \u001b[1;32mIn[28], line 2\u001b[0m\n\u001b[0;32m      1\u001b[0m \u001b[38;5;66;03m#Εκτυπώνει τα περιγραφικά στατιστικά όλων των μεταβλητών συμπεριλαμβανομένων και των κατηγορικών.\u001b[39;00m\n\u001b[1;32m----> 2\u001b[0m \u001b[43mdf\u001b[49m\u001b[38;5;241m.\u001b[39mdescribe(include\u001b[38;5;241m=\u001b[39m\u001b[38;5;124m'\u001b[39m\u001b[38;5;124mall\u001b[39m\u001b[38;5;124m'\u001b[39m)\n",
      "\u001b[1;31mNameError\u001b[0m: name 'df' is not defined"
     ]
    }
   ],
   "source": [
    "#Εκτυπώνει τα περιγραφικά στατιστικά όλων των μεταβλητών συμπεριλαμβανομένων και των κατηγορικών.\n",
    "df.describe(include='all')"
   ]
  },
  {
   "cell_type": "code",
   "execution_count": 30,
   "id": "6ad5996fb88e15c1",
   "metadata": {
    "ExecuteTime": {
     "end_time": "2024-06-23T11:28:39.109859Z",
     "start_time": "2024-06-23T11:28:39.096167Z"
    },
    "tags": []
   },
   "outputs": [
    {
     "ename": "NameError",
     "evalue": "name 'df' is not defined",
     "output_type": "error",
     "traceback": [
      "\u001b[1;31m---------------------------------------------------------------------------\u001b[0m",
      "\u001b[1;31mNameError\u001b[0m                                 Traceback (most recent call last)",
      "Cell \u001b[1;32mIn[30], line 2\u001b[0m\n\u001b[0;32m      1\u001b[0m \u001b[38;5;66;03m#Εναλλακτικός τρόπος για την εκτύπωση των περιγραφικών στατιστικών μιας μόνο μεταβλητής\u001b[39;00m\n\u001b[1;32m----> 2\u001b[0m \u001b[43mdf\u001b[49m\u001b[38;5;241m.\u001b[39mPrivate \u001b[38;5;241m.\u001b[39mdescribe()\n",
      "\u001b[1;31mNameError\u001b[0m: name 'df' is not defined"
     ]
    }
   ],
   "source": [
    "#Εναλλακτικός τρόπος για την εκτύπωση των περιγραφικών στατιστικών μιας μόνο μεταβλητής\n",
    "df.Private .describe()"
   ]
  },
  {
   "cell_type": "code",
   "execution_count": 31,
   "id": "772da3f2baaf8a95",
   "metadata": {
    "ExecuteTime": {
     "end_time": "2024-06-23T11:28:40.562965Z",
     "start_time": "2024-06-23T11:28:40.550806Z"
    },
    "tags": []
   },
   "outputs": [
    {
     "ename": "NameError",
     "evalue": "name 'df' is not defined",
     "output_type": "error",
     "traceback": [
      "\u001b[1;31m---------------------------------------------------------------------------\u001b[0m",
      "\u001b[1;31mNameError\u001b[0m                                 Traceback (most recent call last)",
      "Cell \u001b[1;32mIn[31], line 2\u001b[0m\n\u001b[0;32m      1\u001b[0m \u001b[38;5;66;03m#Μετρά το σύνολο των παρατηρήσεων σε μια συγκεκριμένη στήλη του dataset. Το ίδιο μπορεί να γίνει και για όλες τις άλλες στήλες.\u001b[39;00m\n\u001b[1;32m----> 2\u001b[0m \u001b[43mdf\u001b[49m\u001b[38;5;241m.\u001b[39mPrivate \u001b[38;5;241m.\u001b[39mvalue_counts()\n\u001b[0;32m      4\u001b[0m \u001b[38;5;66;03m#Εναλλακτική σύνταξη για την εκτύπωση του παραπάνω κώδικα \u001b[39;00m\n\u001b[0;32m      5\u001b[0m \u001b[38;5;66;03m#df[\"Total_Credit_Cards\"].value_counts()\u001b[39;00m\n",
      "\u001b[1;31mNameError\u001b[0m: name 'df' is not defined"
     ]
    }
   ],
   "source": [
    "#Μετρά το σύνολο των παρατηρήσεων σε μια συγκεκριμένη στήλη του dataset. Το ίδιο μπορεί να γίνει και για όλες τις άλλες στήλες.\n",
    "df.Private .value_counts()\n",
    "\n",
    "#Εναλλακτική σύνταξη για την εκτύπωση του παραπάνω κώδικα \n",
    "#df[\"Total_Credit_Cards\"].value_counts()"
   ]
  },
  {
   "cell_type": "markdown",
   "id": "95f733e71c5d8c15",
   "metadata": {},
   "source": [
    "# <span style=\"color:cyan\">EXPLORATORY DATA ANALYSIS"
   ]
  },
  {
   "cell_type": "markdown",
   "id": "ba4fac719cfcaac1",
   "metadata": {},
   "source": [
    "<span style=\"color:blueviolet\">Ιστογράμματα"
   ]
  },
  {
   "cell_type": "code",
   "execution_count": 32,
   "id": "d0fe62e5dbba98",
   "metadata": {
    "ExecuteTime": {
     "end_time": "2024-06-23T11:31:30.586034Z",
     "start_time": "2024-06-23T11:31:23.981734Z"
    },
    "tags": []
   },
   "outputs": [
    {
     "ename": "NameError",
     "evalue": "name 'df' is not defined",
     "output_type": "error",
     "traceback": [
      "\u001b[1;31m---------------------------------------------------------------------------\u001b[0m",
      "\u001b[1;31mNameError\u001b[0m                                 Traceback (most recent call last)",
      "Cell \u001b[1;32mIn[32], line 2\u001b[0m\n\u001b[0;32m      1\u001b[0m \u001b[38;5;66;03m# Δημιουργία ιστογραμμάτων για όλες τις αριθμητικές στήλες\u001b[39;00m\n\u001b[1;32m----> 2\u001b[0m \u001b[38;5;28;01mfor\u001b[39;00m column \u001b[38;5;129;01min\u001b[39;00m \u001b[43mdf\u001b[49m\u001b[38;5;241m.\u001b[39mselect_dtypes(include\u001b[38;5;241m=\u001b[39m[np\u001b[38;5;241m.\u001b[39mnumber])\u001b[38;5;241m.\u001b[39mcolumns:\n\u001b[0;32m      3\u001b[0m     plt\u001b[38;5;241m.\u001b[39mfigure()\n\u001b[0;32m      4\u001b[0m     df[column]\u001b[38;5;241m.\u001b[39mplot(kind\u001b[38;5;241m=\u001b[39m\u001b[38;5;124m'\u001b[39m\u001b[38;5;124mhist\u001b[39m\u001b[38;5;124m'\u001b[39m, rwidth\u001b[38;5;241m=\u001b[39m\u001b[38;5;241m0.8\u001b[39m)\n",
      "\u001b[1;31mNameError\u001b[0m: name 'df' is not defined"
     ]
    }
   ],
   "source": [
    "# Δημιουργία ιστογραμμάτων για όλες τις αριθμητικές στήλες\n",
    "for column in df.select_dtypes(include=[np.number]).columns:\n",
    "    plt.figure()\n",
    "    df[column].plot(kind='hist', rwidth=0.8)\n",
    "    plt.title(column)\n",
    "    plt.show()"
   ]
  },
  {
   "cell_type": "markdown",
   "id": "7b7fe840263e9cd7",
   "metadata": {},
   "source": [
    "<span style=\"color:blueviolet\">Διαγράμματα διασποράς με τη βιβλιοθήκη matplotlib"
   ]
  },
  {
   "cell_type": "code",
   "execution_count": 33,
   "id": "a985912fb0689a66",
   "metadata": {
    "ExecuteTime": {
     "end_time": "2024-06-23T11:32:24.298928Z",
     "start_time": "2024-06-23T11:31:39.098384Z"
    },
    "tags": []
   },
   "outputs": [
    {
     "ename": "NameError",
     "evalue": "name 'df' is not defined",
     "output_type": "error",
     "traceback": [
      "\u001b[1;31m---------------------------------------------------------------------------\u001b[0m",
      "\u001b[1;31mNameError\u001b[0m                                 Traceback (most recent call last)",
      "Cell \u001b[1;32mIn[33], line 2\u001b[0m\n\u001b[0;32m      1\u001b[0m \u001b[38;5;66;03m#Χρησιμοποιείται αυτή η εντολή για να μη δημιουργούνται ξεχωριστές εντολές για κάθε διάγραμμα διασποράς.\u001b[39;00m\n\u001b[1;32m----> 2\u001b[0m variables \u001b[38;5;241m=\u001b[39m \u001b[43mdf\u001b[49m\u001b[38;5;241m.\u001b[39mcolumns\n\u001b[0;32m      4\u001b[0m \u001b[38;5;66;03m#Δημιουργία διαγραμμάτων διασποράς ανά ζεύγος μεταβλητών\u001b[39;00m\n\u001b[0;32m      5\u001b[0m \u001b[38;5;28;01mfor\u001b[39;00m i \u001b[38;5;129;01min\u001b[39;00m \u001b[38;5;28mrange\u001b[39m(\u001b[38;5;28mlen\u001b[39m(variables)):\n",
      "\u001b[1;31mNameError\u001b[0m: name 'df' is not defined"
     ]
    }
   ],
   "source": [
    "#Χρησιμοποιείται αυτή η εντολή για να μη δημιουργούνται ξεχωριστές εντολές για κάθε διάγραμμα διασποράς.\n",
    "variables = df.columns\n",
    "\n",
    "#Δημιουργία διαγραμμάτων διασποράς ανά ζεύγος μεταβλητών\n",
    "for i in range(len(variables)):\n",
    "    for j in range(i+1, len(variables)):\n",
    "        plt.scatter(df[variables[i]], df[variables[j]], color='yellow')\n",
    "\n",
    "    #Προσαρμογή των ονομάτων των αξόνων\n",
    "        plt.xlabel(variables[i])\n",
    "        plt.ylabel(variables[j])\n",
    "\n",
    "        plt.show()"
   ]
  },
  {
   "cell_type": "markdown",
   "id": "468f8a916b5366a0",
   "metadata": {},
   "source": [
    "<span style=\"color:blueviolet\">Διαγράμματα διασποράς με τη βιβλιοθήκη seaborn"
   ]
  },
  {
   "cell_type": "code",
   "execution_count": 34,
   "id": "7769931bebed75de",
   "metadata": {
    "ExecuteTime": {
     "end_time": "2024-06-23T11:33:24.669277Z",
     "start_time": "2024-06-23T11:32:35.914318Z"
    },
    "tags": []
   },
   "outputs": [
    {
     "ename": "NameError",
     "evalue": "name 'df' is not defined",
     "output_type": "error",
     "traceback": [
      "\u001b[1;31m---------------------------------------------------------------------------\u001b[0m",
      "\u001b[1;31mNameError\u001b[0m                                 Traceback (most recent call last)",
      "Cell \u001b[1;32mIn[34], line 2\u001b[0m\n\u001b[0;32m      1\u001b[0m \u001b[38;5;66;03m#Χρησιμοποιείται αυτή η εντολή για να μη δημιουργούνται ξεχωριστές εντολές για κάθε διάγραμμα διασποράς.\u001b[39;00m\n\u001b[1;32m----> 2\u001b[0m variables \u001b[38;5;241m=\u001b[39m \u001b[43mdf\u001b[49m\u001b[38;5;241m.\u001b[39mcolumns\n\u001b[0;32m      4\u001b[0m \u001b[38;5;66;03m#Δημιουργία διαγραμμάτων διασποράς ανά ζεύγος μεταβλητών\u001b[39;00m\n\u001b[0;32m      5\u001b[0m \u001b[38;5;28;01mfor\u001b[39;00m i \u001b[38;5;129;01min\u001b[39;00m \u001b[38;5;28mrange\u001b[39m(\u001b[38;5;28mlen\u001b[39m(variables)):\n",
      "\u001b[1;31mNameError\u001b[0m: name 'df' is not defined"
     ]
    }
   ],
   "source": [
    "#Χρησιμοποιείται αυτή η εντολή για να μη δημιουργούνται ξεχωριστές εντολές για κάθε διάγραμμα διασποράς.\n",
    "variables = df.columns\n",
    "\n",
    "#Δημιουργία διαγραμμάτων διασποράς ανά ζεύγος μεταβλητών\n",
    "for i in range(len(variables)):\n",
    "    for j in range(i+1, len(variables)):\n",
    "        sns.scatterplot(data=df, x=variables[i], y=variables[j])\n",
    "\n",
    "        #Προσαρμογή των ονομάτων των αξόνων\n",
    "        plt.xlabel(variables[i])\n",
    "        plt.ylabel(variables[j])\n",
    "\n",
    "        plt.show()"
   ]
  },
  {
   "cell_type": "code",
   "execution_count": 35,
   "id": "71a0c82318747c1a",
   "metadata": {
    "ExecuteTime": {
     "end_time": "2024-06-23T11:35:18.635287Z",
     "start_time": "2024-06-23T11:33:51.436648Z"
    },
    "tags": []
   },
   "outputs": [
    {
     "ename": "NameError",
     "evalue": "name 'sns' is not defined",
     "output_type": "error",
     "traceback": [
      "\u001b[1;31m---------------------------------------------------------------------------\u001b[0m",
      "\u001b[1;31mNameError\u001b[0m                                 Traceback (most recent call last)",
      "Cell \u001b[1;32mIn[35], line 2\u001b[0m\n\u001b[0;32m      1\u001b[0m \u001b[38;5;66;03m# Δημιουργία διαγραμμάτων διασποράς χωρίς τα ιστογράμματα\u001b[39;00m\n\u001b[1;32m----> 2\u001b[0m \u001b[43msns\u001b[49m\u001b[38;5;241m.\u001b[39mset(style\u001b[38;5;241m=\u001b[39m\u001b[38;5;124m\"\u001b[39m\u001b[38;5;124mticks\u001b[39m\u001b[38;5;124m\"\u001b[39m)\n\u001b[0;32m      3\u001b[0m sns\u001b[38;5;241m.\u001b[39mpairplot(df, diag_kind\u001b[38;5;241m=\u001b[39m\u001b[38;5;124m\"\u001b[39m\u001b[38;5;124mnone\u001b[39m\u001b[38;5;124m\"\u001b[39m)\n\u001b[0;32m      4\u001b[0m plt\u001b[38;5;241m.\u001b[39mshow()\n",
      "\u001b[1;31mNameError\u001b[0m: name 'sns' is not defined"
     ]
    }
   ],
   "source": [
    "# Δημιουργία διαγραμμάτων διασποράς χωρίς τα ιστογράμματα\n",
    "sns.set(style=\"ticks\")\n",
    "sns.pairplot(df, diag_kind=\"none\")\n",
    "plt.show()"
   ]
  },
  {
   "cell_type": "markdown",
   "id": "d316177c89c4484e",
   "metadata": {},
   "source": [
    "<span style=\"color:blueviolet\">Διαγράμματα διασποράς με τη βιβλιοθήκη plotly "
   ]
  },
  {
   "cell_type": "code",
   "execution_count": 36,
   "id": "74ddc93a9447af59",
   "metadata": {
    "ExecuteTime": {
     "end_time": "2024-06-23T11:40:34.250229Z",
     "start_time": "2024-06-23T11:40:22.566882Z"
    },
    "tags": []
   },
   "outputs": [
    {
     "ename": "NameError",
     "evalue": "name 'df' is not defined",
     "output_type": "error",
     "traceback": [
      "\u001b[1;31m---------------------------------------------------------------------------\u001b[0m",
      "\u001b[1;31mNameError\u001b[0m                                 Traceback (most recent call last)",
      "Cell \u001b[1;32mIn[36], line 2\u001b[0m\n\u001b[0;32m      1\u001b[0m \u001b[38;5;66;03m#Χρησιμοποιείται αυτή η εντολή για να μη δημιουργούνται ξεχωριστές εντολές για κάθε διάγραμμα διασποράς.\u001b[39;00m\n\u001b[1;32m----> 2\u001b[0m variables \u001b[38;5;241m=\u001b[39m \u001b[43mdf\u001b[49m\u001b[38;5;241m.\u001b[39mcolumns\n\u001b[0;32m      4\u001b[0m \u001b[38;5;66;03m#Δημιουργία διαγραμμάτων διασποράς ανά ζεύγος μεταβλητών\u001b[39;00m\n\u001b[0;32m      5\u001b[0m \u001b[38;5;28;01mfor\u001b[39;00m i \u001b[38;5;129;01min\u001b[39;00m \u001b[38;5;28mrange\u001b[39m(\u001b[38;5;28mlen\u001b[39m(variables)):\n",
      "\u001b[1;31mNameError\u001b[0m: name 'df' is not defined"
     ]
    }
   ],
   "source": [
    "#Χρησιμοποιείται αυτή η εντολή για να μη δημιουργούνται ξεχωριστές εντολές για κάθε διάγραμμα διασποράς.\n",
    "variables = df.columns\n",
    "\n",
    "#Δημιουργία διαγραμμάτων διασποράς ανά ζεύγος μεταβλητών\n",
    "for i in range(len(variables)):\n",
    "    for j in range(i+1, len(variables)):\n",
    "        fig = px.scatter(df, x=variables[i], y=variables[j], title=f\"Correlation between {variables[i]} and {variables[j]}\")\n",
    "        fig.show()"
   ]
  },
  {
   "cell_type": "code",
   "execution_count": 37,
   "id": "d4e3fb4e0e7a3253",
   "metadata": {
    "ExecuteTime": {
     "end_time": "2024-06-23T11:41:12.084829Z",
     "start_time": "2024-06-23T11:41:11.946431Z"
    },
    "tags": []
   },
   "outputs": [
    {
     "ename": "NameError",
     "evalue": "name 'px' is not defined",
     "output_type": "error",
     "traceback": [
      "\u001b[1;31m---------------------------------------------------------------------------\u001b[0m",
      "\u001b[1;31mNameError\u001b[0m                                 Traceback (most recent call last)",
      "Cell \u001b[1;32mIn[37], line 2\u001b[0m\n\u001b[0;32m      1\u001b[0m \u001b[38;5;66;03m# Δημιουργία διαγράμματος διασποράς για όλα τα ζεύγη μεταβλητών\u001b[39;00m\n\u001b[1;32m----> 2\u001b[0m fig \u001b[38;5;241m=\u001b[39m \u001b[43mpx\u001b[49m\u001b[38;5;241m.\u001b[39mscatter_matrix(df)\n\u001b[0;32m      3\u001b[0m fig\u001b[38;5;241m.\u001b[39mshow()\n",
      "\u001b[1;31mNameError\u001b[0m: name 'px' is not defined"
     ]
    }
   ],
   "source": [
    "# Δημιουργία διαγράμματος διασποράς για όλα τα ζεύγη μεταβλητών\n",
    "fig = px.scatter_matrix(df)\n",
    "fig.show()"
   ]
  },
  {
   "cell_type": "markdown",
   "id": "25d242a29e51b85e",
   "metadata": {},
   "source": [
    "<span style=\"color:blueviolet\">Διαγράμματα για κατηγορικές μεταβλητές με τη βιβλιοθήκη seaborn"
   ]
  },
  {
   "cell_type": "code",
   "execution_count": 38,
   "id": "d9bd1801f247d103",
   "metadata": {
    "ExecuteTime": {
     "end_time": "2024-06-23T11:47:09.526887Z",
     "start_time": "2024-06-23T11:47:09.046031Z"
    },
    "tags": []
   },
   "outputs": [
    {
     "ename": "NameError",
     "evalue": "name 'sns' is not defined",
     "output_type": "error",
     "traceback": [
      "\u001b[1;31m---------------------------------------------------------------------------\u001b[0m",
      "\u001b[1;31mNameError\u001b[0m                                 Traceback (most recent call last)",
      "Cell \u001b[1;32mIn[38], line 2\u001b[0m\n\u001b[0;32m      1\u001b[0m \u001b[38;5;66;03m## Εκτυπώνει ένα διάγραμμα κατηγορικών μεταβλητών που έχουν τιμές 0 και 1 και έχουν διαφορετική σύνταξη αλλά ίδιο αποτέλεσμα\u001b[39;00m\n\u001b[1;32m----> 2\u001b[0m \u001b[43msns\u001b[49m\u001b[38;5;241m.\u001b[39mcatplot(x\u001b[38;5;241m=\u001b[39m\u001b[38;5;124m'\u001b[39m\u001b[38;5;124mPrivate\u001b[39m\u001b[38;5;124m'\u001b[39m, y\u001b[38;5;241m=\u001b[39m\u001b[38;5;124m\"\u001b[39m\u001b[38;5;124mPrivate\u001b[39m\u001b[38;5;124m\"\u001b[39m, data\u001b[38;5;241m=\u001b[39mdf)\n\u001b[0;32m      3\u001b[0m \u001b[38;5;66;03m#sns.catplot(x=\"Private\", y=\"Private\", data=df, kind=\"swarm\")\u001b[39;00m\n\u001b[0;32m      4\u001b[0m \u001b[38;5;66;03m#sns.swarmplot(x=\"Private\", y=\"Private\", data=df);\u001b[39;00m\n",
      "\u001b[1;31mNameError\u001b[0m: name 'sns' is not defined"
     ]
    }
   ],
   "source": [
    "## Εκτυπώνει ένα διάγραμμα κατηγορικών μεταβλητών που έχουν τιμές 0 και 1 και έχουν διαφορετική σύνταξη αλλά ίδιο αποτέλεσμα\n",
    "sns.catplot(x='Private', y=\"Private\", data=df)\n",
    "#sns.catplot(x=\"Private\", y=\"Private\", data=df, kind=\"swarm\")\n",
    "#sns.swarmplot(x=\"Private\", y=\"Private\", data=df);"
   ]
  },
  {
   "cell_type": "markdown",
   "id": "cc46a3cd639db256",
   "metadata": {},
   "source": [
    "# <span style=\"color:cyan\">Περιγραφικά στατιστικά του μέσου και του διάμεσου των μεταβλητών"
   ]
  },
  {
   "cell_type": "markdown",
   "id": "8bd319a0b1f85d05",
   "metadata": {},
   "source": [
    "<span style=\"color:blueviolet\">Μέσος όρος των μεταβλητών ομαδοποιημένα με βάση τον αριθμό των καρτών πιστωτικού χρέους"
   ]
  },
  {
   "cell_type": "code",
   "execution_count": 39,
   "id": "1ece2a1d3449da3d",
   "metadata": {
    "ExecuteTime": {
     "end_time": "2024-06-23T11:54:48.906636Z",
     "start_time": "2024-06-23T11:54:48.844682Z"
    },
    "tags": []
   },
   "outputs": [
    {
     "ename": "NameError",
     "evalue": "name 'df' is not defined",
     "output_type": "error",
     "traceback": [
      "\u001b[1;31m---------------------------------------------------------------------------\u001b[0m",
      "\u001b[1;31mNameError\u001b[0m                                 Traceback (most recent call last)",
      "Cell \u001b[1;32mIn[39], line 1\u001b[0m\n\u001b[1;32m----> 1\u001b[0m numeric_columns \u001b[38;5;241m=\u001b[39m \u001b[43mdf\u001b[49m\u001b[38;5;241m.\u001b[39mselect_dtypes(include\u001b[38;5;241m=\u001b[39m[np\u001b[38;5;241m.\u001b[39mnumber])\u001b[38;5;241m.\u001b[39mcolumns\n\u001b[0;32m      3\u001b[0m \u001b[38;5;28;01mfor\u001b[39;00m column \u001b[38;5;129;01min\u001b[39;00m numeric_columns:\n\u001b[0;32m      4\u001b[0m     \u001b[38;5;28;01mif\u001b[39;00m column \u001b[38;5;241m!=\u001b[39m \u001b[38;5;124m'\u001b[39m\u001b[38;5;124mPrivate\u001b[39m\u001b[38;5;124m'\u001b[39m:\n",
      "\u001b[1;31mNameError\u001b[0m: name 'df' is not defined"
     ]
    }
   ],
   "source": [
    "numeric_columns = df.select_dtypes(include=[np.number]).columns\n",
    "\n",
    "for column in numeric_columns:\n",
    "    if column != 'Private':\n",
    "        print(df.groupby('Private', as_index=False)[column].mean())"
   ]
  },
  {
   "cell_type": "markdown",
   "id": "a6e2e087f415aa28",
   "metadata": {},
   "source": [
    "<span style=\"color:blueviolet\">Διάμεσος των μεταβλητών ομαδοποιημένα με βάση τον αριθμό των καρτών πιστωτικού χρέους"
   ]
  },
  {
   "cell_type": "code",
   "execution_count": 40,
   "id": "c03e6e3a6aa8238f",
   "metadata": {
    "ExecuteTime": {
     "end_time": "2024-06-23T11:55:15.845387Z",
     "start_time": "2024-06-23T11:55:15.770295Z"
    },
    "tags": []
   },
   "outputs": [
    {
     "ename": "NameError",
     "evalue": "name 'df' is not defined",
     "output_type": "error",
     "traceback": [
      "\u001b[1;31m---------------------------------------------------------------------------\u001b[0m",
      "\u001b[1;31mNameError\u001b[0m                                 Traceback (most recent call last)",
      "Cell \u001b[1;32mIn[40], line 1\u001b[0m\n\u001b[1;32m----> 1\u001b[0m numeric_columns \u001b[38;5;241m=\u001b[39m \u001b[43mdf\u001b[49m\u001b[38;5;241m.\u001b[39mselect_dtypes(include\u001b[38;5;241m=\u001b[39m[np\u001b[38;5;241m.\u001b[39mnumber])\u001b[38;5;241m.\u001b[39mcolumns\n\u001b[0;32m      3\u001b[0m \u001b[38;5;28;01mfor\u001b[39;00m column \u001b[38;5;129;01min\u001b[39;00m numeric_columns:\n\u001b[0;32m      4\u001b[0m     \u001b[38;5;28;01mif\u001b[39;00m column \u001b[38;5;241m!=\u001b[39m \u001b[38;5;124m'\u001b[39m\u001b[38;5;124mPrivate\u001b[39m\u001b[38;5;124m'\u001b[39m:\n",
      "\u001b[1;31mNameError\u001b[0m: name 'df' is not defined"
     ]
    }
   ],
   "source": [
    "numeric_columns = df.select_dtypes(include=[np.number]).columns\n",
    "\n",
    "for column in numeric_columns:\n",
    "    if column != 'Private':\n",
    "        print(df.groupby('Private', as_index=False)[column].median())"
   ]
  },
  {
   "cell_type": "markdown",
   "id": "e21a6e26c19a21cb",
   "metadata": {},
   "source": [
    "<span style=\"color:blueviolet\">Διαγράμματα των μεταβλητών ομαδοποιημένα με βάση τον αριθμό των καρτών πιστωτικού χρέους"
   ]
  },
  {
   "cell_type": "code",
   "execution_count": 41,
   "id": "13f2d038fc5c3b40",
   "metadata": {
    "ExecuteTime": {
     "end_time": "2024-06-23T11:57:54.858045Z",
     "start_time": "2024-06-23T11:55:58.263146Z"
    },
    "tags": []
   },
   "outputs": [
    {
     "ename": "NameError",
     "evalue": "name 'warnings' is not defined",
     "output_type": "error",
     "traceback": [
      "\u001b[1;31m---------------------------------------------------------------------------\u001b[0m",
      "\u001b[1;31mNameError\u001b[0m                                 Traceback (most recent call last)",
      "Cell \u001b[1;32mIn[41], line 2\u001b[0m\n\u001b[0;32m      1\u001b[0m \u001b[38;5;66;03m#Η εντολή εξαλείφει οποιοδήποτε warning που εμφανίζεται κατά την εκτέλεση του προγράμματος \u001b[39;00m\n\u001b[1;32m----> 2\u001b[0m \u001b[43mwarnings\u001b[49m\u001b[38;5;241m.\u001b[39mfilterwarnings(\u001b[38;5;124m'\u001b[39m\u001b[38;5;124mignore\u001b[39m\u001b[38;5;124m'\u001b[39m, category\u001b[38;5;241m=\u001b[39m\u001b[38;5;167;01mFutureWarning\u001b[39;00m)\n\u001b[0;32m      4\u001b[0m \u001b[38;5;66;03m#Δίνει όλα τα διαγράμματα διασποράς για τα ζεύγη μεταβλητών που έχουν τον αριθμό καρτών πιστωτικού χρέους ως κριτήριο ομαδοποίησης\u001b[39;00m\n\u001b[0;32m      5\u001b[0m sns\u001b[38;5;241m.\u001b[39mpairplot(data\u001b[38;5;241m=\u001b[39mdf, hue\u001b[38;5;241m=\u001b[39m\u001b[38;5;124m'\u001b[39m\u001b[38;5;124mPrivate\u001b[39m\u001b[38;5;124m'\u001b[39m, palette\u001b[38;5;241m=\u001b[39m[\u001b[38;5;124m'\u001b[39m\u001b[38;5;124mBlue\u001b[39m\u001b[38;5;124m'\u001b[39m, \u001b[38;5;124m'\u001b[39m\u001b[38;5;124mRed\u001b[39m\u001b[38;5;124m'\u001b[39m]);\n",
      "\u001b[1;31mNameError\u001b[0m: name 'warnings' is not defined"
     ]
    }
   ],
   "source": [
    "#Η εντολή εξαλείφει οποιοδήποτε warning που εμφανίζεται κατά την εκτέλεση του προγράμματος \n",
    "warnings.filterwarnings('ignore', category=FutureWarning)\n",
    "\n",
    "#Δίνει όλα τα διαγράμματα διασποράς για τα ζεύγη μεταβλητών που έχουν τον αριθμό καρτών πιστωτικού χρέους ως κριτήριο ομαδοποίησης\n",
    "sns.pairplot(data=df, hue='Private', palette=['Blue', 'Red']);"
   ]
  },
  {
   "cell_type": "code",
   "execution_count": 42,
   "id": "4b375f2e62eae0d9",
   "metadata": {
    "ExecuteTime": {
     "end_time": "2024-06-23T11:59:21.834534Z",
     "start_time": "2024-06-23T11:59:19.819380Z"
    },
    "tags": []
   },
   "outputs": [
    {
     "ename": "NameError",
     "evalue": "name 'df' is not defined",
     "output_type": "error",
     "traceback": [
      "\u001b[1;31m---------------------------------------------------------------------------\u001b[0m",
      "\u001b[1;31mNameError\u001b[0m                                 Traceback (most recent call last)",
      "Cell \u001b[1;32mIn[42], line 1\u001b[0m\n\u001b[1;32m----> 1\u001b[0m numeric_columns \u001b[38;5;241m=\u001b[39m \u001b[43mdf\u001b[49m\u001b[38;5;241m.\u001b[39mselect_dtypes(include\u001b[38;5;241m=\u001b[39m[np\u001b[38;5;241m.\u001b[39mnumber])\u001b[38;5;241m.\u001b[39mcolumns\n\u001b[0;32m      3\u001b[0m \u001b[38;5;28;01mfor\u001b[39;00m column \u001b[38;5;129;01min\u001b[39;00m numeric_columns:\n\u001b[0;32m      4\u001b[0m     \u001b[38;5;28;01mif\u001b[39;00m column \u001b[38;5;241m!=\u001b[39m \u001b[38;5;124m'\u001b[39m\u001b[38;5;124mPrivate\u001b[39m\u001b[38;5;124m'\u001b[39m:\n",
      "\u001b[1;31mNameError\u001b[0m: name 'df' is not defined"
     ]
    }
   ],
   "source": [
    "numeric_columns = df.select_dtypes(include=[np.number]).columns\n",
    "\n",
    "for column in numeric_columns:\n",
    "    if column != 'Private':\n",
    "        plt.figure()\n",
    "        sns.boxplot(x='Private', y=column, data=df)\n",
    "        plt.title(column)\n",
    "        plt.show()"
   ]
  },
  {
   "cell_type": "code",
   "execution_count": 44,
   "id": "af50bea22031aa31",
   "metadata": {
    "ExecuteTime": {
     "end_time": "2024-06-23T12:05:08.563731Z",
     "start_time": "2024-06-23T12:05:08.550974Z"
    },
    "tags": []
   },
   "outputs": [
    {
     "ename": "NameError",
     "evalue": "name 'go' is not defined",
     "output_type": "error",
     "traceback": [
      "\u001b[1;31m---------------------------------------------------------------------------\u001b[0m",
      "\u001b[1;31mNameError\u001b[0m                                 Traceback (most recent call last)",
      "Cell \u001b[1;32mIn[44], line 2\u001b[0m\n\u001b[0;32m      1\u001b[0m \u001b[38;5;66;03m#Δημιουργία ενός διαγράμματος 3D scatter με τη βιβλιοθήκη plotly\u001b[39;00m\n\u001b[1;32m----> 2\u001b[0m fig \u001b[38;5;241m=\u001b[39m \u001b[43mgo\u001b[49m\u001b[38;5;241m.\u001b[39mFigure(data\u001b[38;5;241m=\u001b[39m[go\u001b[38;5;241m.\u001b[39mScatter3d(\n\u001b[0;32m      3\u001b[0m     x\u001b[38;5;241m=\u001b[39mdf[\u001b[38;5;124m'\u001b[39m\u001b[38;5;124mPrivate\u001b[39m\u001b[38;5;124m'\u001b[39m], \n\u001b[0;32m      4\u001b[0m     y\u001b[38;5;241m=\u001b[39mdf[\u001b[38;5;124m'\u001b[39m\u001b[38;5;124mAccept\u001b[39m\u001b[38;5;124m'\u001b[39m], \n\u001b[0;32m      5\u001b[0m     z\u001b[38;5;241m=\u001b[39mdf[\u001b[38;5;124m'\u001b[39m\u001b[38;5;124mGrad.Rate\u001b[39m\u001b[38;5;124m'\u001b[39m], \n\u001b[0;32m      6\u001b[0m     mode\u001b[38;5;241m=\u001b[39m\u001b[38;5;124m'\u001b[39m\u001b[38;5;124mmarkers\u001b[39m\u001b[38;5;124m'\u001b[39m, \n\u001b[0;32m      7\u001b[0m     marker\u001b[38;5;241m=\u001b[39m\u001b[38;5;28mdict\u001b[39m(\n\u001b[0;32m      8\u001b[0m         size\u001b[38;5;241m=\u001b[39m\u001b[38;5;241m12\u001b[39m, \n\u001b[0;32m      9\u001b[0m         color\u001b[38;5;241m=\u001b[39mdf[\u001b[38;5;124m'\u001b[39m\u001b[38;5;124mPrivate\u001b[39m\u001b[38;5;124m'\u001b[39m], \n\u001b[0;32m     10\u001b[0m         colorscale\u001b[38;5;241m=\u001b[39m\u001b[38;5;124m'\u001b[39m\u001b[38;5;124mViridis\u001b[39m\u001b[38;5;124m'\u001b[39m, \n\u001b[0;32m     11\u001b[0m         opacity\u001b[38;5;241m=\u001b[39m\u001b[38;5;241m0.9\u001b[39m\n\u001b[0;32m     12\u001b[0m     )\n\u001b[0;32m     13\u001b[0m )])\n\u001b[0;32m     15\u001b[0m \u001b[38;5;66;03m#Ρύθμιση της διάταξης του διαγράμματος\u001b[39;00m\n\u001b[0;32m     16\u001b[0m fig\u001b[38;5;241m.\u001b[39mupdate_layout(margin\u001b[38;5;241m=\u001b[39m\u001b[38;5;28mdict\u001b[39m(l\u001b[38;5;241m=\u001b[39m\u001b[38;5;241m0\u001b[39m, r\u001b[38;5;241m=\u001b[39m\u001b[38;5;241m0\u001b[39m, b\u001b[38;5;241m=\u001b[39m\u001b[38;5;241m0\u001b[39m, t\u001b[38;5;241m=\u001b[39m\u001b[38;5;241m0\u001b[39m))\n",
      "\u001b[1;31mNameError\u001b[0m: name 'go' is not defined"
     ]
    }
   ],
   "source": [
    "#Δημιουργία ενός διαγράμματος 3D scatter με τη βιβλιοθήκη plotly\n",
    "fig = go.Figure(data=[go.Scatter3d(\n",
    "    x=df['Private'], \n",
    "    y=df['Accept'], \n",
    "    z=df['Grad.Rate'], \n",
    "    mode='markers', \n",
    "    marker=dict(\n",
    "        size=12, \n",
    "        color=df['Private'], \n",
    "        colorscale='Viridis', \n",
    "        opacity=0.9\n",
    "    )\n",
    ")])\n",
    "\n",
    "#Ρύθμιση της διάταξης του διαγράμματος\n",
    "fig.update_layout(margin=dict(l=0, r=0, b=0, t=0))\n",
    "\n",
    "#Εμφάνιση του διαγράμματος\n",
    "fig.show()"
   ]
  },
  {
   "cell_type": "markdown",
   "id": "6ac3de6c174abd2f",
   "metadata": {},
   "source": [
    "# <span style=\"color:cyan\">ΣΧΟΛΙΑ ΓΙΑ ΤΗΝ ΕΠΕΞΕΡΓΑΣΙΑ ΚΑΙ ΤΗΝ ΑΝΑΛΥΣΗ ΤΩΝ ΔΕΔΟΜΕΝΩΝ\n"
   ]
  },
  {
   "cell_type": "markdown",
   "id": "b6101fba9bd51e97",
   "metadata": {},
   "source": [
    "<span style=\"color:blueviolet\">ΠΕΡΙΓΡΑΦΙΚΑ ΣΤΑΤΙΣΤΙΚΑ ΣΤΟΙΧΕΙΑ\n",
    "\n",
    "<span style=\"color:blueviolet\">Με μία σύγκριση των ιδιωτικών με των δημόσιων Πανεπιστημίων καταλαβαίνουμε ότι τα ιδιωτικά πανεπιστήμια έχουν γενικά υψηλότερα δίδακτρα και έξοδα διαμονής σε σύγκριση με τα δημόσια. Επίσης το ποσοστό αποφοίτων είναι υψηλότερο στα ιδιωτικά πανεπιστήμια (69%) σε σχέση με τα δημόσια (55%). Τέλος στα  ιδιωτικά πανεπιστήμια δέχονται και εγγράφουν περισσότερους φοιτητές κατά μέσο όρο.\n",
    "\n",
    "\n",
    "<span style=\"color:blueviolet\">Clustering\n",
    "\n",
    "<span style=\"color:blueviolet\">Σε συνέχεια του Clustering, παρατηρούμε ότι ο καλύτερος αριθμός clusters είναι 2, όπως φαίνεται από το υψηλότερο μέσο silhouette score (0.5599). Καθώς με περισσότερα clusters, το silhouette score μειώνεται, υποδεικνύοντας χαμηλότερη ποιότητα clustering.\n",
    "\n",
    "\n",
    "<span style=\"color:blueviolet\">Διαφορές στα Μέσοι  Όροι Χαρακτηριστικών\n",
    "\n",
    "<span style=\"color:blueviolet\">Σημαντικές διαφορές στους μέσους όρους των χαρακτηριστικών σημειώνονται  ανάμεσα στα ιδιωτικά και δημόσια πανεπιστήμια, όπως στις αιτήσεις, αποδοχές, εγγραφές, και τα διάφορα έξοδα. Στα κύρια σημεία των παρατηρήσεων βρίσκουμε  ότι τα ιδιωτικά πανεπιστήμια έχουν σημαντικά υψηλότερα δίδακτρα και έξοδα διαμονής κι έχουν υψηλότερο ποσοστό αποφοίτων, δείχνοντας ίσως καλύτερη υποστήριξη ή επιλογή φοιτητών.\n",
    "\n",
    "\n",
    "<span style=\"color:blueviolet\">Ομαδοποίηση\n",
    "\n",
    "<span style=\"color:blueviolet\">Τέλος η καλύτερη ομαδοποίηση των δεδομένων επιτυγχάνεται με τη χρήση 2 clusters, όπως υποδεικνύεται από το υψηλότερο silhouette score, που δείχνει την καλύτερη διάκριση μεταξύ των ομάδων."
   ]
  },
  {
   "cell_type": "markdown",
   "id": "f3df686589b23817",
   "metadata": {},
   "source": [
    "# <span style=\"color:cyan\">K-Means Clustering"
   ]
  },
  {
   "cell_type": "code",
   "execution_count": 45,
   "id": "b48087a731f9e77e",
   "metadata": {
    "ExecuteTime": {
     "end_time": "2024-06-23T12:05:58.334889Z",
     "start_time": "2024-06-23T12:05:58.329549Z"
    },
    "tags": []
   },
   "outputs": [
    {
     "ename": "NameError",
     "evalue": "name 'df' is not defined",
     "output_type": "error",
     "traceback": [
      "\u001b[1;31m---------------------------------------------------------------------------\u001b[0m",
      "\u001b[1;31mNameError\u001b[0m                                 Traceback (most recent call last)",
      "Cell \u001b[1;32mIn[45], line 2\u001b[0m\n\u001b[0;32m      1\u001b[0m \u001b[38;5;66;03m# Δημιουργεί τον πίνακα X με τις μεταβλητές που θα χρησιμοποιηθούν για τον αλγόριθμο K-Means\u001b[39;00m\n\u001b[1;32m----> 2\u001b[0m X \u001b[38;5;241m=\u001b[39m \u001b[43mdf\u001b[49m[[\u001b[38;5;124m'\u001b[39m\u001b[38;5;124mPrivate\u001b[39m\u001b[38;5;124m'\u001b[39m, \u001b[38;5;124m'\u001b[39m\u001b[38;5;124mApps\u001b[39m\u001b[38;5;124m'\u001b[39m, \u001b[38;5;124m'\u001b[39m\u001b[38;5;124mAccept\u001b[39m\u001b[38;5;124m'\u001b[39m, \u001b[38;5;124m'\u001b[39m\u001b[38;5;124mEnroll\u001b[39m\u001b[38;5;124m'\u001b[39m, \u001b[38;5;124m'\u001b[39m\u001b[38;5;124mTop10perc\u001b[39m\u001b[38;5;124m'\u001b[39m,\n\u001b[0;32m      3\u001b[0m        \u001b[38;5;124m'\u001b[39m\u001b[38;5;124mTop25perc\u001b[39m\u001b[38;5;124m'\u001b[39m, \u001b[38;5;124m'\u001b[39m\u001b[38;5;124mF.Undergrad\u001b[39m\u001b[38;5;124m'\u001b[39m, \u001b[38;5;124m'\u001b[39m\u001b[38;5;124mP.Undergrad\u001b[39m\u001b[38;5;124m'\u001b[39m, \u001b[38;5;124m'\u001b[39m\u001b[38;5;124mOutstate\u001b[39m\u001b[38;5;124m'\u001b[39m, \u001b[38;5;124m'\u001b[39m\u001b[38;5;124mRoom.Board\u001b[39m\u001b[38;5;124m'\u001b[39m,\n\u001b[0;32m      4\u001b[0m        \u001b[38;5;124m'\u001b[39m\u001b[38;5;124mBooks\u001b[39m\u001b[38;5;124m'\u001b[39m, \u001b[38;5;124m'\u001b[39m\u001b[38;5;124mPersonal\u001b[39m\u001b[38;5;124m'\u001b[39m, \u001b[38;5;124m'\u001b[39m\u001b[38;5;124mPhD\u001b[39m\u001b[38;5;124m'\u001b[39m, \u001b[38;5;124m'\u001b[39m\u001b[38;5;124mTerminal\u001b[39m\u001b[38;5;124m'\u001b[39m, \u001b[38;5;124m'\u001b[39m\u001b[38;5;124mS.F.Ratio\u001b[39m\u001b[38;5;124m'\u001b[39m, \u001b[38;5;124m'\u001b[39m\u001b[38;5;124mperc.alumni\u001b[39m\u001b[38;5;124m'\u001b[39m,\n\u001b[0;32m      5\u001b[0m        \u001b[38;5;124m'\u001b[39m\u001b[38;5;124mExpend\u001b[39m\u001b[38;5;124m'\u001b[39m, \u001b[38;5;124m'\u001b[39m\u001b[38;5;124mGrad.Rate\u001b[39m\u001b[38;5;124m'\u001b[39m]]\n",
      "\u001b[1;31mNameError\u001b[0m: name 'df' is not defined"
     ]
    }
   ],
   "source": [
    "# Δημιουργεί τον πίνακα X με τις μεταβλητές που θα χρησιμοποιηθούν για τον αλγόριθμο K-Means\n",
    "X = df[['Private', 'Apps', 'Accept', 'Enroll', 'Top10perc',\n",
    "       'Top25perc', 'F.Undergrad', 'P.Undergrad', 'Outstate', 'Room.Board',\n",
    "       'Books', 'Personal', 'PhD', 'Terminal', 'S.F.Ratio', 'perc.alumni',\n",
    "       'Expend', 'Grad.Rate']]"
   ]
  },
  {
   "cell_type": "code",
   "execution_count": 46,
   "id": "897f1f9948bd079",
   "metadata": {
    "ExecuteTime": {
     "end_time": "2024-06-23T12:05:59.883543Z",
     "start_time": "2024-06-23T12:05:59.871798Z"
    },
    "tags": []
   },
   "outputs": [
    {
     "ename": "NameError",
     "evalue": "name 'X' is not defined",
     "output_type": "error",
     "traceback": [
      "\u001b[1;31m---------------------------------------------------------------------------\u001b[0m",
      "\u001b[1;31mNameError\u001b[0m                                 Traceback (most recent call last)",
      "Cell \u001b[1;32mIn[46], line 2\u001b[0m\n\u001b[0;32m      1\u001b[0m \u001b[38;5;66;03m# Εμφανίζει τις πρώτες 3 γραμμές του πίνακα X\u001b[39;00m\n\u001b[1;32m----> 2\u001b[0m \u001b[43mX\u001b[49m\u001b[38;5;241m.\u001b[39mhead(\u001b[38;5;241m3\u001b[39m)\n",
      "\u001b[1;31mNameError\u001b[0m: name 'X' is not defined"
     ]
    }
   ],
   "source": [
    "# Εμφανίζει τις πρώτες 3 γραμμές του πίνακα X\n",
    "X.head(3)"
   ]
  },
  {
   "cell_type": "code",
   "execution_count": 47,
   "id": "3d9653f609a76117",
   "metadata": {
    "ExecuteTime": {
     "end_time": "2024-06-23T12:06:00.851607Z",
     "start_time": "2024-06-23T12:06:00.846529Z"
    },
    "tags": []
   },
   "outputs": [
    {
     "ename": "NameError",
     "evalue": "name 'KMeans' is not defined",
     "output_type": "error",
     "traceback": [
      "\u001b[1;31m---------------------------------------------------------------------------\u001b[0m",
      "\u001b[1;31mNameError\u001b[0m                                 Traceback (most recent call last)",
      "Cell \u001b[1;32mIn[47], line 2\u001b[0m\n\u001b[0;32m      1\u001b[0m \u001b[38;5;66;03m# Εκτυπώνει τον πίνακα X\u001b[39;00m\n\u001b[1;32m----> 2\u001b[0m model \u001b[38;5;241m=\u001b[39m \u001b[43mKMeans\u001b[49m(n_clusters\u001b[38;5;241m=\u001b[39m\u001b[38;5;241m5\u001b[39m, random_state\u001b[38;5;241m=\u001b[39m\u001b[38;5;241m0\u001b[39m)\n",
      "\u001b[1;31mNameError\u001b[0m: name 'KMeans' is not defined"
     ]
    }
   ],
   "source": [
    "# Εκτυπώνει τον πίνακα X\n",
    "model = KMeans(n_clusters=5, random_state=0)"
   ]
  },
  {
   "cell_type": "code",
   "execution_count": 48,
   "id": "b96b86eef67e494e",
   "metadata": {
    "ExecuteTime": {
     "end_time": "2024-06-23T12:06:01.536731Z",
     "start_time": "2024-06-23T12:06:01.531140Z"
    },
    "tags": []
   },
   "outputs": [
    {
     "ename": "NameError",
     "evalue": "name 'model' is not defined",
     "output_type": "error",
     "traceback": [
      "\u001b[1;31m---------------------------------------------------------------------------\u001b[0m",
      "\u001b[1;31mNameError\u001b[0m                                 Traceback (most recent call last)",
      "Cell \u001b[1;32mIn[48], line 2\u001b[0m\n\u001b[0;32m      1\u001b[0m \u001b[38;5;66;03m# Εμφανίζει το μοντέλο που δημιουργήθηκε\u001b[39;00m\n\u001b[1;32m----> 2\u001b[0m \u001b[43mmodel\u001b[49m\n",
      "\u001b[1;31mNameError\u001b[0m: name 'model' is not defined"
     ]
    }
   ],
   "source": [
    "# Εμφανίζει το μοντέλο που δημιουργήθηκε\n",
    "model"
   ]
  },
  {
   "cell_type": "code",
   "execution_count": 49,
   "id": "c31bf00a89703b04",
   "metadata": {
    "ExecuteTime": {
     "end_time": "2024-06-23T12:06:02.948914Z",
     "start_time": "2024-06-23T12:06:02.776780Z"
    },
    "tags": []
   },
   "outputs": [
    {
     "ename": "NameError",
     "evalue": "name 'model' is not defined",
     "output_type": "error",
     "traceback": [
      "\u001b[1;31m---------------------------------------------------------------------------\u001b[0m",
      "\u001b[1;31mNameError\u001b[0m                                 Traceback (most recent call last)",
      "Cell \u001b[1;32mIn[49], line 2\u001b[0m\n\u001b[0;32m      1\u001b[0m \u001b[38;5;66;03m#Εκπαίδευση του μοντέλου\u001b[39;00m\n\u001b[1;32m----> 2\u001b[0m fitted_kmeans \u001b[38;5;241m=\u001b[39m \u001b[43mmodel\u001b[49m\u001b[38;5;241m.\u001b[39mfit(X)\n",
      "\u001b[1;31mNameError\u001b[0m: name 'model' is not defined"
     ]
    }
   ],
   "source": [
    "#Εκπαίδευση του μοντέλου\n",
    "fitted_kmeans = model.fit(X)"
   ]
  },
  {
   "cell_type": "code",
   "execution_count": 50,
   "id": "220ced2216759835",
   "metadata": {
    "ExecuteTime": {
     "end_time": "2024-06-23T12:06:03.639025Z",
     "start_time": "2024-06-23T12:06:03.630859Z"
    },
    "tags": []
   },
   "outputs": [
    {
     "ename": "NameError",
     "evalue": "name 'fitted_kmeans' is not defined",
     "output_type": "error",
     "traceback": [
      "\u001b[1;31m---------------------------------------------------------------------------\u001b[0m",
      "\u001b[1;31mNameError\u001b[0m                                 Traceback (most recent call last)",
      "Cell \u001b[1;32mIn[50], line 2\u001b[0m\n\u001b[0;32m      1\u001b[0m \u001b[38;5;66;03m# Αυτή η εντολή χρησιμοποιεί το εκπαιδευμένο μοντέλο K-Means για να προβλέψει την ομάδα στην οποία ανήκει κάθε δείγμα στον πίνακα X\u001b[39;00m\n\u001b[1;32m----> 2\u001b[0m y_pred \u001b[38;5;241m=\u001b[39m \u001b[43mfitted_kmeans\u001b[49m\u001b[38;5;241m.\u001b[39mpredict(X)\n",
      "\u001b[1;31mNameError\u001b[0m: name 'fitted_kmeans' is not defined"
     ]
    }
   ],
   "source": [
    "# Αυτή η εντολή χρησιμοποιεί το εκπαιδευμένο μοντέλο K-Means για να προβλέψει την ομάδα στην οποία ανήκει κάθε δείγμα στον πίνακα X\n",
    "y_pred = fitted_kmeans.predict(X)"
   ]
  },
  {
   "cell_type": "code",
   "execution_count": 51,
   "id": "5e7ba64ab6387614",
   "metadata": {
    "ExecuteTime": {
     "end_time": "2024-06-23T12:06:04.567668Z",
     "start_time": "2024-06-23T12:06:04.551959Z"
    },
    "tags": []
   },
   "outputs": [
    {
     "ename": "NameError",
     "evalue": "name 'KMeans' is not defined",
     "output_type": "error",
     "traceback": [
      "\u001b[1;31m---------------------------------------------------------------------------\u001b[0m",
      "\u001b[1;31mNameError\u001b[0m                                 Traceback (most recent call last)",
      "Cell \u001b[1;32mIn[51], line 2\u001b[0m\n\u001b[0;32m      1\u001b[0m \u001b[38;5;66;03m# Δημιουργεί ένα μοντέλο K-Means με 5 συστάδες, το εκπαιδεύει στα δεδομένα που περιέχονται στον πίνακα X και ταυτόχρονα προβλέπει τη συστάδα στην οποία ανήκει κάθε δείγμα. Το αποτέλεσμα της πρόβλεψης αποθηκεύεται στη μεταβλητή y_pred.\u001b[39;00m\n\u001b[1;32m----> 2\u001b[0m y_pred \u001b[38;5;241m=\u001b[39m \u001b[43mKMeans\u001b[49m(n_clusters\u001b[38;5;241m=\u001b[39m\u001b[38;5;241m5\u001b[39m)\u001b[38;5;241m.\u001b[39mfit_predict(X)\n",
      "\u001b[1;31mNameError\u001b[0m: name 'KMeans' is not defined"
     ]
    }
   ],
   "source": [
    "# Δημιουργεί ένα μοντέλο K-Means με 5 συστάδες, το εκπαιδεύει στα δεδομένα που περιέχονται στον πίνακα X και ταυτόχρονα προβλέπει τη συστάδα στην οποία ανήκει κάθε δείγμα. Το αποτέλεσμα της πρόβλεψης αποθηκεύεται στη μεταβλητή y_pred.\n",
    "y_pred = KMeans(n_clusters=5).fit_predict(X)"
   ]
  },
  {
   "cell_type": "code",
   "execution_count": 52,
   "id": "64d7e3fe61d36cd0",
   "metadata": {
    "ExecuteTime": {
     "end_time": "2024-06-23T12:06:05.020203Z",
     "start_time": "2024-06-23T12:06:05.013835Z"
    },
    "tags": []
   },
   "outputs": [
    {
     "ename": "NameError",
     "evalue": "name 'y_pred' is not defined",
     "output_type": "error",
     "traceback": [
      "\u001b[1;31m---------------------------------------------------------------------------\u001b[0m",
      "\u001b[1;31mNameError\u001b[0m                                 Traceback (most recent call last)",
      "Cell \u001b[1;32mIn[52], line 2\u001b[0m\n\u001b[0;32m      1\u001b[0m \u001b[38;5;66;03m# Εκτυπώνει τον πίνακα y_pred\u001b[39;00m\n\u001b[1;32m----> 2\u001b[0m \u001b[43my_pred\u001b[49m\n",
      "\u001b[1;31mNameError\u001b[0m: name 'y_pred' is not defined"
     ]
    }
   ],
   "source": [
    "# Εκτυπώνει τον πίνακα y_pred\n",
    "y_pred"
   ]
  },
  {
   "cell_type": "code",
   "execution_count": 53,
   "id": "b988c694ee22faab",
   "metadata": {
    "ExecuteTime": {
     "end_time": "2024-06-23T12:11:13.563242Z",
     "start_time": "2024-06-23T12:11:13.549637Z"
    },
    "tags": []
   },
   "outputs": [
    {
     "ename": "NameError",
     "evalue": "name 'pd' is not defined",
     "output_type": "error",
     "traceback": [
      "\u001b[1;31m---------------------------------------------------------------------------\u001b[0m",
      "\u001b[1;31mNameError\u001b[0m                                 Traceback (most recent call last)",
      "Cell \u001b[1;32mIn[53], line 2\u001b[0m\n\u001b[0;32m      1\u001b[0m \u001b[38;5;66;03m#Ένταξη μιας καινούριας παρατήρησης στο μοντέλο\u001b[39;00m\n\u001b[1;32m----> 2\u001b[0m new_observation \u001b[38;5;241m=\u001b[39m \u001b[43mpd\u001b[49m\u001b[38;5;241m.\u001b[39mDataFrame([[\u001b[38;5;241m1\u001b[39m,\u001b[38;5;241m1500\u001b[39m, \u001b[38;5;241m1280\u001b[39m,\u001b[38;5;241m650\u001b[39m, \u001b[38;5;241m12\u001b[39m, \u001b[38;5;241m25\u001b[39m,\u001b[38;5;241m4000\u001b[39m,\u001b[38;5;241m590\u001b[39m,\u001b[38;5;241m5200\u001b[39m,\u001b[38;5;241m2850\u001b[39m,\u001b[38;5;241m300\u001b[39m,\u001b[38;5;241m1600\u001b[39m,\u001b[38;5;241m50\u001b[39m,\u001b[38;5;241m44\u001b[39m,\u001b[38;5;241m18.5\u001b[39m,\u001b[38;5;241m12\u001b[39m,\u001b[38;5;241m8000\u001b[39m,\u001b[38;5;241m85\u001b[39m]],\n\u001b[0;32m      3\u001b[0m                                columns\u001b[38;5;241m=\u001b[39m[\u001b[38;5;124m'\u001b[39m\u001b[38;5;124mPrivate\u001b[39m\u001b[38;5;124m'\u001b[39m, \u001b[38;5;124m'\u001b[39m\u001b[38;5;124mApps\u001b[39m\u001b[38;5;124m'\u001b[39m, \u001b[38;5;124m'\u001b[39m\u001b[38;5;124mAccept\u001b[39m\u001b[38;5;124m'\u001b[39m, \u001b[38;5;124m'\u001b[39m\u001b[38;5;124mEnroll\u001b[39m\u001b[38;5;124m'\u001b[39m, \u001b[38;5;124m'\u001b[39m\u001b[38;5;124mTop10perc\u001b[39m\u001b[38;5;124m'\u001b[39m,\u001b[38;5;124m'\u001b[39m\u001b[38;5;124mTop25perc\u001b[39m\u001b[38;5;124m'\u001b[39m, \u001b[38;5;124m'\u001b[39m\u001b[38;5;124mF.Undergrad\u001b[39m\u001b[38;5;124m'\u001b[39m, \u001b[38;5;124m'\u001b[39m\u001b[38;5;124mP.Undergrad\u001b[39m\u001b[38;5;124m'\u001b[39m, \u001b[38;5;124m'\u001b[39m\u001b[38;5;124mOutstate\u001b[39m\u001b[38;5;124m'\u001b[39m, \u001b[38;5;124m'\u001b[39m\u001b[38;5;124mRoom.Board\u001b[39m\u001b[38;5;124m'\u001b[39m,\u001b[38;5;124m'\u001b[39m\u001b[38;5;124mBooks\u001b[39m\u001b[38;5;124m'\u001b[39m, \u001b[38;5;124m'\u001b[39m\u001b[38;5;124mPersonal\u001b[39m\u001b[38;5;124m'\u001b[39m, \u001b[38;5;124m'\u001b[39m\u001b[38;5;124mPhD\u001b[39m\u001b[38;5;124m'\u001b[39m, \u001b[38;5;124m'\u001b[39m\u001b[38;5;124mTerminal\u001b[39m\u001b[38;5;124m'\u001b[39m, \u001b[38;5;124m'\u001b[39m\u001b[38;5;124mS.F.Ratio\u001b[39m\u001b[38;5;124m'\u001b[39m, \u001b[38;5;124m'\u001b[39m\u001b[38;5;124mperc.alumni\u001b[39m\u001b[38;5;124m'\u001b[39m,\u001b[38;5;124m'\u001b[39m\u001b[38;5;124mExpend\u001b[39m\u001b[38;5;124m'\u001b[39m, \u001b[38;5;124m'\u001b[39m\u001b[38;5;124mGrad.Rate\u001b[39m\u001b[38;5;124m'\u001b[39m])\n\u001b[0;32m      5\u001b[0m \u001b[38;5;66;03m#Εισαγωγή της νέας παρατήρησης στο μοντέλο\u001b[39;00m\n\u001b[0;32m      6\u001b[0m new_observation_pred \u001b[38;5;241m=\u001b[39m fitted_kmeans\u001b[38;5;241m.\u001b[39mpredict(new_observation)\n",
      "\u001b[1;31mNameError\u001b[0m: name 'pd' is not defined"
     ]
    }
   ],
   "source": [
    "#Ένταξη μιας καινούριας παρατήρησης στο μοντέλο\n",
    "new_observation = pd.DataFrame([[1,1500, 1280,650, 12, 25,4000,590,5200,2850,300,1600,50,44,18.5,12,8000,85]],\n",
    "                               columns=['Private', 'Apps', 'Accept', 'Enroll', 'Top10perc','Top25perc', 'F.Undergrad', 'P.Undergrad', 'Outstate', 'Room.Board','Books', 'Personal', 'PhD', 'Terminal', 'S.F.Ratio', 'perc.alumni','Expend', 'Grad.Rate'])\n",
    "\n",
    "#Εισαγωγή της νέας παρατήρησης στο μοντέλο\n",
    "new_observation_pred = fitted_kmeans.predict(new_observation)\n",
    "\n",
    "#Μετατροπή της νέας παρατήρησης σε DataFrame\n",
    "new_observation_as_a_df = pd.DataFrame(new_observation, columns=['Private', 'Apps', 'Accept', 'Enroll', 'Top10perc','Top25perc', 'F.Undergrad', 'P.Undergrad', 'Outstate', 'Room.Board','Books', 'Personal', 'PhD', 'Terminal', 'S.F.Ratio', 'perc.alumni','Expend', 'Grad.Rate'])\n",
    "\n",
    "#Εισαγωγή της νέας παρατήρησης στο DataFrame\n",
    "df = pd.concat([df, new_observation_as_a_df],ignore_index= True)\n",
    "\n",
    "#Εμφάνιση του cluster στο οποίο ανήκει η νέα παρατήρηση\n",
    "new_observation_pred"
   ]
  },
  {
   "cell_type": "code",
   "execution_count": 54,
   "id": "4998f79955ce6d50",
   "metadata": {
    "ExecuteTime": {
     "end_time": "2024-06-23T12:11:22.862748Z",
     "start_time": "2024-06-23T12:11:22.853275Z"
    },
    "tags": []
   },
   "outputs": [
    {
     "ename": "NameError",
     "evalue": "name 'pd' is not defined",
     "output_type": "error",
     "traceback": [
      "\u001b[1;31m---------------------------------------------------------------------------\u001b[0m",
      "\u001b[1;31mNameError\u001b[0m                                 Traceback (most recent call last)",
      "Cell \u001b[1;32mIn[54], line 2\u001b[0m\n\u001b[0;32m      1\u001b[0m \u001b[38;5;66;03m#Μετατροπή της νέας παρατήρησης σε DataFrame\u001b[39;00m\n\u001b[1;32m----> 2\u001b[0m new_observation_as_a_df \u001b[38;5;241m=\u001b[39m \u001b[43mpd\u001b[49m\u001b[38;5;241m.\u001b[39mDataFrame(\n\u001b[0;32m      3\u001b[0m     new_observation, columns\u001b[38;5;241m=\u001b[39m[\u001b[38;5;124m'\u001b[39m\u001b[38;5;124mPrivate\u001b[39m\u001b[38;5;124m'\u001b[39m, \u001b[38;5;124m'\u001b[39m\u001b[38;5;124mApps\u001b[39m\u001b[38;5;124m'\u001b[39m, \u001b[38;5;124m'\u001b[39m\u001b[38;5;124mAccept\u001b[39m\u001b[38;5;124m'\u001b[39m, \u001b[38;5;124m'\u001b[39m\u001b[38;5;124mEnroll\u001b[39m\u001b[38;5;124m'\u001b[39m, \u001b[38;5;124m'\u001b[39m\u001b[38;5;124mTop10perc\u001b[39m\u001b[38;5;124m'\u001b[39m,\u001b[38;5;124m'\u001b[39m\u001b[38;5;124mTop25perc\u001b[39m\u001b[38;5;124m'\u001b[39m, \u001b[38;5;124m'\u001b[39m\u001b[38;5;124mF.Undergrad\u001b[39m\u001b[38;5;124m'\u001b[39m, \u001b[38;5;124m'\u001b[39m\u001b[38;5;124mP.Undergrad\u001b[39m\u001b[38;5;124m'\u001b[39m, \u001b[38;5;124m'\u001b[39m\u001b[38;5;124mOutstate\u001b[39m\u001b[38;5;124m'\u001b[39m, \u001b[38;5;124m'\u001b[39m\u001b[38;5;124mRoom.Board\u001b[39m\u001b[38;5;124m'\u001b[39m,\u001b[38;5;124m'\u001b[39m\u001b[38;5;124mBooks\u001b[39m\u001b[38;5;124m'\u001b[39m, \u001b[38;5;124m'\u001b[39m\u001b[38;5;124mPersonal\u001b[39m\u001b[38;5;124m'\u001b[39m, \u001b[38;5;124m'\u001b[39m\u001b[38;5;124mPhD\u001b[39m\u001b[38;5;124m'\u001b[39m, \u001b[38;5;124m'\u001b[39m\u001b[38;5;124mTerminal\u001b[39m\u001b[38;5;124m'\u001b[39m, \u001b[38;5;124m'\u001b[39m\u001b[38;5;124mS.F.Ratio\u001b[39m\u001b[38;5;124m'\u001b[39m, \u001b[38;5;124m'\u001b[39m\u001b[38;5;124mperc.alumni\u001b[39m\u001b[38;5;124m'\u001b[39m,\u001b[38;5;124m'\u001b[39m\u001b[38;5;124mExpend\u001b[39m\u001b[38;5;124m'\u001b[39m, \u001b[38;5;124m'\u001b[39m\u001b[38;5;124mGrad.Rate\u001b[39m\u001b[38;5;124m'\u001b[39m])\n\u001b[0;32m      5\u001b[0m \u001b[38;5;66;03m#Πρόβλεψη της συστάδας στην οποία ανήκει η νέα παρατήρηση\u001b[39;00m\n\u001b[0;32m      6\u001b[0m fitted_kmeans\u001b[38;5;241m.\u001b[39mpredict(new_observation_as_a_df)\n",
      "\u001b[1;31mNameError\u001b[0m: name 'pd' is not defined"
     ]
    }
   ],
   "source": [
    "#Μετατροπή της νέας παρατήρησης σε DataFrame\n",
    "new_observation_as_a_df = pd.DataFrame(\n",
    "    new_observation, columns=['Private', 'Apps', 'Accept', 'Enroll', 'Top10perc','Top25perc', 'F.Undergrad', 'P.Undergrad', 'Outstate', 'Room.Board','Books', 'Personal', 'PhD', 'Terminal', 'S.F.Ratio', 'perc.alumni','Expend', 'Grad.Rate'])\n",
    "\n",
    "#Πρόβλεψη της συστάδας στην οποία ανήκει η νέα παρατήρηση\n",
    "fitted_kmeans.predict(new_observation_as_a_df)"
   ]
  },
  {
   "cell_type": "code",
   "execution_count": 55,
   "id": "3d9aa3a9c78a3de1",
   "metadata": {
    "ExecuteTime": {
     "end_time": "2024-06-23T12:11:24.595602Z",
     "start_time": "2024-06-23T12:11:24.580436Z"
    },
    "tags": []
   },
   "outputs": [
    {
     "ename": "NameError",
     "evalue": "name 'pd' is not defined",
     "output_type": "error",
     "traceback": [
      "\u001b[1;31m---------------------------------------------------------------------------\u001b[0m",
      "\u001b[1;31mNameError\u001b[0m                                 Traceback (most recent call last)",
      "Cell \u001b[1;32mIn[55], line 2\u001b[0m\n\u001b[0;32m      1\u001b[0m \u001b[38;5;66;03m#Δημιουργία μιας νέας στήλης 'cluster' στον πίνακα df που περιέχει τις προβλέψεις του μοντέλου K-Means\u001b[39;00m\n\u001b[1;32m----> 2\u001b[0m df[\u001b[38;5;124m\"\u001b[39m\u001b[38;5;124mcluster\u001b[39m\u001b[38;5;124m\"\u001b[39m] \u001b[38;5;241m=\u001b[39m \u001b[43mpd\u001b[49m\u001b[38;5;241m.\u001b[39mDataFrame(y_pred, columns\u001b[38;5;241m=\u001b[39m[\u001b[38;5;124m\"\u001b[39m\u001b[38;5;124mcluster\u001b[39m\u001b[38;5;124m\"\u001b[39m])\n\u001b[0;32m      4\u001b[0m \u001b[38;5;66;03m#Θέτει τη στήλη 'cluster' ως κατηγορική\u001b[39;00m\n\u001b[0;32m      5\u001b[0m df[\u001b[38;5;124m\"\u001b[39m\u001b[38;5;124mcluster\u001b[39m\u001b[38;5;124m\"\u001b[39m] \u001b[38;5;241m=\u001b[39m df[\u001b[38;5;124m\"\u001b[39m\u001b[38;5;124mcluster\u001b[39m\u001b[38;5;124m\"\u001b[39m]\u001b[38;5;241m.\u001b[39mastype(\u001b[38;5;124m'\u001b[39m\u001b[38;5;124mcategory\u001b[39m\u001b[38;5;124m'\u001b[39m)\n",
      "\u001b[1;31mNameError\u001b[0m: name 'pd' is not defined"
     ]
    }
   ],
   "source": [
    "#Δημιουργία μιας νέας στήλης 'cluster' στον πίνακα df που περιέχει τις προβλέψεις του μοντέλου K-Means\n",
    "df[\"cluster\"] = pd.DataFrame(y_pred, columns=[\"cluster\"])\n",
    "\n",
    "#Θέτει τη στήλη 'cluster' ως κατηγορική\n",
    "df[\"cluster\"] = df[\"cluster\"].astype('category')\n",
    "\n",
    "#Εκτυπώνει τις πρώτες 10 γραμμές του πίνακα df\n",
    "df.head(10)"
   ]
  },
  {
   "cell_type": "code",
   "execution_count": 56,
   "id": "3c6ade6a4ec6bcef",
   "metadata": {
    "ExecuteTime": {
     "end_time": "2024-06-23T12:11:25.799819Z",
     "start_time": "2024-06-23T12:11:25.793303Z"
    },
    "tags": []
   },
   "outputs": [
    {
     "ename": "NameError",
     "evalue": "name 'df' is not defined",
     "output_type": "error",
     "traceback": [
      "\u001b[1;31m---------------------------------------------------------------------------\u001b[0m",
      "\u001b[1;31mNameError\u001b[0m                                 Traceback (most recent call last)",
      "Cell \u001b[1;32mIn[56], line 2\u001b[0m\n\u001b[0;32m      1\u001b[0m \u001b[38;5;66;03m#Εμφανίζει τον αριθμό των παρατηρήσεων που ανήκουν σε κάθε συστάδα\u001b[39;00m\n\u001b[1;32m----> 2\u001b[0m \u001b[43mdf\u001b[49m\u001b[38;5;241m.\u001b[39mgroupby(\u001b[38;5;124m'\u001b[39m\u001b[38;5;124mcluster\u001b[39m\u001b[38;5;124m'\u001b[39m, observed\u001b[38;5;241m=\u001b[39m\u001b[38;5;28;01mTrue\u001b[39;00m)\u001b[38;5;241m.\u001b[39msize()\n",
      "\u001b[1;31mNameError\u001b[0m: name 'df' is not defined"
     ]
    }
   ],
   "source": [
    "#Εμφανίζει τον αριθμό των παρατηρήσεων που ανήκουν σε κάθε συστάδα\n",
    "df.groupby('cluster', observed=True).size()"
   ]
  },
  {
   "cell_type": "code",
   "execution_count": 57,
   "id": "decd7df3238301ad",
   "metadata": {
    "ExecuteTime": {
     "end_time": "2024-06-23T12:11:26.992752Z",
     "start_time": "2024-06-23T12:11:26.973678Z"
    },
    "tags": []
   },
   "outputs": [
    {
     "ename": "NameError",
     "evalue": "name 'pd' is not defined",
     "output_type": "error",
     "traceback": [
      "\u001b[1;31m---------------------------------------------------------------------------\u001b[0m",
      "\u001b[1;31mNameError\u001b[0m                                 Traceback (most recent call last)",
      "Cell \u001b[1;32mIn[57], line 1\u001b[0m\n\u001b[1;32m----> 1\u001b[0m df[\u001b[38;5;124m\"\u001b[39m\u001b[38;5;124mcluster\u001b[39m\u001b[38;5;124m\"\u001b[39m] \u001b[38;5;241m=\u001b[39m \u001b[43mpd\u001b[49m\u001b[38;5;241m.\u001b[39mDataFrame(y_pred, columns\u001b[38;5;241m=\u001b[39m[\u001b[38;5;124m\"\u001b[39m\u001b[38;5;124mcluster\u001b[39m\u001b[38;5;124m\"\u001b[39m])\n\u001b[0;32m      2\u001b[0m numeric_cols \u001b[38;5;241m=\u001b[39m df\u001b[38;5;241m.\u001b[39mselect_dtypes(include\u001b[38;5;241m=\u001b[39m[np\u001b[38;5;241m.\u001b[39mnumber])\n\u001b[0;32m      3\u001b[0m mean_values \u001b[38;5;241m=\u001b[39m numeric_cols\u001b[38;5;241m.\u001b[39mgroupby(\u001b[38;5;124m'\u001b[39m\u001b[38;5;124mcluster\u001b[39m\u001b[38;5;124m'\u001b[39m)\u001b[38;5;241m.\u001b[39mmean()\n",
      "\u001b[1;31mNameError\u001b[0m: name 'pd' is not defined"
     ]
    }
   ],
   "source": [
    "df[\"cluster\"] = pd.DataFrame(y_pred, columns=[\"cluster\"])\n",
    "numeric_cols = df.select_dtypes(include=[np.number])\n",
    "mean_values = numeric_cols.groupby('cluster').mean()\n",
    "mean_values"
   ]
  },
  {
   "cell_type": "markdown",
   "id": "8d57e5a706b9b258",
   "metadata": {},
   "source": [
    "#  <span style=\"color:cyan\">Διαγράμματα της μεθόδου K-Means "
   ]
  },
  {
   "cell_type": "markdown",
   "id": "62addc761d95e77a",
   "metadata": {},
   "source": [
    "<span style=\"color:blueviolet\">Διάγραμμα διασποράς 2D για την απεικόνιση των clusters"
   ]
  },
  {
   "cell_type": "code",
   "execution_count": 58,
   "id": "d5262aec9995f925",
   "metadata": {
    "ExecuteTime": {
     "end_time": "2024-06-23T12:23:38.061745Z",
     "start_time": "2024-06-23T12:23:37.845731Z"
    },
    "tags": []
   },
   "outputs": [
    {
     "ename": "NameError",
     "evalue": "name 'sns' is not defined",
     "output_type": "error",
     "traceback": [
      "\u001b[1;31m---------------------------------------------------------------------------\u001b[0m",
      "\u001b[1;31mNameError\u001b[0m                                 Traceback (most recent call last)",
      "Cell \u001b[1;32mIn[58], line 2\u001b[0m\n\u001b[0;32m      1\u001b[0m \u001b[38;5;66;03m# Σχεδιάζει τα Clusters με τα κέντρα τους \u001b[39;00m\n\u001b[1;32m----> 2\u001b[0m \u001b[43msns\u001b[49m\u001b[38;5;241m.\u001b[39mscatterplot(x\u001b[38;5;241m=\u001b[39m\u001b[38;5;124m'\u001b[39m\u001b[38;5;124mPrivate\u001b[39m\u001b[38;5;124m'\u001b[39m, y\u001b[38;5;241m=\u001b[39m\u001b[38;5;124m'\u001b[39m\u001b[38;5;124mGrad.Rate\u001b[39m\u001b[38;5;124m'\u001b[39m, hue\u001b[38;5;241m=\u001b[39m\u001b[38;5;124m\"\u001b[39m\u001b[38;5;124mPrivate\u001b[39m\u001b[38;5;124m\"\u001b[39m,\n\u001b[0;32m      3\u001b[0m                 data\u001b[38;5;241m=\u001b[39mdf, palette\u001b[38;5;241m=\u001b[39m\u001b[38;5;124m\"\u001b[39m\u001b[38;5;124mdeep\u001b[39m\u001b[38;5;124m\"\u001b[39m)\n\u001b[0;32m      5\u001b[0m \u001b[38;5;66;03m# Σχεδιάζει τα κέντρα των Clusters\u001b[39;00m\n\u001b[0;32m      6\u001b[0m sns\u001b[38;5;241m.\u001b[39mscatterplot(x\u001b[38;5;241m=\u001b[39mfitted_kmeans\u001b[38;5;241m.\u001b[39mcluster_centers_[:, \u001b[38;5;241m0\u001b[39m],\n\u001b[0;32m      7\u001b[0m                 y\u001b[38;5;241m=\u001b[39mfitted_kmeans\u001b[38;5;241m.\u001b[39mcluster_centers_[:, \u001b[38;5;241m1\u001b[39m],\n\u001b[0;32m      8\u001b[0m                 s\u001b[38;5;241m=\u001b[39m\u001b[38;5;241m100\u001b[39m, c\u001b[38;5;241m=\u001b[39msns\u001b[38;5;241m.\u001b[39mcolor_palette(\u001b[38;5;124m\"\u001b[39m\u001b[38;5;124mdeep\u001b[39m\u001b[38;5;124m\"\u001b[39m, \u001b[38;5;241m5\u001b[39m),\n\u001b[0;32m      9\u001b[0m                 label\u001b[38;5;241m=\u001b[39m\u001b[38;5;124m'\u001b[39m\u001b[38;5;124mCentroid\u001b[39m\u001b[38;5;124m'\u001b[39m, marker\u001b[38;5;241m=\u001b[39m\u001b[38;5;124m'\u001b[39m\u001b[38;5;124m*\u001b[39m\u001b[38;5;124m'\u001b[39m)\n",
      "\u001b[1;31mNameError\u001b[0m: name 'sns' is not defined"
     ]
    }
   ],
   "source": [
    "# Σχεδιάζει τα Clusters με τα κέντρα τους \n",
    "sns.scatterplot(x='Private', y='Grad.Rate', hue=\"Private\",\n",
    "                data=df, palette=\"deep\")\n",
    "\n",
    "# Σχεδιάζει τα κέντρα των Clusters\n",
    "sns.scatterplot(x=fitted_kmeans.cluster_centers_[:, 0],\n",
    "                y=fitted_kmeans.cluster_centers_[:, 1],\n",
    "                s=100, c=sns.color_palette(\"deep\", 5),\n",
    "                label='Centroid', marker='*')\n",
    "\n",
    "# Τοποθετεί τη λεζάντα έξω από το διάγραμμα για καλύτερη ορατότητα των δεδομένων\n",
    "plt.legend(bbox_to_anchor=(1.05, 1), loc=2, borderaxespad=0);"
   ]
  },
  {
   "cell_type": "markdown",
   "id": "de4da52279c04b88",
   "metadata": {},
   "source": [
    "<span style=\"color:blueviolet\">Διάγραμμα διασποράς 3D για την απεικόνιση των clusters"
   ]
  },
  {
   "cell_type": "code",
   "execution_count": 59,
   "id": "1104e5c96bacdb7c",
   "metadata": {
    "ExecuteTime": {
     "end_time": "2024-06-23T12:26:30.959504Z",
     "start_time": "2024-06-23T12:26:30.867968Z"
    },
    "tags": []
   },
   "outputs": [
    {
     "ename": "NameError",
     "evalue": "name 'px' is not defined",
     "output_type": "error",
     "traceback": [
      "\u001b[1;31m---------------------------------------------------------------------------\u001b[0m",
      "\u001b[1;31mNameError\u001b[0m                                 Traceback (most recent call last)",
      "Cell \u001b[1;32mIn[59], line 1\u001b[0m\n\u001b[1;32m----> 1\u001b[0m three_dim_clusters \u001b[38;5;241m=\u001b[39m \u001b[43mpx\u001b[49m\u001b[38;5;241m.\u001b[39mscatter_3d(\n\u001b[0;32m      2\u001b[0m     df, x\u001b[38;5;241m=\u001b[39m\u001b[38;5;124m'\u001b[39m\u001b[38;5;124mPrivate\u001b[39m\u001b[38;5;124m'\u001b[39m, y\u001b[38;5;241m=\u001b[39m\u001b[38;5;124m'\u001b[39m\u001b[38;5;124mGrad.Rate\u001b[39m\u001b[38;5;124m'\u001b[39m, z\u001b[38;5;241m=\u001b[39m\u001b[38;5;124m'\u001b[39m\u001b[38;5;124mAccept\u001b[39m\u001b[38;5;124m'\u001b[39m, color\u001b[38;5;241m=\u001b[39m\u001b[38;5;124m\"\u001b[39m\u001b[38;5;124mcluster\u001b[39m\u001b[38;5;124m\"\u001b[39m,\n\u001b[0;32m      3\u001b[0m     height\u001b[38;5;241m=\u001b[39m\u001b[38;5;241m600\u001b[39m, width\u001b[38;5;241m=\u001b[39m\u001b[38;5;241m600\u001b[39m,\n\u001b[0;32m      4\u001b[0m     color_discrete_map\u001b[38;5;241m=\u001b[39m{\u001b[38;5;241m0\u001b[39m: \u001b[38;5;124m\"\u001b[39m\u001b[38;5;124mblue\u001b[39m\u001b[38;5;124m\"\u001b[39m, \u001b[38;5;241m1\u001b[39m:\u001b[38;5;124m\"\u001b[39m\u001b[38;5;124mpurple\u001b[39m\u001b[38;5;124m\"\u001b[39m, \u001b[38;5;241m2\u001b[39m:\u001b[38;5;124m\"\u001b[39m\u001b[38;5;124mgreen\u001b[39m\u001b[38;5;124m\"\u001b[39m, \u001b[38;5;241m3\u001b[39m:\u001b[38;5;124m\"\u001b[39m\u001b[38;5;124mblack\u001b[39m\u001b[38;5;124m\"\u001b[39m, \u001b[38;5;241m4\u001b[39m:\u001b[38;5;124m\"\u001b[39m\u001b[38;5;124mred\u001b[39m\u001b[38;5;124m\"\u001b[39m}\n\u001b[0;32m      5\u001b[0m )\n\u001b[0;32m      6\u001b[0m three_dim_clusters\u001b[38;5;241m.\u001b[39mupdate_layout(margin\u001b[38;5;241m=\u001b[39m\u001b[38;5;28mdict\u001b[39m(t\u001b[38;5;241m=\u001b[39m\u001b[38;5;241m40\u001b[39m, l\u001b[38;5;241m=\u001b[39m\u001b[38;5;241m40\u001b[39m, r\u001b[38;5;241m=\u001b[39m\u001b[38;5;241m40\u001b[39m, b\u001b[38;5;241m=\u001b[39m\u001b[38;5;241m40\u001b[39m))\n\u001b[0;32m      7\u001b[0m three_dim_clusters\u001b[38;5;241m.\u001b[39mshow()\n",
      "\u001b[1;31mNameError\u001b[0m: name 'px' is not defined"
     ]
    }
   ],
   "source": [
    "three_dim_clusters = px.scatter_3d(\n",
    "    df, x='Private', y='Grad.Rate', z='Accept', color=\"cluster\",\n",
    "    height=600, width=600,\n",
    "    color_discrete_map={0: \"blue\", 1:\"purple\", 2:\"green\", 3:\"black\", 4:\"red\"}\n",
    ")\n",
    "three_dim_clusters.update_layout(margin=dict(t=40, l=40, r=40, b=40))\n",
    "three_dim_clusters.show()"
   ]
  },
  {
   "cell_type": "markdown",
   "id": "9e1261783c14ec01",
   "metadata": {},
   "source": [
    "# <span style=\"color:cyan\">Η μέθοδος Elbow"
   ]
  },
  {
   "cell_type": "code",
   "execution_count": 60,
   "id": "593fd8efefaef3ea",
   "metadata": {
    "ExecuteTime": {
     "end_time": "2024-06-23T12:27:14.366146Z",
     "start_time": "2024-06-23T12:27:14.207927Z"
    },
    "tags": []
   },
   "outputs": [
    {
     "ename": "NameError",
     "evalue": "name 'df' is not defined",
     "output_type": "error",
     "traceback": [
      "\u001b[1;31m---------------------------------------------------------------------------\u001b[0m",
      "\u001b[1;31mNameError\u001b[0m                                 Traceback (most recent call last)",
      "Cell \u001b[1;32mIn[60], line 2\u001b[0m\n\u001b[0;32m      1\u001b[0m \u001b[38;5;66;03m#Αφαιρούμε τις στήλες που δεν είναι αριθμητικές\u001b[39;00m\n\u001b[1;32m----> 2\u001b[0m df \u001b[38;5;241m=\u001b[39m \u001b[43mdf\u001b[49m\u001b[38;5;241m.\u001b[39mselect_dtypes(include\u001b[38;5;241m=\u001b[39m[\u001b[38;5;124m'\u001b[39m\u001b[38;5;124mint64\u001b[39m\u001b[38;5;124m'\u001b[39m, \u001b[38;5;124m'\u001b[39m\u001b[38;5;124mfloat64\u001b[39m\u001b[38;5;124m'\u001b[39m])\n\u001b[0;32m      4\u001b[0m \u001b[38;5;66;03m#Κανονικοποίηση των δεδομένων\u001b[39;00m\n\u001b[0;32m      5\u001b[0m scaler \u001b[38;5;241m=\u001b[39m StandardScaler()\n",
      "\u001b[1;31mNameError\u001b[0m: name 'df' is not defined"
     ]
    }
   ],
   "source": [
    "#Αφαιρούμε τις στήλες που δεν είναι αριθμητικές\n",
    "df = df.select_dtypes(include=['int64', 'float64'])\n",
    "\n",
    "#Κανονικοποίηση των δεδομένων\n",
    "scaler = StandardScaler()\n",
    "df_scaled = scaler.fit_transform(df)\n",
    "\n",
    "#Εφαρμογή της μεθόδου K-Means για διάφορες τιμές του k\n",
    "inertia = []\n",
    "K = range(1,10)\n",
    "for k in K:\n",
    "    kmeanModel = KMeans(n_clusters=k)\n",
    "    kmeanModel.fit(df_scaled)\n",
    "    inertia.append(kmeanModel.inertia_)\n",
    "    \n",
    "#Υπολογισμός της πρώτης παραγώγου της αδράνειας\n",
    "diffs = np.diff(inertia)\n",
    "    \n",
    "#Υπολογισμός της δεύτερης παραγώγου της αδράνειας\n",
    "diffs2 = np.diff(diffs)\n",
    "\n",
    "#Εύρεση του ιδανικού k ως το σημείο με τη μεγαλύτερη δεύτερη παράγωγο\n",
    "ideal_k = np.argmax(diffs2) + 2  # +2 επειδή οι διαφορές είναι μικρότερες κατά 1 από τον αρχικό πίνακα και οι δείκτες ξεκινούν από το 0\n",
    "\n",
    "#Σχεδίαση του γραφήματος Elbow με το ιδανικό k σημειωμένο με κόκκινο χρώμα\n",
    "plt.figure(figsize=(16,8))\n",
    "plt.plot(K, inertia, 'bx-')\n",
    "plt.plot(ideal_k, inertia[ideal_k-1], 'ro')  # -1 επειδή οι δείκτες ξεκινούν από το 0\n",
    "plt.xlabel('k')\n",
    "plt.ylabel('Inertia')\n",
    "plt.title('The Elbow Method showing the optimal k')\n",
    "plt.show()"
   ]
  },
  {
   "cell_type": "code",
   "execution_count": 61,
   "id": "c274c1e9d4c9e49b",
   "metadata": {
    "ExecuteTime": {
     "end_time": "2024-06-23T12:28:47.683207Z",
     "start_time": "2024-06-23T12:28:47.411110Z"
    },
    "tags": []
   },
   "outputs": [
    {
     "ename": "NameError",
     "evalue": "name 'df' is not defined",
     "output_type": "error",
     "traceback": [
      "\u001b[1;31m---------------------------------------------------------------------------\u001b[0m",
      "\u001b[1;31mNameError\u001b[0m                                 Traceback (most recent call last)",
      "Cell \u001b[1;32mIn[61], line 2\u001b[0m\n\u001b[0;32m      1\u001b[0m \u001b[38;5;66;03m# Remove columns that are not numeric\u001b[39;00m\n\u001b[1;32m----> 2\u001b[0m df \u001b[38;5;241m=\u001b[39m \u001b[43mdf\u001b[49m\u001b[38;5;241m.\u001b[39mselect_dtypes(include\u001b[38;5;241m=\u001b[39m[\u001b[38;5;124m'\u001b[39m\u001b[38;5;124mint64\u001b[39m\u001b[38;5;124m'\u001b[39m, \u001b[38;5;124m'\u001b[39m\u001b[38;5;124mfloat64\u001b[39m\u001b[38;5;124m'\u001b[39m])\n\u001b[0;32m      4\u001b[0m \u001b[38;5;66;03m# Fill NaNs with 0 or any other appropriate value\u001b[39;00m\n\u001b[0;32m      5\u001b[0m df \u001b[38;5;241m=\u001b[39m df\u001b[38;5;241m.\u001b[39mfillna(\u001b[38;5;241m0\u001b[39m)\n",
      "\u001b[1;31mNameError\u001b[0m: name 'df' is not defined"
     ]
    }
   ],
   "source": [
    "# Remove columns that are not numeric\n",
    "df = df.select_dtypes(include=['int64', 'float64'])\n",
    "\n",
    "# Fill NaNs with 0 or any other appropriate value\n",
    "df = df.fillna(0)\n",
    "\n",
    "# Normalize the data\n",
    "scaler = StandardScaler()\n",
    "df_scaled = scaler.fit_transform(df)\n",
    "\n",
    "# Apply the K-Means method for various values of k\n",
    "inertia = []\n",
    "K = range(1,10)\n",
    "for k in K:\n",
    "    kmeanModel = KMeans(n_clusters=k)\n",
    "    kmeanModel.fit(df_scaled)\n",
    "    inertia.append(kmeanModel.inertia_)\n",
    "\n",
    "# Calculate the first derivative of inertia\n",
    "diffs = np.diff(inertia)\n",
    "\n",
    "# Calculate the second derivative of inertia\n",
    "diffs2 = np.diff(diffs)\n",
    "\n",
    "# Find the ideal k as the point with the highest second derivative\n",
    "ideal_k = np.argmax(diffs2) + 2  # +2 because the differences are 1 less than the original array and the indices start from 0\n",
    "\n",
    "# Plot the Elbow graph with the ideal k marked in red\n",
    "plt.figure(figsize=(16,8))\n",
    "plt.plot(K, inertia, 'bx-')\n",
    "plt.plot(ideal_k, inertia[ideal_k-1], 'ro')  # -1 because the indices start from 0\n",
    "plt.xlabel('k')\n",
    "plt.ylabel('Inertia')\n",
    "plt.title('The Elbow Method showing the optimal k')\n",
    "plt.show()"
   ]
  },
  {
   "cell_type": "markdown",
   "id": "de04dd857fb0079c",
   "metadata": {},
   "source": [
    "# <span style=\"color:cyan\">Mέθοδος Silouette για τον προσδιορισμό του ιδανικού αριθμού των clusters"
   ]
  },
  {
   "cell_type": "code",
   "execution_count": 62,
   "id": "c4f9183ce25b7021",
   "metadata": {
    "ExecuteTime": {
     "end_time": "2024-06-23T12:32:06.402970Z",
     "start_time": "2024-06-23T12:32:06.080558Z"
    },
    "tags": []
   },
   "outputs": [
    {
     "ename": "NameError",
     "evalue": "name 'KMeans' is not defined",
     "output_type": "error",
     "traceback": [
      "\u001b[1;31m---------------------------------------------------------------------------\u001b[0m",
      "\u001b[1;31mNameError\u001b[0m                                 Traceback (most recent call last)",
      "Cell \u001b[1;32mIn[62], line 3\u001b[0m\n\u001b[0;32m      1\u001b[0m silhouette_scores_list \u001b[38;5;241m=\u001b[39m []\n\u001b[0;32m      2\u001b[0m \u001b[38;5;28;01mfor\u001b[39;00m clusters_number \u001b[38;5;129;01min\u001b[39;00m \u001b[38;5;28mrange\u001b[39m(\u001b[38;5;241m2\u001b[39m, \u001b[38;5;241m15\u001b[39m):  \u001b[38;5;66;03m# Silhouette starts from 2 clusters.\u001b[39;00m\n\u001b[1;32m----> 3\u001b[0m     model \u001b[38;5;241m=\u001b[39m \u001b[43mKMeans\u001b[49m(n_clusters\u001b[38;5;241m=\u001b[39mclusters_number, random_state\u001b[38;5;241m=\u001b[39m\u001b[38;5;241m0\u001b[39m)\n\u001b[0;32m      4\u001b[0m     clusters \u001b[38;5;241m=\u001b[39m model\u001b[38;5;241m.\u001b[39mfit_predict(X)\n\u001b[0;32m      5\u001b[0m     silhouette_metric_score \u001b[38;5;241m=\u001b[39m silhouette_score(X, clusters)\n",
      "\u001b[1;31mNameError\u001b[0m: name 'KMeans' is not defined"
     ]
    }
   ],
   "source": [
    "silhouette_scores_list = []\n",
    "for clusters_number in range(2, 15):  # Silhouette starts from 2 clusters.\n",
    "    model = KMeans(n_clusters=clusters_number, random_state=0)\n",
    "    clusters = model.fit_predict(X)\n",
    "    silhouette_metric_score = silhouette_score(X, clusters)\n",
    "    silhouette_scores_list.append(silhouette_metric_score)\n",
    "    print(\n",
    "        f\"For clusters={clusters_number}, the average silhouette_score is: {silhouette_metric_score}\")"
   ]
  },
  {
   "cell_type": "code",
   "execution_count": 63,
   "id": "4c2e9c128d8262a2",
   "metadata": {
    "ExecuteTime": {
     "end_time": "2024-06-23T12:33:23.373564Z",
     "start_time": "2024-06-23T12:33:23.367669Z"
    },
    "tags": []
   },
   "outputs": [
    {
     "data": {
      "text/plain": [
       "19.513444233352644"
      ]
     },
     "execution_count": 63,
     "metadata": {},
     "output_type": "execute_result"
    }
   ],
   "source": [
    "#Διαφορά των σκορ μεταξύ 3 και 5 clusters σε ποσοστιαία βάση\n",
    "((0.4759356715031701-0.3830642296577666)/0.4759356715031701) * 100"
   ]
  },
  {
   "cell_type": "markdown",
   "id": "3c7e134d7cac1e4",
   "metadata": {},
   "source": [
    "\n",
    "# <span style=\"color:cyan\">Εφαρμογή του Κ-Means με τον ιδανικό αριθμό των clusters απο τη μέθοδο Elbow"
   ]
  },
  {
   "cell_type": "code",
   "execution_count": 64,
   "id": "a1d5c5db5ff003de",
   "metadata": {
    "ExecuteTime": {
     "end_time": "2024-06-23T12:44:22.381339Z",
     "start_time": "2024-06-23T12:44:22.375548Z"
    },
    "tags": []
   },
   "outputs": [
    {
     "ename": "NameError",
     "evalue": "name 'df' is not defined",
     "output_type": "error",
     "traceback": [
      "\u001b[1;31m---------------------------------------------------------------------------\u001b[0m",
      "\u001b[1;31mNameError\u001b[0m                                 Traceback (most recent call last)",
      "Cell \u001b[1;32mIn[64], line 2\u001b[0m\n\u001b[0;32m      1\u001b[0m \u001b[38;5;66;03m# Δημιουργεί τον πίνακα X με τις μεταβλητές που θα χρησιμοποιηθούν για τον αλγόριθμο K-Means\u001b[39;00m\n\u001b[1;32m----> 2\u001b[0m X \u001b[38;5;241m=\u001b[39m \u001b[43mdf\u001b[49m[[\u001b[38;5;124m'\u001b[39m\u001b[38;5;124mPrivate\u001b[39m\u001b[38;5;124m'\u001b[39m, \u001b[38;5;124m'\u001b[39m\u001b[38;5;124mApps\u001b[39m\u001b[38;5;124m'\u001b[39m, \u001b[38;5;124m'\u001b[39m\u001b[38;5;124mAccept\u001b[39m\u001b[38;5;124m'\u001b[39m, \u001b[38;5;124m'\u001b[39m\u001b[38;5;124mEnroll\u001b[39m\u001b[38;5;124m'\u001b[39m, \u001b[38;5;124m'\u001b[39m\u001b[38;5;124mTop10perc\u001b[39m\u001b[38;5;124m'\u001b[39m,\u001b[38;5;124m'\u001b[39m\u001b[38;5;124mTop25perc\u001b[39m\u001b[38;5;124m'\u001b[39m, \u001b[38;5;124m'\u001b[39m\u001b[38;5;124mF.Undergrad\u001b[39m\u001b[38;5;124m'\u001b[39m, \u001b[38;5;124m'\u001b[39m\u001b[38;5;124mP.Undergrad\u001b[39m\u001b[38;5;124m'\u001b[39m, \u001b[38;5;124m'\u001b[39m\u001b[38;5;124mOutstate\u001b[39m\u001b[38;5;124m'\u001b[39m, \u001b[38;5;124m'\u001b[39m\u001b[38;5;124mRoom.Board\u001b[39m\u001b[38;5;124m'\u001b[39m,\u001b[38;5;124m'\u001b[39m\u001b[38;5;124mBooks\u001b[39m\u001b[38;5;124m'\u001b[39m, \u001b[38;5;124m'\u001b[39m\u001b[38;5;124mPersonal\u001b[39m\u001b[38;5;124m'\u001b[39m, \u001b[38;5;124m'\u001b[39m\u001b[38;5;124mPhD\u001b[39m\u001b[38;5;124m'\u001b[39m, \u001b[38;5;124m'\u001b[39m\u001b[38;5;124mTerminal\u001b[39m\u001b[38;5;124m'\u001b[39m, \u001b[38;5;124m'\u001b[39m\u001b[38;5;124mS.F.Ratio\u001b[39m\u001b[38;5;124m'\u001b[39m, \u001b[38;5;124m'\u001b[39m\u001b[38;5;124mperc.alumni\u001b[39m\u001b[38;5;124m'\u001b[39m,\u001b[38;5;124m'\u001b[39m\u001b[38;5;124mExpend\u001b[39m\u001b[38;5;124m'\u001b[39m, \u001b[38;5;124m'\u001b[39m\u001b[38;5;124mGrad.Rate\u001b[39m\u001b[38;5;124m'\u001b[39m]]\n",
      "\u001b[1;31mNameError\u001b[0m: name 'df' is not defined"
     ]
    }
   ],
   "source": [
    "# Δημιουργεί τον πίνακα X με τις μεταβλητές που θα χρησιμοποιηθούν για τον αλγόριθμο K-Means\n",
    "X = df[['Private', 'Apps', 'Accept', 'Enroll', 'Top10perc','Top25perc', 'F.Undergrad', 'P.Undergrad', 'Outstate', 'Room.Board','Books', 'Personal', 'PhD', 'Terminal', 'S.F.Ratio', 'perc.alumni','Expend', 'Grad.Rate']]"
   ]
  },
  {
   "cell_type": "code",
   "execution_count": 65,
   "id": "b9efbf4b90aa3ac9",
   "metadata": {
    "ExecuteTime": {
     "end_time": "2024-06-23T12:44:23.444696Z",
     "start_time": "2024-06-23T12:44:23.432156Z"
    },
    "tags": []
   },
   "outputs": [
    {
     "ename": "NameError",
     "evalue": "name 'X' is not defined",
     "output_type": "error",
     "traceback": [
      "\u001b[1;31m---------------------------------------------------------------------------\u001b[0m",
      "\u001b[1;31mNameError\u001b[0m                                 Traceback (most recent call last)",
      "Cell \u001b[1;32mIn[65], line 2\u001b[0m\n\u001b[0;32m      1\u001b[0m \u001b[38;5;66;03m# Εμφανίζει τις πρώτες 3 γραμμές του πίνακα X\u001b[39;00m\n\u001b[1;32m----> 2\u001b[0m \u001b[43mX\u001b[49m\u001b[38;5;241m.\u001b[39mhead(\u001b[38;5;241m3\u001b[39m)\n",
      "\u001b[1;31mNameError\u001b[0m: name 'X' is not defined"
     ]
    }
   ],
   "source": [
    "# Εμφανίζει τις πρώτες 3 γραμμές του πίνακα X\n",
    "X.head(3)"
   ]
  },
  {
   "cell_type": "code",
   "execution_count": 66,
   "id": "f0df0505e49d152b",
   "metadata": {
    "ExecuteTime": {
     "end_time": "2024-06-23T12:44:31.987410Z",
     "start_time": "2024-06-23T12:44:31.980132Z"
    },
    "tags": []
   },
   "outputs": [
    {
     "ename": "NameError",
     "evalue": "name 'KMeans' is not defined",
     "output_type": "error",
     "traceback": [
      "\u001b[1;31m---------------------------------------------------------------------------\u001b[0m",
      "\u001b[1;31mNameError\u001b[0m                                 Traceback (most recent call last)",
      "Cell \u001b[1;32mIn[66], line 2\u001b[0m\n\u001b[0;32m      1\u001b[0m \u001b[38;5;66;03m# Εκτυπώνει τον πίνακα X\u001b[39;00m\n\u001b[1;32m----> 2\u001b[0m model \u001b[38;5;241m=\u001b[39m \u001b[43mKMeans\u001b[49m(n_clusters\u001b[38;5;241m=\u001b[39m\u001b[38;5;241m2\u001b[39m, random_state\u001b[38;5;241m=\u001b[39m\u001b[38;5;241m0\u001b[39m)\n",
      "\u001b[1;31mNameError\u001b[0m: name 'KMeans' is not defined"
     ]
    }
   ],
   "source": [
    "# Εκτυπώνει τον πίνακα X\n",
    "model = KMeans(n_clusters=2, random_state=0)"
   ]
  },
  {
   "cell_type": "code",
   "execution_count": 67,
   "id": "e2811a933ac8d263",
   "metadata": {
    "ExecuteTime": {
     "end_time": "2024-06-23T12:44:33.268066Z",
     "start_time": "2024-06-23T12:44:33.261299Z"
    },
    "tags": []
   },
   "outputs": [
    {
     "ename": "NameError",
     "evalue": "name 'model' is not defined",
     "output_type": "error",
     "traceback": [
      "\u001b[1;31m---------------------------------------------------------------------------\u001b[0m",
      "\u001b[1;31mNameError\u001b[0m                                 Traceback (most recent call last)",
      "Cell \u001b[1;32mIn[67], line 2\u001b[0m\n\u001b[0;32m      1\u001b[0m \u001b[38;5;66;03m# Εμφανίζει το μοντέλο που δημιουργήθηκε\u001b[39;00m\n\u001b[1;32m----> 2\u001b[0m \u001b[43mmodel\u001b[49m\n",
      "\u001b[1;31mNameError\u001b[0m: name 'model' is not defined"
     ]
    }
   ],
   "source": [
    "# Εμφανίζει το μοντέλο που δημιουργήθηκε\n",
    "model"
   ]
  },
  {
   "cell_type": "code",
   "execution_count": 68,
   "id": "7ef98d531d340fa2",
   "metadata": {
    "ExecuteTime": {
     "end_time": "2024-06-23T12:44:34.141991Z",
     "start_time": "2024-06-23T12:44:34.128567Z"
    },
    "tags": []
   },
   "outputs": [
    {
     "ename": "NameError",
     "evalue": "name 'model' is not defined",
     "output_type": "error",
     "traceback": [
      "\u001b[1;31m---------------------------------------------------------------------------\u001b[0m",
      "\u001b[1;31mNameError\u001b[0m                                 Traceback (most recent call last)",
      "Cell \u001b[1;32mIn[68], line 2\u001b[0m\n\u001b[0;32m      1\u001b[0m \u001b[38;5;66;03m#Εκπαίδευση του μοντέλου\u001b[39;00m\n\u001b[1;32m----> 2\u001b[0m fitted_kmeans \u001b[38;5;241m=\u001b[39m \u001b[43mmodel\u001b[49m\u001b[38;5;241m.\u001b[39mfit(X)\n",
      "\u001b[1;31mNameError\u001b[0m: name 'model' is not defined"
     ]
    }
   ],
   "source": [
    "#Εκπαίδευση του μοντέλου\n",
    "fitted_kmeans = model.fit(X)"
   ]
  },
  {
   "cell_type": "code",
   "execution_count": 69,
   "id": "242dc041743057b8",
   "metadata": {
    "ExecuteTime": {
     "end_time": "2024-06-23T12:44:35.233605Z",
     "start_time": "2024-06-23T12:44:35.224852Z"
    },
    "tags": []
   },
   "outputs": [
    {
     "ename": "NameError",
     "evalue": "name 'fitted_kmeans' is not defined",
     "output_type": "error",
     "traceback": [
      "\u001b[1;31m---------------------------------------------------------------------------\u001b[0m",
      "\u001b[1;31mNameError\u001b[0m                                 Traceback (most recent call last)",
      "Cell \u001b[1;32mIn[69], line 2\u001b[0m\n\u001b[0;32m      1\u001b[0m \u001b[38;5;66;03m# Αυτή η εντολή χρησιμοποιεί το εκπαιδευμένο μοντέλο K-Means για να προβλέψει την ομάδα στην οποία ανήκει κάθε δείγμα στον πίνακα X\u001b[39;00m\n\u001b[1;32m----> 2\u001b[0m y_pred \u001b[38;5;241m=\u001b[39m \u001b[43mfitted_kmeans\u001b[49m\u001b[38;5;241m.\u001b[39mpredict(X)\n",
      "\u001b[1;31mNameError\u001b[0m: name 'fitted_kmeans' is not defined"
     ]
    }
   ],
   "source": [
    "# Αυτή η εντολή χρησιμοποιεί το εκπαιδευμένο μοντέλο K-Means για να προβλέψει την ομάδα στην οποία ανήκει κάθε δείγμα στον πίνακα X\n",
    "y_pred = fitted_kmeans.predict(X)"
   ]
  },
  {
   "cell_type": "code",
   "execution_count": 70,
   "id": "824313b69ba35e21",
   "metadata": {
    "ExecuteTime": {
     "end_time": "2024-06-23T12:44:42.693585Z",
     "start_time": "2024-06-23T12:44:42.674057Z"
    },
    "tags": []
   },
   "outputs": [
    {
     "ename": "NameError",
     "evalue": "name 'KMeans' is not defined",
     "output_type": "error",
     "traceback": [
      "\u001b[1;31m---------------------------------------------------------------------------\u001b[0m",
      "\u001b[1;31mNameError\u001b[0m                                 Traceback (most recent call last)",
      "Cell \u001b[1;32mIn[70], line 2\u001b[0m\n\u001b[0;32m      1\u001b[0m \u001b[38;5;66;03m# Δημιουργεί ένα μοντέλο K-Means με 5 συστάδες, το εκπαιδεύει στα δεδομένα που περιέχονται στον πίνακα X και ταυτόχρονα προβλέπει τη συστάδα στην οποία ανήκει κάθε δείγμα. Το αποτέλεσμα της πρόβλεψης αποθηκεύεται στη μεταβλητή y_pred.\u001b[39;00m\n\u001b[1;32m----> 2\u001b[0m y_pred \u001b[38;5;241m=\u001b[39m \u001b[43mKMeans\u001b[49m(n_clusters\u001b[38;5;241m=\u001b[39m\u001b[38;5;241m2\u001b[39m)\u001b[38;5;241m.\u001b[39mfit_predict(X)\n",
      "\u001b[1;31mNameError\u001b[0m: name 'KMeans' is not defined"
     ]
    }
   ],
   "source": [
    "# Δημιουργεί ένα μοντέλο K-Means με 5 συστάδες, το εκπαιδεύει στα δεδομένα που περιέχονται στον πίνακα X και ταυτόχρονα προβλέπει τη συστάδα στην οποία ανήκει κάθε δείγμα. Το αποτέλεσμα της πρόβλεψης αποθηκεύεται στη μεταβλητή y_pred.\n",
    "y_pred = KMeans(n_clusters=2).fit_predict(X)"
   ]
  },
  {
   "cell_type": "code",
   "execution_count": 71,
   "id": "936be230ec50ee00",
   "metadata": {
    "ExecuteTime": {
     "end_time": "2024-06-23T12:44:44.161494Z",
     "start_time": "2024-06-23T12:44:44.155022Z"
    },
    "tags": []
   },
   "outputs": [
    {
     "ename": "NameError",
     "evalue": "name 'y_pred' is not defined",
     "output_type": "error",
     "traceback": [
      "\u001b[1;31m---------------------------------------------------------------------------\u001b[0m",
      "\u001b[1;31mNameError\u001b[0m                                 Traceback (most recent call last)",
      "Cell \u001b[1;32mIn[71], line 2\u001b[0m\n\u001b[0;32m      1\u001b[0m \u001b[38;5;66;03m# Εκτυπώνει τον πίνακα y_pred\u001b[39;00m\n\u001b[1;32m----> 2\u001b[0m \u001b[43my_pred\u001b[49m\n",
      "\u001b[1;31mNameError\u001b[0m: name 'y_pred' is not defined"
     ]
    }
   ],
   "source": [
    "# Εκτυπώνει τον πίνακα y_pred\n",
    "y_pred"
   ]
  },
  {
   "cell_type": "code",
   "execution_count": 72,
   "id": "8af98b72eb9ef0eb",
   "metadata": {
    "ExecuteTime": {
     "end_time": "2024-06-23T12:44:44.949256Z",
     "start_time": "2024-06-23T12:44:44.933558Z"
    },
    "tags": []
   },
   "outputs": [
    {
     "ename": "NameError",
     "evalue": "name 'pd' is not defined",
     "output_type": "error",
     "traceback": [
      "\u001b[1;31m---------------------------------------------------------------------------\u001b[0m",
      "\u001b[1;31mNameError\u001b[0m                                 Traceback (most recent call last)",
      "Cell \u001b[1;32mIn[72], line 2\u001b[0m\n\u001b[0;32m      1\u001b[0m \u001b[38;5;66;03m#Δημιουργία μιας νέας στήλης 'cluster' στον πίνακα df που περιέχει τις προβλέψεις του μοντέλου K-Means\u001b[39;00m\n\u001b[1;32m----> 2\u001b[0m df[\u001b[38;5;124m\"\u001b[39m\u001b[38;5;124mcluster\u001b[39m\u001b[38;5;124m\"\u001b[39m] \u001b[38;5;241m=\u001b[39m \u001b[43mpd\u001b[49m\u001b[38;5;241m.\u001b[39mDataFrame(y_pred, columns\u001b[38;5;241m=\u001b[39m[\u001b[38;5;124m\"\u001b[39m\u001b[38;5;124mcluster\u001b[39m\u001b[38;5;124m\"\u001b[39m])\n\u001b[0;32m      4\u001b[0m \u001b[38;5;66;03m#Θέτει τη στήλη 'cluster' ως κατηγορική\u001b[39;00m\n\u001b[0;32m      5\u001b[0m df[\u001b[38;5;124m\"\u001b[39m\u001b[38;5;124mcluster\u001b[39m\u001b[38;5;124m\"\u001b[39m] \u001b[38;5;241m=\u001b[39m df[\u001b[38;5;124m\"\u001b[39m\u001b[38;5;124mcluster\u001b[39m\u001b[38;5;124m\"\u001b[39m]\u001b[38;5;241m.\u001b[39mastype(\u001b[38;5;124m'\u001b[39m\u001b[38;5;124mcategory\u001b[39m\u001b[38;5;124m'\u001b[39m)\n",
      "\u001b[1;31mNameError\u001b[0m: name 'pd' is not defined"
     ]
    }
   ],
   "source": [
    "#Δημιουργία μιας νέας στήλης 'cluster' στον πίνακα df που περιέχει τις προβλέψεις του μοντέλου K-Means\n",
    "df[\"cluster\"] = pd.DataFrame(y_pred, columns=[\"cluster\"])\n",
    "\n",
    "#Θέτει τη στήλη 'cluster' ως κατηγορική\n",
    "df[\"cluster\"] = df[\"cluster\"].astype('category')\n",
    "\n",
    "#Εκτυπώνει τις πρώτες 10 γραμμές του πίνακα df\n",
    "df.head(10)"
   ]
  },
  {
   "cell_type": "code",
   "execution_count": 73,
   "id": "66951c380358dde5",
   "metadata": {
    "ExecuteTime": {
     "end_time": "2024-06-23T12:44:46.278140Z",
     "start_time": "2024-06-23T12:44:46.261744Z"
    },
    "tags": []
   },
   "outputs": [
    {
     "ename": "NameError",
     "evalue": "name 'df' is not defined",
     "output_type": "error",
     "traceback": [
      "\u001b[1;31m---------------------------------------------------------------------------\u001b[0m",
      "\u001b[1;31mNameError\u001b[0m                                 Traceback (most recent call last)",
      "Cell \u001b[1;32mIn[73], line 2\u001b[0m\n\u001b[0;32m      1\u001b[0m \u001b[38;5;66;03m#Εμφανίζει τον αριθμό των παρατηρήσεων που ανήκουν σε κάθε συστάδα\u001b[39;00m\n\u001b[1;32m----> 2\u001b[0m \u001b[43mdf\u001b[49m\u001b[38;5;241m.\u001b[39mgroupby(\u001b[38;5;124m'\u001b[39m\u001b[38;5;124mcluster\u001b[39m\u001b[38;5;124m'\u001b[39m)\u001b[38;5;241m.\u001b[39msize()\n",
      "\u001b[1;31mNameError\u001b[0m: name 'df' is not defined"
     ]
    }
   ],
   "source": [
    "#Εμφανίζει τον αριθμό των παρατηρήσεων που ανήκουν σε κάθε συστάδα\n",
    "df.groupby('cluster').size()"
   ]
  },
  {
   "cell_type": "code",
   "execution_count": 74,
   "id": "5e22180c68505a37",
   "metadata": {
    "ExecuteTime": {
     "end_time": "2024-06-23T12:44:47.651179Z",
     "start_time": "2024-06-23T12:44:47.642783Z"
    },
    "tags": []
   },
   "outputs": [
    {
     "ename": "NameError",
     "evalue": "name 'df' is not defined",
     "output_type": "error",
     "traceback": [
      "\u001b[1;31m---------------------------------------------------------------------------\u001b[0m",
      "\u001b[1;31mNameError\u001b[0m                                 Traceback (most recent call last)",
      "Cell \u001b[1;32mIn[74], line 1\u001b[0m\n\u001b[1;32m----> 1\u001b[0m \u001b[43mdf\u001b[49m[\u001b[38;5;124m'\u001b[39m\u001b[38;5;124mcluster\u001b[39m\u001b[38;5;124m'\u001b[39m]\u001b[38;5;241m.\u001b[39mvalue_counts()\n",
      "\u001b[1;31mNameError\u001b[0m: name 'df' is not defined"
     ]
    }
   ],
   "source": [
    "df['cluster'].value_counts()"
   ]
  },
  {
   "cell_type": "code",
   "execution_count": 75,
   "id": "95e21564550afe50",
   "metadata": {
    "ExecuteTime": {
     "end_time": "2024-06-23T12:44:48.528252Z",
     "start_time": "2024-06-23T12:44:48.499810Z"
    },
    "tags": []
   },
   "outputs": [
    {
     "ename": "NameError",
     "evalue": "name 'pd' is not defined",
     "output_type": "error",
     "traceback": [
      "\u001b[1;31m---------------------------------------------------------------------------\u001b[0m",
      "\u001b[1;31mNameError\u001b[0m                                 Traceback (most recent call last)",
      "Cell \u001b[1;32mIn[75], line 1\u001b[0m\n\u001b[1;32m----> 1\u001b[0m df[\u001b[38;5;124m\"\u001b[39m\u001b[38;5;124mcluster\u001b[39m\u001b[38;5;124m\"\u001b[39m] \u001b[38;5;241m=\u001b[39m \u001b[43mpd\u001b[49m\u001b[38;5;241m.\u001b[39mDataFrame(y_pred, columns\u001b[38;5;241m=\u001b[39m[\u001b[38;5;124m\"\u001b[39m\u001b[38;5;124mcluster\u001b[39m\u001b[38;5;124m\"\u001b[39m])\n\u001b[0;32m      2\u001b[0m numeric_cols \u001b[38;5;241m=\u001b[39m df\u001b[38;5;241m.\u001b[39mselect_dtypes(include\u001b[38;5;241m=\u001b[39m[np\u001b[38;5;241m.\u001b[39mnumber])\n\u001b[0;32m      3\u001b[0m mean_values \u001b[38;5;241m=\u001b[39m numeric_cols\u001b[38;5;241m.\u001b[39mgroupby(\u001b[38;5;124m'\u001b[39m\u001b[38;5;124mcluster\u001b[39m\u001b[38;5;124m'\u001b[39m)\u001b[38;5;241m.\u001b[39mmean()\n",
      "\u001b[1;31mNameError\u001b[0m: name 'pd' is not defined"
     ]
    }
   ],
   "source": [
    "df[\"cluster\"] = pd.DataFrame(y_pred, columns=[\"cluster\"])\n",
    "numeric_cols = df.select_dtypes(include=[np.number])\n",
    "mean_values = numeric_cols.groupby('cluster').mean()\n",
    "mean_values"
   ]
  },
  {
   "cell_type": "markdown",
   "id": "cf2662c1477d7bce",
   "metadata": {},
   "source": [
    "#  <span style=\"color:cyan\">Διαγράμματα της μεθόδου K-Means (Κ=3)"
   ]
  },
  {
   "cell_type": "code",
   "execution_count": 76,
   "id": "c965d53dfc34183e",
   "metadata": {
    "ExecuteTime": {
     "end_time": "2024-06-23T12:44:52.335049Z",
     "start_time": "2024-06-23T12:44:52.021537Z"
    },
    "tags": []
   },
   "outputs": [
    {
     "ename": "NameError",
     "evalue": "name 'sns' is not defined",
     "output_type": "error",
     "traceback": [
      "\u001b[1;31m---------------------------------------------------------------------------\u001b[0m",
      "\u001b[1;31mNameError\u001b[0m                                 Traceback (most recent call last)",
      "Cell \u001b[1;32mIn[76], line 2\u001b[0m\n\u001b[0;32m      1\u001b[0m \u001b[38;5;66;03m# Σχεδιάζει τα Clusters με τα κέντρα τους \u001b[39;00m\n\u001b[1;32m----> 2\u001b[0m \u001b[43msns\u001b[49m\u001b[38;5;241m.\u001b[39mscatterplot(x\u001b[38;5;241m=\u001b[39m\u001b[38;5;124m'\u001b[39m\u001b[38;5;124mPrivate\u001b[39m\u001b[38;5;124m'\u001b[39m, y\u001b[38;5;241m=\u001b[39m\u001b[38;5;124m'\u001b[39m\u001b[38;5;124mGrad.Rate\u001b[39m\u001b[38;5;124m'\u001b[39m, hue\u001b[38;5;241m=\u001b[39m\u001b[38;5;124m\"\u001b[39m\u001b[38;5;124mcluster\u001b[39m\u001b[38;5;124m\"\u001b[39m,\n\u001b[0;32m      3\u001b[0m                 data\u001b[38;5;241m=\u001b[39mdf, palette\u001b[38;5;241m=\u001b[39m\u001b[38;5;124m\"\u001b[39m\u001b[38;5;124mdeep\u001b[39m\u001b[38;5;124m\"\u001b[39m)\n\u001b[0;32m      5\u001b[0m \u001b[38;5;66;03m# Σχεδιάζει τα κέντρα των Clusters\u001b[39;00m\n\u001b[0;32m      6\u001b[0m sns\u001b[38;5;241m.\u001b[39mscatterplot(x\u001b[38;5;241m=\u001b[39mfitted_kmeans\u001b[38;5;241m.\u001b[39mcluster_centers_[:, \u001b[38;5;241m0\u001b[39m],\n\u001b[0;32m      7\u001b[0m                 y\u001b[38;5;241m=\u001b[39mfitted_kmeans\u001b[38;5;241m.\u001b[39mcluster_centers_[:, \u001b[38;5;241m1\u001b[39m],\n\u001b[0;32m      8\u001b[0m                 s\u001b[38;5;241m=\u001b[39m\u001b[38;5;241m100\u001b[39m, c\u001b[38;5;241m=\u001b[39msns\u001b[38;5;241m.\u001b[39mcolor_palette(\u001b[38;5;124m\"\u001b[39m\u001b[38;5;124mdeep\u001b[39m\u001b[38;5;124m\"\u001b[39m, \u001b[38;5;241m3\u001b[39m),\n\u001b[0;32m      9\u001b[0m                 label\u001b[38;5;241m=\u001b[39m\u001b[38;5;124m'\u001b[39m\u001b[38;5;124mCentroid\u001b[39m\u001b[38;5;124m'\u001b[39m, marker\u001b[38;5;241m=\u001b[39m\u001b[38;5;124m'\u001b[39m\u001b[38;5;124m*\u001b[39m\u001b[38;5;124m'\u001b[39m)\n",
      "\u001b[1;31mNameError\u001b[0m: name 'sns' is not defined"
     ]
    }
   ],
   "source": [
    "# Σχεδιάζει τα Clusters με τα κέντρα τους \n",
    "sns.scatterplot(x='Private', y='Grad.Rate', hue=\"cluster\",\n",
    "                data=df, palette=\"deep\")\n",
    "\n",
    "# Σχεδιάζει τα κέντρα των Clusters\n",
    "sns.scatterplot(x=fitted_kmeans.cluster_centers_[:, 0],\n",
    "                y=fitted_kmeans.cluster_centers_[:, 1],\n",
    "                s=100, c=sns.color_palette(\"deep\", 3),\n",
    "                label='Centroid', marker='*')\n",
    "\n",
    "# Τοποθετεί τη λεζάντα έξω από το διάγραμμα για καλύτερη ορατότητα των δεδομένων\n",
    "plt.legend(bbox_to_anchor=(1.05, 1), loc=2, borderaxespad=0);"
   ]
  },
  {
   "cell_type": "code",
   "execution_count": 77,
   "id": "6c905ac847ab6b74",
   "metadata": {
    "ExecuteTime": {
     "end_time": "2024-06-23T12:44:58.805844Z",
     "start_time": "2024-06-23T12:44:58.637193Z"
    },
    "tags": []
   },
   "outputs": [
    {
     "ename": "NameError",
     "evalue": "name 'plt' is not defined",
     "output_type": "error",
     "traceback": [
      "\u001b[1;31m---------------------------------------------------------------------------\u001b[0m",
      "\u001b[1;31mNameError\u001b[0m                                 Traceback (most recent call last)",
      "Cell \u001b[1;32mIn[77], line 5\u001b[0m\n\u001b[0;32m      2\u001b[0m cluster_labels \u001b[38;5;241m=\u001b[39m {\u001b[38;5;241m0\u001b[39m: \u001b[38;5;124m\"\u001b[39m\u001b[38;5;124mNo\u001b[39m\u001b[38;5;124m\"\u001b[39m, \u001b[38;5;241m1\u001b[39m: \u001b[38;5;124m\"\u001b[39m\u001b[38;5;124mYes\u001b[39m\u001b[38;5;124m\"\u001b[39m}\n\u001b[0;32m      4\u001b[0m \u001b[38;5;66;03m# Δημιουργία ενός διαγράμματος για κάθε cluster\u001b[39;00m\n\u001b[1;32m----> 5\u001b[0m fig \u001b[38;5;241m=\u001b[39m \u001b[43mplt\u001b[49m\u001b[38;5;241m.\u001b[39mfigure(figsize\u001b[38;5;241m=\u001b[39m(\u001b[38;5;241m8\u001b[39m, \u001b[38;5;241m6\u001b[39m))\n\u001b[0;32m      6\u001b[0m ax \u001b[38;5;241m=\u001b[39m fig\u001b[38;5;241m.\u001b[39madd_subplot(\u001b[38;5;241m111\u001b[39m, projection\u001b[38;5;241m=\u001b[39m\u001b[38;5;124m'\u001b[39m\u001b[38;5;124m3d\u001b[39m\u001b[38;5;124m'\u001b[39m)\n\u001b[0;32m      8\u001b[0m \u001b[38;5;66;03m# Ανάκτηση του αριθμού των clusters από το εκπαιδευμένο μοντέλο\u001b[39;00m\n",
      "\u001b[1;31mNameError\u001b[0m: name 'plt' is not defined"
     ]
    }
   ],
   "source": [
    "# Ορισμός του λεξικού για την αντιστοίχιση των ετικετών των clusters\n",
    "cluster_labels = {0: \"No\", 1: \"Yes\"}\n",
    "\n",
    "# Δημιουργία ενός διαγράμματος για κάθε cluster\n",
    "fig = plt.figure(figsize=(8, 6))\n",
    "ax = fig.add_subplot(111, projection='3d')\n",
    "\n",
    "# Ανάκτηση του αριθμού των clusters από το εκπαιδευμένο μοντέλο\n",
    "num_clusters = fitted_kmeans.n_clusters\n",
    "\n",
    "for i in range(num_clusters):\n",
    "    df_cluster = df[df['cluster'] == i]\n",
    "    ax.scatter(df_cluster['Private'], df_cluster['Grad.Rate'], df_cluster['Accept'], label=cluster_labels[i])\n",
    "\n",
    "ax.set_xlabel('Private')\n",
    "ax.set_ylabel('Grad.Rate')\n",
    "ax.set_zlabel('Accept')\n",
    "ax.legend()\n",
    "plt.show()"
   ]
  },
  {
   "cell_type": "markdown",
   "id": "18df9c835570cafc",
   "metadata": {},
   "source": [
    "# <span style=\"color:cyan\">Ανάλυση των clusters"
   ]
  },
  {
   "cell_type": "code",
   "execution_count": 78,
   "id": "6fe52c8c73bb5612",
   "metadata": {
    "ExecuteTime": {
     "end_time": "2024-06-23T12:45:01.504455Z",
     "start_time": "2024-06-23T12:45:01.189768Z"
    },
    "tags": []
   },
   "outputs": [
    {
     "ename": "NameError",
     "evalue": "name 'fitted_kmeans' is not defined",
     "output_type": "error",
     "traceback": [
      "\u001b[1;31m---------------------------------------------------------------------------\u001b[0m",
      "\u001b[1;31mNameError\u001b[0m                                 Traceback (most recent call last)",
      "Cell \u001b[1;32mIn[78], line 8\u001b[0m\n\u001b[0;32m      5\u001b[0m colors \u001b[38;5;241m=\u001b[39m [\u001b[38;5;124m'\u001b[39m\u001b[38;5;124mred\u001b[39m\u001b[38;5;124m'\u001b[39m, \u001b[38;5;124m'\u001b[39m\u001b[38;5;124mgreen\u001b[39m\u001b[38;5;124m'\u001b[39m]\n\u001b[0;32m      7\u001b[0m \u001b[38;5;66;03m#Ανάκτηση του αριθμού των clusters από το εκπαιδευμένο μοντέλο\u001b[39;00m\n\u001b[1;32m----> 8\u001b[0m num_clusters \u001b[38;5;241m=\u001b[39m \u001b[43mfitted_kmeans\u001b[49m\u001b[38;5;241m.\u001b[39mn_clusters\n\u001b[0;32m     10\u001b[0m \u001b[38;5;66;03m# Δημιουργία ενός διαγράμματος για κάθε cluster\u001b[39;00m\n\u001b[0;32m     11\u001b[0m \u001b[38;5;28;01mfor\u001b[39;00m i \u001b[38;5;129;01min\u001b[39;00m \u001b[38;5;28mrange\u001b[39m(num_clusters):\n",
      "\u001b[1;31mNameError\u001b[0m: name 'fitted_kmeans' is not defined"
     ]
    }
   ],
   "source": [
    "# Ορισμός του λεξικού για την αντιστοίχιση των ετικετών των clusters\n",
    "cluster_labels = {0: \"No\", 1: \"Yes\"}\n",
    "\n",
    "# Ορισμός της λίστας με τα χρώματα\n",
    "colors = ['red', 'green']\n",
    "\n",
    "#Ανάκτηση του αριθμού των clusters από το εκπαιδευμένο μοντέλο\n",
    "num_clusters = fitted_kmeans.n_clusters\n",
    "\n",
    "# Δημιουργία ενός διαγράμματος για κάθε cluster\n",
    "for i in range(num_clusters):\n",
    "    fig = plt.figure(figsize=(8, 6))\n",
    "    ax = fig.add_subplot(111, projection='3d')\n",
    "    df_cluster = df[df['cluster'] == i]\n",
    "    ax.scatter(df_cluster['Private'], df_cluster['Grad.Rate'], df_cluster['Accept'], color=colors[i], label=cluster_labels[i])\n",
    "    ax.set_xlabel('Private')\n",
    "    ax.set_ylabel('Grad.Rate')\n",
    "    ax.set_zlabel('Accept')\n",
    "    ax.legend()\n",
    "    plt.title(f'Cluster {i}: {cluster_labels[i]}')\n",
    "    plt.show()"
   ]
  },
  {
   "cell_type": "code",
   "execution_count": 79,
   "id": "39ef3d56d36c4fdd",
   "metadata": {
    "ExecuteTime": {
     "end_time": "2024-06-23T12:45:02.984693Z",
     "start_time": "2024-06-23T12:45:02.936660Z"
    },
    "tags": []
   },
   "outputs": [
    {
     "ename": "NameError",
     "evalue": "name 'df' is not defined",
     "output_type": "error",
     "traceback": [
      "\u001b[1;31m---------------------------------------------------------------------------\u001b[0m",
      "\u001b[1;31mNameError\u001b[0m                                 Traceback (most recent call last)",
      "Cell \u001b[1;32mIn[79], line 2\u001b[0m\n\u001b[0;32m      1\u001b[0m \u001b[38;5;66;03m# show basic descriptive stats for cluster labeled as 0.\u001b[39;00m\n\u001b[1;32m----> 2\u001b[0m \u001b[43mdf\u001b[49m[df[\u001b[38;5;124m\"\u001b[39m\u001b[38;5;124mcluster\u001b[39m\u001b[38;5;124m\"\u001b[39m] \u001b[38;5;241m==\u001b[39m \u001b[38;5;241m0\u001b[39m]\u001b[38;5;241m.\u001b[39mdescribe()\n",
      "\u001b[1;31mNameError\u001b[0m: name 'df' is not defined"
     ]
    }
   ],
   "source": [
    "# show basic descriptive stats for cluster labeled as 0.\n",
    "df[df[\"cluster\"] == 0].describe()"
   ]
  },
  {
   "cell_type": "code",
   "execution_count": 80,
   "id": "800005fc1034e2f8",
   "metadata": {
    "ExecuteTime": {
     "end_time": "2024-06-23T12:45:04.403496Z",
     "start_time": "2024-06-23T12:45:04.357778Z"
    },
    "tags": []
   },
   "outputs": [
    {
     "ename": "NameError",
     "evalue": "name 'df' is not defined",
     "output_type": "error",
     "traceback": [
      "\u001b[1;31m---------------------------------------------------------------------------\u001b[0m",
      "\u001b[1;31mNameError\u001b[0m                                 Traceback (most recent call last)",
      "Cell \u001b[1;32mIn[80], line 2\u001b[0m\n\u001b[0;32m      1\u001b[0m \u001b[38;5;66;03m# show basic descriptive stats for cluster labeled as 0.\u001b[39;00m\n\u001b[1;32m----> 2\u001b[0m \u001b[43mdf\u001b[49m[df[\u001b[38;5;124m\"\u001b[39m\u001b[38;5;124mcluster\u001b[39m\u001b[38;5;124m\"\u001b[39m] \u001b[38;5;241m==\u001b[39m \u001b[38;5;241m1\u001b[39m]\u001b[38;5;241m.\u001b[39mdescribe()\n",
      "\u001b[1;31mNameError\u001b[0m: name 'df' is not defined"
     ]
    }
   ],
   "source": [
    "# show basic descriptive stats for cluster labeled as 1.\n",
    "df[df[\"cluster\"] == 1].describe()"
   ]
  }
 ],
 "metadata": {
  "kernelspec": {
   "display_name": "Python 3 (ipykernel)",
   "language": "python",
   "name": "python3"
  },
  "language_info": {
   "codemirror_mode": {
    "name": "ipython",
    "version": 3
   },
   "file_extension": ".py",
   "mimetype": "text/x-python",
   "name": "python",
   "nbconvert_exporter": "python",
   "pygments_lexer": "ipython3",
   "version": "3.11.8"
  }
 },
 "nbformat": 4,
 "nbformat_minor": 5
}
