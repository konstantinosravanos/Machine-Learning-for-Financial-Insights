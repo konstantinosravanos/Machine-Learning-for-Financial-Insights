{
 "cells": [
  {
   "cell_type": "markdown",
   "id": "ead67750add133d",
   "metadata": {},
   "source": [
    "# <span style=\"color:cyan\">ΚΑΘΟΡΙΣΜΟΣ ΤΟΥ DIRECTORY ΟΠΟΥ ΒΡΙΣΚΕΤΑΙ ΤΟ ΑΡΧΕΙΟ"
   ]
  },
  {
   "cell_type": "code",
   "execution_count": 1,
   "id": "92cd184b-ffe0-433c-a87b-6d5d62b0d781",
   "metadata": {
    "ExecuteTime": {
     "end_time": "2024-06-20T17:43:31.051808Z",
     "start_time": "2024-06-20T17:43:31.035635Z"
    },
    "tags": []
   },
   "outputs": [
    {
     "data": {
      "text/plain": [
       "'C:\\\\Users\\\\Λεωνίδας\\\\uoa_py_course\\\\Final_assignment_Stylianou'"
      ]
     },
     "execution_count": 1,
     "metadata": {},
     "output_type": "execute_result"
    }
   ],
   "source": [
    "pwd #Καθορίζει το path file του αρχείου που εκτελείται"
   ]
  },
  {
   "cell_type": "markdown",
   "id": "ee306e5cea9f96ec",
   "metadata": {},
   "source": [
    "# <span style=\"color:cyan\">ΕΙΣΑΓΩΓΗ ΤΩΝ ΑΠΑΡΑΙΤΡΗΤΩΝ ΒΙΒΛΙΟΘΗΚΩΝ ΓΙΑ ΤΗΝ ΕΚΤΕΛΕΣΗ ΤΟΥ ΚΩΔΙΚΑ"
   ]
  },
  {
   "cell_type": "code",
   "execution_count": 2,
   "id": "98b42f44-2e34-4524-a505-15cab0feebba",
   "metadata": {
    "ExecuteTime": {
     "end_time": "2024-06-20T17:43:31.896083Z",
     "start_time": "2024-06-20T17:43:31.883667Z"
    },
    "tags": []
   },
   "outputs": [
    {
     "ename": "ModuleNotFoundError",
     "evalue": "No module named 'scipy'",
     "output_type": "error",
     "traceback": [
      "\u001b[1;31m---------------------------------------------------------------------------\u001b[0m",
      "\u001b[1;31mModuleNotFoundError\u001b[0m                       Traceback (most recent call last)",
      "Cell \u001b[1;32mIn[2], line 9\u001b[0m\n\u001b[0;32m      7\u001b[0m \u001b[38;5;66;03m#Βιβλιοθήκες για την εκτύπωση των διαγραμμάτων\u001b[39;00m\n\u001b[0;32m      8\u001b[0m \u001b[38;5;28;01mimport\u001b[39;00m \u001b[38;5;21;01mseaborn\u001b[39;00m \u001b[38;5;28;01mas\u001b[39;00m \u001b[38;5;21;01msns\u001b[39;00m\n\u001b[1;32m----> 9\u001b[0m \u001b[38;5;28;01mfrom\u001b[39;00m \u001b[38;5;21;01mscipy\u001b[39;00m \u001b[38;5;28;01mimport\u001b[39;00m stats\n\u001b[0;32m     10\u001b[0m \u001b[38;5;28;01mimport\u001b[39;00m \u001b[38;5;21;01mmatplotlib\u001b[39;00m\u001b[38;5;21;01m.\u001b[39;00m\u001b[38;5;21;01mcm\u001b[39;00m \u001b[38;5;28;01mas\u001b[39;00m \u001b[38;5;21;01mcm\u001b[39;00m\n\u001b[0;32m     11\u001b[0m \u001b[38;5;28;01mimport\u001b[39;00m \u001b[38;5;21;01mmatplotlib\u001b[39;00m\u001b[38;5;21;01m.\u001b[39;00m\u001b[38;5;21;01mpyplot\u001b[39;00m \u001b[38;5;28;01mas\u001b[39;00m \u001b[38;5;21;01mplt\u001b[39;00m\n",
      "\u001b[1;31mModuleNotFoundError\u001b[0m: No module named 'scipy'"
     ]
    }
   ],
   "source": [
    "#Βιβλιοθήκες για την εισαγωγή και επεξεργασία των δεδομένων\n",
    "import numpy as np\n",
    "import pandas as pd\n",
    "from datetime import datetime\n",
    "\n",
    "\n",
    "#Βιβλιοθήκες για την εκτύπωση των διαγραμμάτων\n",
    "import seaborn as sns\n",
    "from scipy import stats\n",
    "import matplotlib.cm as cm\n",
    "import matplotlib.pyplot as plt\n",
    "\n",
    "\n",
    "#Βιβλιοθήκες για στατιστική ανάλυση\n",
    "import pingouin as pg\n",
    "from scipy import stats\n",
    "import statsmodels.api as sm\n",
    "from statsmodels.sandbox.regression.predstd import wls_prediction_std\n",
    "\n",
    "\n",
    "#Βιβλιοθήκες για εκπαίδευση μοντέλων μηχανικής μάθησης\n",
    "from sklearn import metrics\n",
    "from sklearn.pipeline import Pipeline\n",
    "from sklearn.metrics import accuracy_score\n",
    "from sklearn.preprocessing import StandardScaler\n",
    "from sklearn.feature_selection import SelectKBest\n",
    "from sklearn.linear_model import LogisticRegression\n",
    "from sklearn.model_selection import train_test_split\n",
    "from sklearn.metrics import confusion_matrix, classification_report, roc_curve, auc"
   ]
  },
  {
   "cell_type": "markdown",
   "id": "20170a35e54090c3",
   "metadata": {},
   "source": [
    "# <span style=\"color:cyan\">ΚΑΘΟΡΙΣΜΟΣ ΑΚΡΙΒΕΙΑΣ ΤΟΥ ΜΟΝΤΕΛΟΥ"
   ]
  },
  {
   "cell_type": "code",
   "execution_count": null,
   "id": "101a8ed5-cbd1-4405-82f7-c08141dc1801",
   "metadata": {
    "ExecuteTime": {
     "end_time": "2024-06-20T17:43:32.709821Z",
     "start_time": "2024-06-20T17:43:32.701719Z"
    },
    "tags": []
   },
   "outputs": [],
   "source": [
    "#Καθορισμός ακριβείας του μοντέλου\n",
    "pd.set_option(\"display.precision\", 2)"
   ]
  },
  {
   "cell_type": "markdown",
   "id": "93efaf76b5b2e3e0",
   "metadata": {},
   "source": [
    "# <span style=\"color:cyan\">ΕΙΣΑΓΩΓΗ ΚΑΙ ΕΠΕΞΕΡΓΑΣΙΑ ΤΟΥ ΑΡΧΕΙΟΥ ΠΟΥ ΕΙΝΑΙ ΑΠΑΡΑΙΤΗΤΟ ΓΙΑ ΤΗΝ ΕΚΤΕΛΕΣΗ ΤΟΥ ΑΛΓΟΡΙΘΜΟΥ"
   ]
  },
  {
   "cell_type": "code",
   "execution_count": null,
   "id": "6ad8bc87-2cfe-4466-b038-0e1005b846bc",
   "metadata": {
    "ExecuteTime": {
     "end_time": "2024-06-20T17:43:33.437265Z",
     "start_time": "2024-06-20T17:43:33.412884Z"
    },
    "tags": []
   },
   "outputs": [],
   "source": [
    "# Αναγνώριση του αρχείου και εισαγωγή του στο πρόγραμμα\n",
    "df = pd.read_csv('data/loan_sanction_test.csv')\n",
    "\n",
    "df = df.drop('Loan_ID', axis=1)\n",
    "\n",
    "# Δημιουργία DataFrame\n",
    "df.head() \n",
    "\n",
    "# Δίνει την εκτύπωση των πέντε πρώτων στηλών των δεδομένων\n",
    "print(df.head())"
   ]
  },
  {
   "cell_type": "markdown",
   "id": "7c695aa8b831ed9",
   "metadata": {},
   "source": [
    "# <span style=\"color:cyan\">ΣΥΝΟΠΤΙΚΗ ΠΑΡΟΥΣΙΑΣΗ ΤΩΝ ΔΕΔΟΜΕΝΩΝ ΠΡΙΝ ΑΠΟ ΤΗΝ ΑΦΑΙΡΕΣΗ ΤΟΝ ΤΙΜΩΝ ΠΟΥ ΤΕΙΝΟΥΝ ΣΤΟ ΑΠΕΙΡΟ ΚΑΙ ΤΩΝ ΤΙΜΩΝ NaN"
   ]
  },
  {
   "cell_type": "code",
   "execution_count": null,
   "id": "790051440fb9c5fc",
   "metadata": {
    "ExecuteTime": {
     "end_time": "2024-06-20T17:43:34.194312Z",
     "start_time": "2024-06-20T17:43:34.182035Z"
    },
    "tags": []
   },
   "outputs": [],
   "source": [
    "#Επιστρέφει το σύνολο των γραμμών του αρχείου στο οποίο βρίσκονται τα δεδομένα\n",
    "len(df)"
   ]
  },
  {
   "cell_type": "code",
   "execution_count": null,
   "id": "be7d04404942eba0",
   "metadata": {
    "ExecuteTime": {
     "end_time": "2024-06-20T17:43:34.643175Z",
     "start_time": "2024-06-20T17:43:34.630997Z"
    },
    "tags": []
   },
   "outputs": [],
   "source": [
    "#Επιστρέφει τα ονόματα των στηλών του αρχείου στο οποίο βρίσκονται τα δεδομένα\n",
    "df.columns"
   ]
  },
  {
   "cell_type": "code",
   "execution_count": null,
   "id": "a1d80795b2eb91d4",
   "metadata": {
    "ExecuteTime": {
     "end_time": "2024-06-20T17:43:35.081280Z",
     "start_time": "2024-06-20T17:43:35.069648Z"
    },
    "tags": []
   },
   "outputs": [],
   "source": [
    "#Δίνει τον τύπο των δεδομένων που περιέχονται στις στήλες του αρχείου  \n",
    "df.dtypes"
   ]
  },
  {
   "cell_type": "code",
   "execution_count": null,
   "id": "45ac1bcd5565eca",
   "metadata": {
    "ExecuteTime": {
     "end_time": "2024-06-20T17:43:35.964178Z",
     "start_time": "2024-06-20T17:43:35.932861Z"
    },
    "tags": []
   },
   "outputs": [],
   "source": [
    "#Επιστρέφει τα στατιστικά περιγραφικά στοιχεία κάθε μεταβλητής του dataset\n",
    "df.describe()"
   ]
  },
  {
   "cell_type": "code",
   "execution_count": null,
   "id": "62427b775517df24",
   "metadata": {
    "ExecuteTime": {
     "end_time": "2024-06-20T17:43:36.581284Z",
     "start_time": "2024-06-20T17:43:36.569528Z"
    },
    "tags": []
   },
   "outputs": [],
   "source": [
    "#Εκτυπώνει το είδος της κάθε μεταβλητής του dataset \n",
    "print(df.dtypes)"
   ]
  },
  {
   "cell_type": "markdown",
   "id": "934cd89af9d784d5",
   "metadata": {},
   "source": [
    "# <span style=\"color:cyan\">ΕΠΕΞΕΡΓΑΣΙΑ ΤΟΥ DATASET ΚΑΙ ΕΚΑΘΑΡΙΣΜΟΣ ΤΩΝ ΤΙΜΩΝ ΠΟΥ ΤΕΙΝΟΥΝ ΣΤΟ ΑΠΕΙΡΟ ΚΑΙ ΤΩΝ ΤΙΜΩΝ NaN"
   ]
  },
  {
   "cell_type": "code",
   "execution_count": 3,
   "id": "10ba71d24fec2449",
   "metadata": {
    "ExecuteTime": {
     "end_time": "2024-06-20T17:43:37.951615Z",
     "start_time": "2024-06-20T17:43:37.931207Z"
    },
    "tags": []
   },
   "outputs": [
    {
     "ename": "NameError",
     "evalue": "name 'df' is not defined",
     "output_type": "error",
     "traceback": [
      "\u001b[1;31m---------------------------------------------------------------------------\u001b[0m",
      "\u001b[1;31mNameError\u001b[0m                                 Traceback (most recent call last)",
      "Cell \u001b[1;32mIn[3], line 2\u001b[0m\n\u001b[0;32m      1\u001b[0m \u001b[38;5;66;03m# Αντικατάσταση των τιμών των κατηγορικών μεταβλητών με αριθμούς\u001b[39;00m\n\u001b[1;32m----> 2\u001b[0m \u001b[43mdf\u001b[49m[\u001b[38;5;124m'\u001b[39m\u001b[38;5;124mGender\u001b[39m\u001b[38;5;124m'\u001b[39m]\u001b[38;5;241m.\u001b[39mreplace({\u001b[38;5;124m'\u001b[39m\u001b[38;5;124mMale\u001b[39m\u001b[38;5;124m'\u001b[39m: \u001b[38;5;241m0\u001b[39m, \u001b[38;5;124m'\u001b[39m\u001b[38;5;124mFemale\u001b[39m\u001b[38;5;124m'\u001b[39m: \u001b[38;5;241m1\u001b[39m}, inplace\u001b[38;5;241m=\u001b[39m\u001b[38;5;28;01mTrue\u001b[39;00m)\n\u001b[0;32m      3\u001b[0m df[\u001b[38;5;124m'\u001b[39m\u001b[38;5;124mMarried\u001b[39m\u001b[38;5;124m'\u001b[39m]\u001b[38;5;241m.\u001b[39mreplace({\u001b[38;5;124m'\u001b[39m\u001b[38;5;124mNo\u001b[39m\u001b[38;5;124m'\u001b[39m: \u001b[38;5;241m0\u001b[39m, \u001b[38;5;124m'\u001b[39m\u001b[38;5;124mYes\u001b[39m\u001b[38;5;124m'\u001b[39m: \u001b[38;5;241m1\u001b[39m}, inplace\u001b[38;5;241m=\u001b[39m\u001b[38;5;28;01mTrue\u001b[39;00m)\n\u001b[0;32m      4\u001b[0m df[\u001b[38;5;124m'\u001b[39m\u001b[38;5;124mDependents\u001b[39m\u001b[38;5;124m'\u001b[39m]\u001b[38;5;241m.\u001b[39mreplace({\u001b[38;5;124m'\u001b[39m\u001b[38;5;124m0\u001b[39m\u001b[38;5;124m'\u001b[39m: \u001b[38;5;241m0\u001b[39m, \u001b[38;5;124m'\u001b[39m\u001b[38;5;124m1\u001b[39m\u001b[38;5;124m'\u001b[39m: \u001b[38;5;241m1\u001b[39m, \u001b[38;5;124m'\u001b[39m\u001b[38;5;124m2\u001b[39m\u001b[38;5;124m'\u001b[39m: \u001b[38;5;241m2\u001b[39m, \u001b[38;5;124m'\u001b[39m\u001b[38;5;124m3+\u001b[39m\u001b[38;5;124m'\u001b[39m: \u001b[38;5;241m3\u001b[39m}, inplace\u001b[38;5;241m=\u001b[39m\u001b[38;5;28;01mTrue\u001b[39;00m)\n",
      "\u001b[1;31mNameError\u001b[0m: name 'df' is not defined"
     ]
    }
   ],
   "source": [
    "# Αντικατάσταση των τιμών των κατηγορικών μεταβλητών με αριθμούς\n",
    "df['Gender'].replace({'Male': 0, 'Female': 1}, inplace=True)\n",
    "df['Married'].replace({'No': 0, 'Yes': 1}, inplace=True)\n",
    "df['Dependents'].replace({'0': 0, '1': 1, '2': 2, '3+': 3}, inplace=True)\n",
    "df['Education'].replace({'Not Graduate': 0, 'Graduate': 1}, inplace=True)\n",
    "df['Self_Employed'].replace({'No': 0, 'Yes': 1}, inplace=True)\n",
    "df['Property_Area'].replace({'Urban': 0, 'Semiurban': 1, 'Rural': 2}, inplace=True)"
   ]
  },
  {
   "cell_type": "code",
   "execution_count": 4,
   "id": "26e4843637cea863",
   "metadata": {
    "ExecuteTime": {
     "end_time": "2024-06-20T17:43:39.737285Z",
     "start_time": "2024-06-20T17:43:39.728135Z"
    },
    "tags": []
   },
   "outputs": [
    {
     "ename": "NameError",
     "evalue": "name 'df' is not defined",
     "output_type": "error",
     "traceback": [
      "\u001b[1;31m---------------------------------------------------------------------------\u001b[0m",
      "\u001b[1;31mNameError\u001b[0m                                 Traceback (most recent call last)",
      "Cell \u001b[1;32mIn[4], line 2\u001b[0m\n\u001b[0;32m      1\u001b[0m \u001b[38;5;66;03m# Επιλέγει μόνο τις αριθμητικές στήλες του DataFrame\u001b[39;00m\n\u001b[1;32m----> 2\u001b[0m numeric_df \u001b[38;5;241m=\u001b[39m \u001b[43mdf\u001b[49m\u001b[38;5;241m.\u001b[39mselect_dtypes(include\u001b[38;5;241m=\u001b[39m[np\u001b[38;5;241m.\u001b[39mnumber])\n\u001b[0;32m      4\u001b[0m \u001b[38;5;66;03m# Ελέγχει αν υπάρχουν τιμές στο dataset που τείνουν στο άπειρο\u001b[39;00m\n\u001b[0;32m      5\u001b[0m \u001b[38;5;28;01mif\u001b[39;00m np\u001b[38;5;241m.\u001b[39many(np\u001b[38;5;241m.\u001b[39misinf(numeric_df)):\n",
      "\u001b[1;31mNameError\u001b[0m: name 'df' is not defined"
     ]
    }
   ],
   "source": [
    "# Επιλέγει μόνο τις αριθμητικές στήλες του DataFrame\n",
    "numeric_df = df.select_dtypes(include=[np.number])\n",
    "\n",
    "# Ελέγχει αν υπάρχουν τιμές στο dataset που τείνουν στο άπειρο\n",
    "if np.any(np.isinf(numeric_df)):\n",
    "    print(\"Data contains infinite values. Replacing them with NaN.\")\n",
    "    numeric_df.replace([np.inf, -np.inf], np.nan, inplace=True)"
   ]
  },
  {
   "cell_type": "code",
   "execution_count": 5,
   "id": "86c8d96083a3c91a",
   "metadata": {
    "ExecuteTime": {
     "end_time": "2024-06-20T17:43:46.329931Z",
     "start_time": "2024-06-20T17:43:46.318467Z"
    },
    "tags": []
   },
   "outputs": [
    {
     "ename": "NameError",
     "evalue": "name 'df' is not defined",
     "output_type": "error",
     "traceback": [
      "\u001b[1;31m---------------------------------------------------------------------------\u001b[0m",
      "\u001b[1;31mNameError\u001b[0m                                 Traceback (most recent call last)",
      "Cell \u001b[1;32mIn[5], line 3\u001b[0m\n\u001b[0;32m      1\u001b[0m \u001b[38;5;66;03m# Ελέγχει αν υπάρχουν τιμές NaN στο dataset. \u001b[39;00m\n\u001b[0;32m      2\u001b[0m \u001b[38;5;66;03m# Αν τρέξω την εντολή πριν από την παρουσίαση των δεδομένων που βρίσκεται στη συνέχεια η παρουσίαση θα γίνει χωρίς αυτές τις τιμές. Καλό θα ήταν η εντολή να τρέξει μετά την παρουσίαση των δεδομένων ώστε να μπορούν να τρέξουν και τα μοντέλα.\u001b[39;00m\n\u001b[1;32m----> 3\u001b[0m \u001b[38;5;28;01mif\u001b[39;00m \u001b[43mdf\u001b[49m\u001b[38;5;241m.\u001b[39misnull()\u001b[38;5;241m.\u001b[39mvalues\u001b[38;5;241m.\u001b[39many():\n\u001b[0;32m      4\u001b[0m     \u001b[38;5;28mprint\u001b[39m(\u001b[38;5;124m\"\u001b[39m\u001b[38;5;124mData contains NaN values. Please handle missing data before proceeding.\u001b[39m\u001b[38;5;124m\"\u001b[39m)\n\u001b[0;32m      5\u001b[0m     df\u001b[38;5;241m.\u001b[39mdropna(inplace\u001b[38;5;241m=\u001b[39m\u001b[38;5;28;01mTrue\u001b[39;00m)\n",
      "\u001b[1;31mNameError\u001b[0m: name 'df' is not defined"
     ]
    }
   ],
   "source": [
    "# Ελέγχει αν υπάρχουν τιμές NaN στο dataset. \n",
    "if df.isnull().values.any():\n",
    "    print(\"Data contains NaN values. Please handle missing data before proceeding.\")\n",
    "    df.dropna(inplace=True)"
   ]
  },
  {
   "cell_type": "markdown",
   "id": "37de16a278caf45e",
   "metadata": {},
   "source": [
    "# <span style=\"color:cyan\">ΣΥΝΟΠΤΙΚΗ ΠΑΡΟΥΣΙΑΣΗ ΤΩΝ ΔΕΔΟΜΕΝΩΝ"
   ]
  },
  {
   "cell_type": "code",
   "execution_count": 6,
   "id": "9941d67b18333ce3",
   "metadata": {
    "ExecuteTime": {
     "end_time": "2024-06-20T17:43:47.838939Z",
     "start_time": "2024-06-20T17:43:47.826924Z"
    },
    "tags": []
   },
   "outputs": [
    {
     "ename": "NameError",
     "evalue": "name 'df' is not defined",
     "output_type": "error",
     "traceback": [
      "\u001b[1;31m---------------------------------------------------------------------------\u001b[0m",
      "\u001b[1;31mNameError\u001b[0m                                 Traceback (most recent call last)",
      "Cell \u001b[1;32mIn[6], line 2\u001b[0m\n\u001b[0;32m      1\u001b[0m \u001b[38;5;66;03m#Επιστρέφει το σύνολο των γραμμών του αρχείου στο οποίο βρίσκονται τα δεδομένα\u001b[39;00m\n\u001b[1;32m----> 2\u001b[0m \u001b[38;5;28mlen\u001b[39m(\u001b[43mdf\u001b[49m)\n",
      "\u001b[1;31mNameError\u001b[0m: name 'df' is not defined"
     ]
    }
   ],
   "source": [
    "#Επιστρέφει το σύνολο των γραμμών του αρχείου στο οποίο βρίσκονται τα δεδομένα\n",
    "len(df)"
   ]
  },
  {
   "cell_type": "code",
   "execution_count": 7,
   "id": "faa282c7fcb5cfb",
   "metadata": {
    "ExecuteTime": {
     "end_time": "2024-06-20T17:43:48.519051Z",
     "start_time": "2024-06-20T17:43:48.506529Z"
    },
    "tags": []
   },
   "outputs": [
    {
     "ename": "NameError",
     "evalue": "name 'df' is not defined",
     "output_type": "error",
     "traceback": [
      "\u001b[1;31m---------------------------------------------------------------------------\u001b[0m",
      "\u001b[1;31mNameError\u001b[0m                                 Traceback (most recent call last)",
      "Cell \u001b[1;32mIn[7], line 2\u001b[0m\n\u001b[0;32m      1\u001b[0m \u001b[38;5;66;03m#Επιστρέφει τα ονόματα των στηλών του αρχείου στο οποίο βρίσκονται τα δεδομένα\u001b[39;00m\n\u001b[1;32m----> 2\u001b[0m \u001b[43mdf\u001b[49m\u001b[38;5;241m.\u001b[39mcolumns\n",
      "\u001b[1;31mNameError\u001b[0m: name 'df' is not defined"
     ]
    }
   ],
   "source": [
    "#Επιστρέφει τα ονόματα των στηλών του αρχείου στο οποίο βρίσκονται τα δεδομένα\n",
    "df.columns"
   ]
  },
  {
   "cell_type": "code",
   "execution_count": 8,
   "id": "8d5346a2c473a703",
   "metadata": {
    "ExecuteTime": {
     "end_time": "2024-06-20T17:43:49.298443Z",
     "start_time": "2024-06-20T17:43:49.280128Z"
    },
    "tags": []
   },
   "outputs": [
    {
     "ename": "NameError",
     "evalue": "name 'df' is not defined",
     "output_type": "error",
     "traceback": [
      "\u001b[1;31m---------------------------------------------------------------------------\u001b[0m",
      "\u001b[1;31mNameError\u001b[0m                                 Traceback (most recent call last)",
      "Cell \u001b[1;32mIn[8], line 2\u001b[0m\n\u001b[0;32m      1\u001b[0m \u001b[38;5;66;03m#Δίνει τον τύπο των δεδομένων που περιέχονται στις στήλες του αρχείου\u001b[39;00m\n\u001b[1;32m----> 2\u001b[0m \u001b[43mdf\u001b[49m\u001b[38;5;241m.\u001b[39mdtypes\n",
      "\u001b[1;31mNameError\u001b[0m: name 'df' is not defined"
     ]
    }
   ],
   "source": [
    "#Δίνει τον τύπο των δεδομένων που περιέχονται στις στήλες του αρχείου\n",
    "df.dtypes"
   ]
  },
  {
   "cell_type": "code",
   "execution_count": 9,
   "id": "dccce3bb953659e6",
   "metadata": {
    "ExecuteTime": {
     "end_time": "2024-06-20T17:43:49.653739Z",
     "start_time": "2024-06-20T17:43:49.639880Z"
    },
    "tags": []
   },
   "outputs": [
    {
     "ename": "NameError",
     "evalue": "name 'df' is not defined",
     "output_type": "error",
     "traceback": [
      "\u001b[1;31m---------------------------------------------------------------------------\u001b[0m",
      "\u001b[1;31mNameError\u001b[0m                                 Traceback (most recent call last)",
      "Cell \u001b[1;32mIn[9], line 2\u001b[0m\n\u001b[0;32m      1\u001b[0m \u001b[38;5;66;03m#Ορίζει της μεταβλητές που περιέχουν τιμές 0 και 1 ως κατηγορικές για λόγους παρουσίασης και κατανόησης των δεδομένων\u001b[39;00m\n\u001b[1;32m----> 2\u001b[0m \u001b[38;5;28;01mfor\u001b[39;00m column \u001b[38;5;129;01min\u001b[39;00m \u001b[43mdf\u001b[49m\u001b[38;5;241m.\u001b[39mcolumns:\n\u001b[0;32m      3\u001b[0m     \u001b[38;5;28;01mif\u001b[39;00m \u001b[38;5;28mset\u001b[39m(df[column]\u001b[38;5;241m.\u001b[39munique()) \u001b[38;5;241m==\u001b[39m {\u001b[38;5;241m0\u001b[39m, \u001b[38;5;241m1\u001b[39m}:\n\u001b[0;32m      4\u001b[0m         df[column] \u001b[38;5;241m=\u001b[39m df[column]\u001b[38;5;241m.\u001b[39mastype(\u001b[38;5;124m'\u001b[39m\u001b[38;5;124mcategory\u001b[39m\u001b[38;5;124m'\u001b[39m)\n",
      "\u001b[1;31mNameError\u001b[0m: name 'df' is not defined"
     ]
    }
   ],
   "source": [
    "#Ορίζει της μεταβλητές που περιέχουν τιμές 0 και 1 ως κατηγορικές για λόγους παρουσίασης και κατανόησης των δεδομένων\n",
    "for column in df.columns:\n",
    "    if set(df[column].unique()) == {0, 1}:\n",
    "        df[column] = df[column].astype('category')"
   ]
  },
  {
   "cell_type": "code",
   "execution_count": 10,
   "id": "5bf5206d55e8f49b",
   "metadata": {
    "ExecuteTime": {
     "end_time": "2024-06-20T17:43:50.003972Z",
     "start_time": "2024-06-20T17:43:49.965053Z"
    },
    "tags": []
   },
   "outputs": [
    {
     "ename": "NameError",
     "evalue": "name 'df' is not defined",
     "output_type": "error",
     "traceback": [
      "\u001b[1;31m---------------------------------------------------------------------------\u001b[0m",
      "\u001b[1;31mNameError\u001b[0m                                 Traceback (most recent call last)",
      "Cell \u001b[1;32mIn[10], line 2\u001b[0m\n\u001b[0;32m      1\u001b[0m \u001b[38;5;66;03m#Επιστρέφει τα στατιστικά περιγραφικά στοιχεία κάθε μεταβλητής του dataset\u001b[39;00m\n\u001b[1;32m----> 2\u001b[0m \u001b[43mdf\u001b[49m\u001b[38;5;241m.\u001b[39mdescribe()\n",
      "\u001b[1;31mNameError\u001b[0m: name 'df' is not defined"
     ]
    }
   ],
   "source": [
    "#Επιστρέφει τα στατιστικά περιγραφικά στοιχεία κάθε μεταβλητής του dataset\n",
    "df.describe()"
   ]
  },
  {
   "cell_type": "code",
   "execution_count": 11,
   "id": "e43434f75e0d8845",
   "metadata": {
    "ExecuteTime": {
     "end_time": "2024-06-20T17:43:50.472052Z",
     "start_time": "2024-06-20T17:43:50.465289Z"
    },
    "tags": []
   },
   "outputs": [
    {
     "ename": "NameError",
     "evalue": "name 'df' is not defined",
     "output_type": "error",
     "traceback": [
      "\u001b[1;31m---------------------------------------------------------------------------\u001b[0m",
      "\u001b[1;31mNameError\u001b[0m                                 Traceback (most recent call last)",
      "Cell \u001b[1;32mIn[11], line 2\u001b[0m\n\u001b[0;32m      1\u001b[0m \u001b[38;5;66;03m#Εκτυπώνει το είδος της κάθε μεταβλητής του dataset \u001b[39;00m\n\u001b[1;32m----> 2\u001b[0m \u001b[38;5;28mprint\u001b[39m(\u001b[43mdf\u001b[49m\u001b[38;5;241m.\u001b[39mdtypes)\n",
      "\u001b[1;31mNameError\u001b[0m: name 'df' is not defined"
     ]
    }
   ],
   "source": [
    "#Εκτυπώνει το είδος της κάθε μεταβλητής του dataset \n",
    "print(df.dtypes)"
   ]
  },
  {
   "cell_type": "code",
   "execution_count": 12,
   "id": "1ee290877d49aa14",
   "metadata": {
    "ExecuteTime": {
     "end_time": "2024-06-20T17:43:51.037113Z",
     "start_time": "2024-06-20T17:43:51.026900Z"
    },
    "tags": []
   },
   "outputs": [
    {
     "ename": "NameError",
     "evalue": "name 'df' is not defined",
     "output_type": "error",
     "traceback": [
      "\u001b[1;31m---------------------------------------------------------------------------\u001b[0m",
      "\u001b[1;31mNameError\u001b[0m                                 Traceback (most recent call last)",
      "Cell \u001b[1;32mIn[12], line 2\u001b[0m\n\u001b[0;32m      1\u001b[0m \u001b[38;5;66;03m# Ορίζει τις μεταβλητές που περιέχουν τιμές 0 και 1 ως αριθμητικές\u001b[39;00m\n\u001b[1;32m----> 2\u001b[0m \u001b[38;5;28;01mfor\u001b[39;00m column \u001b[38;5;129;01min\u001b[39;00m \u001b[43mdf\u001b[49m\u001b[38;5;241m.\u001b[39mcolumns:\n\u001b[0;32m      3\u001b[0m     \u001b[38;5;28;01mif\u001b[39;00m \u001b[38;5;28mset\u001b[39m(df[column]\u001b[38;5;241m.\u001b[39munique()) \u001b[38;5;241m==\u001b[39m {\u001b[38;5;241m0\u001b[39m, \u001b[38;5;241m1\u001b[39m}:\n\u001b[0;32m      4\u001b[0m         df[column] \u001b[38;5;241m=\u001b[39m df[column]\u001b[38;5;241m.\u001b[39mastype(\u001b[38;5;28mint\u001b[39m)\n",
      "\u001b[1;31mNameError\u001b[0m: name 'df' is not defined"
     ]
    }
   ],
   "source": [
    "# Ορίζει τις μεταβλητές που περιέχουν τιμές 0 και 1 ως αριθμητικές\n",
    "for column in df.columns:\n",
    "    if set(df[column].unique()) == {0, 1}:\n",
    "        df[column] = df[column].astype(int)"
   ]
  },
  {
   "cell_type": "markdown",
   "id": "e7edeb0418d63ac9",
   "metadata": {},
   "source": [
    "# <span style=\"color:cyan\">ΔΙΑΓΡΑΜΜΑΤΑ"
   ]
  },
  {
   "cell_type": "markdown",
   "id": "db4d55d9276d3225",
   "metadata": {},
   "source": [
    "<span style=\"color:yellow\">Ιστογράμματα"
   ]
  },
  {
   "cell_type": "code",
   "execution_count": 13,
   "id": "6829fb6ea865f456",
   "metadata": {
    "ExecuteTime": {
     "end_time": "2024-06-20T17:43:55.776101Z",
     "start_time": "2024-06-20T17:43:51.646586Z"
    },
    "tags": []
   },
   "outputs": [
    {
     "ename": "NameError",
     "evalue": "name 'df' is not defined",
     "output_type": "error",
     "traceback": [
      "\u001b[1;31m---------------------------------------------------------------------------\u001b[0m",
      "\u001b[1;31mNameError\u001b[0m                                 Traceback (most recent call last)",
      "Cell \u001b[1;32mIn[13], line 2\u001b[0m\n\u001b[0;32m      1\u001b[0m \u001b[38;5;66;03m# Ιστογράμματα για την παρουσίαση της συχνότητας των τιμών που παρουσιάζει η κάθε μεταβλητή\u001b[39;00m\n\u001b[1;32m----> 2\u001b[0m \u001b[43mdf\u001b[49m\u001b[38;5;241m.\u001b[39mhist(figsize\u001b[38;5;241m=\u001b[39m(\u001b[38;5;241m10\u001b[39m, \u001b[38;5;241m10\u001b[39m), color\u001b[38;5;241m=\u001b[39m\u001b[38;5;124m'\u001b[39m\u001b[38;5;124mgreen\u001b[39m\u001b[38;5;124m'\u001b[39m)\n\u001b[0;32m      3\u001b[0m categorical_cols \u001b[38;5;241m=\u001b[39m df\u001b[38;5;241m.\u001b[39mselect_dtypes(include\u001b[38;5;241m=\u001b[39m[\u001b[38;5;124m'\u001b[39m\u001b[38;5;124mcategory\u001b[39m\u001b[38;5;124m'\u001b[39m])\u001b[38;5;241m.\u001b[39mcolumns\n\u001b[0;32m      5\u001b[0m \u001b[38;5;28;01mfor\u001b[39;00m col \u001b[38;5;129;01min\u001b[39;00m categorical_cols:\n",
      "\u001b[1;31mNameError\u001b[0m: name 'df' is not defined"
     ]
    }
   ],
   "source": [
    "# Ιστογράμματα για την παρουσίαση της συχνότητας των τιμών που παρουσιάζει η κάθε μεταβλητή\n",
    "df.hist(figsize=(10, 10), color='green')\n",
    "categorical_cols = df.select_dtypes(include=['category']).columns\n",
    "\n",
    "for col in categorical_cols:\n",
    "    plt.figure(figsize=(3, 3))\n",
    "    sns.countplot(x=df[col], color='green')\n",
    "    plt.title(f'Bar plot for {col}')\n",
    "    \n",
    "plt.tight_layout()\n",
    "plt.show()"
   ]
  },
  {
   "cell_type": "markdown",
   "id": "19a3fe2adeae7b57",
   "metadata": {},
   "source": [
    "<span style=\"color:yellow\">Διαγράμματα Διασποράς"
   ]
  },
  {
   "cell_type": "code",
   "execution_count": 15,
   "id": "f60cfc8ae8e6d973",
   "metadata": {
    "ExecuteTime": {
     "end_time": "2024-06-20T17:44:01.780491Z",
     "start_time": "2024-06-20T17:43:57.415770Z"
    },
    "tags": []
   },
   "outputs": [
    {
     "ename": "NameError",
     "evalue": "name 'df' is not defined",
     "output_type": "error",
     "traceback": [
      "\u001b[1;31m---------------------------------------------------------------------------\u001b[0m",
      "\u001b[1;31mNameError\u001b[0m                                 Traceback (most recent call last)",
      "Cell \u001b[1;32mIn[15], line 1\u001b[0m\n\u001b[1;32m----> 1\u001b[0m \u001b[38;5;28;01mfor\u001b[39;00m column \u001b[38;5;129;01min\u001b[39;00m \u001b[43mdf\u001b[49m\u001b[38;5;241m.\u001b[39mcolumns:\n\u001b[0;32m      2\u001b[0m     plt\u001b[38;5;241m.\u001b[39mfigure(figsize\u001b[38;5;241m=\u001b[39m(\u001b[38;5;241m10\u001b[39m, \u001b[38;5;241m10\u001b[39m), facecolor\u001b[38;5;241m=\u001b[39m\u001b[38;5;124m'\u001b[39m\u001b[38;5;124mwhite\u001b[39m\u001b[38;5;124m'\u001b[39m)\n\u001b[0;32m      3\u001b[0m     plt\u001b[38;5;241m.\u001b[39mscatter(df\u001b[38;5;241m.\u001b[39mindex, df[column], color\u001b[38;5;241m=\u001b[39m\u001b[38;5;124m'\u001b[39m\u001b[38;5;124myellow\u001b[39m\u001b[38;5;124m'\u001b[39m)\n",
      "\u001b[1;31mNameError\u001b[0m: name 'df' is not defined"
     ]
    }
   ],
   "source": [
    "for column in df.columns:\n",
    "    plt.figure(figsize=(10, 10), facecolor='white')\n",
    "    plt.scatter(df.index, df[column], color='yellow')\n",
    "    plt.title(f'Scatter plot for {column}')\n",
    "    plt.xlabel('Index')\n",
    "    plt.ylabel(column)\n",
    "    plt.show()"
   ]
  },
  {
   "cell_type": "markdown",
   "id": "b5766583ae76474",
   "metadata": {},
   "source": [
    "# <span style=\"color:cyan\">ΣΥΝΤΕΛΕΣΤΗΣ ΣΥΣΧΕΤΙΣΗΣ"
   ]
  },
  {
   "cell_type": "code",
   "execution_count": 16,
   "id": "1704a35898cc85d9",
   "metadata": {
    "ExecuteTime": {
     "end_time": "2024-06-20T17:44:02.612876Z",
     "start_time": "2024-06-20T17:44:01.782812Z"
    },
    "tags": []
   },
   "outputs": [
    {
     "ename": "NameError",
     "evalue": "name 'df' is not defined",
     "output_type": "error",
     "traceback": [
      "\u001b[1;31m---------------------------------------------------------------------------\u001b[0m",
      "\u001b[1;31mNameError\u001b[0m                                 Traceback (most recent call last)",
      "Cell \u001b[1;32mIn[16], line 2\u001b[0m\n\u001b[0;32m      1\u001b[0m \u001b[38;5;66;03m# Πίνακας συσχέτισης που δείχνει πως εξαρτώνται οι μεταβλητές η μια από την άλλη\u001b[39;00m\n\u001b[1;32m----> 2\u001b[0m corr \u001b[38;5;241m=\u001b[39m \u001b[43mdf\u001b[49m\u001b[38;5;241m.\u001b[39mcorr()\n\u001b[0;32m      3\u001b[0m plt\u001b[38;5;241m.\u001b[39mfigure(figsize\u001b[38;5;241m=\u001b[39m(\u001b[38;5;241m10\u001b[39m, \u001b[38;5;241m10\u001b[39m))\n\u001b[0;32m      4\u001b[0m sns\u001b[38;5;241m.\u001b[39mheatmap(df\u001b[38;5;241m.\u001b[39mcorr(), annot\u001b[38;5;241m=\u001b[39m\u001b[38;5;28;01mTrue\u001b[39;00m, cmap\u001b[38;5;241m=\u001b[39m\u001b[38;5;124m'\u001b[39m\u001b[38;5;124mcoolwarm\u001b[39m\u001b[38;5;124m'\u001b[39m)\n",
      "\u001b[1;31mNameError\u001b[0m: name 'df' is not defined"
     ]
    }
   ],
   "source": [
    "# Πίνακας συσχέτισης που δείχνει πως εξαρτώνται οι μεταβλητές η μια από την άλλη\n",
    "corr = df.corr()\n",
    "plt.figure(figsize=(10, 10))\n",
    "sns.heatmap(df.corr(), annot=True, cmap='coolwarm')\n",
    "plt.show()"
   ]
  },
  {
   "cell_type": "markdown",
   "id": "63f3a2b5dae68527",
   "metadata": {},
   "source": [
    "# <span style=\"color:cyan\">ΣΧΟΛΙΑ ΓΙΑ ΤΗΝ ΕΠΕΞΕΡΓΑΣΙΑ ΚΑΙ ΤΗΝ ΑΝΑΛΥΣΗ ΤΩΝ ΔΕΔΟΜΕΝΩΝ"
   ]
  },
  {
   "cell_type": "markdown",
   "id": "b831d3dbd0c41327",
   "metadata": {},
   "source": [
    "<span style=\"color:blueviolet\">ΠΕΡΙΓΡΑΦΙΚΑ ΣΤΑΤΙΣΤΙΚΑ ΣΤΟΙΧΕΙΑ:\n",
    "\n",
    "<span style=\"color:blueviolet\">Το Home Loan Approval dataset περιέχει 367 παρατηρήσεις με πληροφορίες σχετικά με τις εγκρίσεις δανείων και αφορά στοιχεία όπως το φύλο, το εισόδημα του ιδίου και του εγγυητή κι άλλες παραμέτρους. Πιο συγκεκριμμένα σεχτικά με το Loan Amount, η μέση τιμή είναι 146.41 και η τυπική απόκλιση είναι 85.59, που υποδηλώνει μεγάλη διακύμανση στις τιμές. Η μέγιστη τιμή των 700 δείχνει την παρουσία ακραίων τιμών που επηρεάζουν την κατανομή.Το ApplicantIncome έχει μέση τιμή είναι 5403.46 με τυπική απόκλιση 6109.06, κάτι που δείχνει επίσης μεγάλη διακύμανση. Η μέγιστη τιμή των 81000 επιβεβαιώνει την ύπαρξη ακραίων τιμών, γεγονός που μπορεί να επηρεάζει τις στατιστικές αναλύσεις.Το CoapplicantIncome έχει μέση τιμή είναι 1621.24 και η τυπική απόκλιση 2926.24. Η μέγιστη τιμή των 41667 υποδηλώνει επίσης μεγάλη ποικιλία στα εισοδήματα των εγγυητών. \n",
    "\n",
    "\n",
    "<span style=\"color:blueviolet\">ΙΣΤΟΓΡΑΜΜΑΤΑ\n",
    "\n",
    "<span style=\"color:blueviolet\">Από τα ιστογράμματα καταλαβαίνουμε ότι για το LoanAmount  δείχνει ότι η πλειονότητα των αιτήσεων είναι για μικρά ποσά δανείων, με μια σταδιακή μείωση για μεγαλύτερα ποσά. Αυτό υποδηλώνει ότι οι περισσότεροι αιτούντες ζητούν σχετικά μικρά ποσά. Το ApplicantIncome δείχνει ότι η κατανομή των εισοδημάτων έχει ουρά προς τα δεξιά, με την πλειοψηφία των αιτούντων να έχει χαμηλά εισοδήματα, αλλά υπάρχουν και μερικοί αιτούντες με πολύ υψηλά εισοδήματα. Ενώ για το Education και Gender η πλειοψηφία των αιτούντων είναι άνδρες και απόφοιτοι πανεπιστημίου, κάτι που μπορεί να υποδηλώνει ότι αυτές οι ομάδες είναι πιο πιθανό να αιτηθούν για δάνειο ή ότι είναι πιο πιθανό να εγκριθούν.\n",
    "\n",
    "\n",
    "<span style=\"color:blueviolet\">ΔΙΑΓΡΑΜΜΑΤΑ ΔΙΑΣΠΟΡΑΣ\n",
    "\n",
    "<span style=\"color:blueviolet\">Για το LoanAmount και το ApplicantIncome, δεν υπάρχει σαφής γραμμική σχέση, υποδεικνύοντας ότι η έγκριση δανείου δεν εξαρτάται αποκλειστικά από το εισόδημα του αιτούντος. Παρόμοια παρατήρηση όπως με το ApplicantIncome παρατηρούμε και για το CoapplicantIncome δεν υπάρχει σαφής γραμμική σχέση."
   ]
  },
  {
   "cell_type": "markdown",
   "id": "5d42779baf962bd1",
   "metadata": {},
   "source": [
    "<span style=\"color:blueviolet\">ΠΙΝΑΚΑΣ ΣΥΣΧΕΤΙΣΗΣ\n",
    "\n",
    "<span style=\"color:blueviolet\">Από τον πίνακα συσχέτισης παρατηρούμε ότι για το LoanAmount και το ApplicantIncome υπάρχει μέτρια θετική συσχέτιση (0.57), υποδεικνύοντας ότι οι αιτούντες με υψηλότερα εισοδήματα τείνουν να ζητούν μεγαλύτερα δάνεια, αλλά αυτή η συσχέτιση δεν είναι αρκετά ισχυρή. Ενώ το CoapplicantIncome δεν παρουσιάζει ισχυρή συσχέτιση με το LoanAmount, υποδηλώνοντας ότι το εισόδημα του εγγυητή δεν επηρεάζει σημαντικά το ποσό του δανείου.\n",
    "\n",
    "\n",
    "<span style=\"color:blueviolet\">ΣΥΜΠΕΡΑΣΜΑ\n",
    "\n",
    "<span style=\"color:blueviolet\">Το dataset παρουσιάζει σημαντική ποικιλομορφία στα χαρακτηριστικά των αιτούντων δάνειο, με μεγάλες διακυμάνσεις και αρκετές ακραίες τιμές. Οι συσχετίσεις δείχνουν ότι το ποσό του δανείου δεν εξαρτάται αποκλειστικά από το εισόδημα του αιτούντος ή του συναιτούντα, κάτι που υποδηλώνει την ύπαρξη και άλλων παραγόντων που επηρεάζουν την απόφαση για την έγκριση του δανείου. Αυτές οι παρατηρήσεις είναι σημαντικές για την κατανόηση των δεδομένων και την ανάπτυξη ακριβών μοντέλων πρόβλεψης."
   ]
  },
  {
   "cell_type": "markdown",
   "id": "58dd4b6ad836fd79",
   "metadata": {},
   "source": [
    "# <span style=\"color:cyan\">ΟΡΙΣΜΟΣ ΜΕΤΑΒΛΗΤΩΝ ΠΟΥ ΘΑ ΧΡΗΣΙΜΟΠΟΙΗΘΟΥΝ ΣΤΑ ΜΟΝΤΕΛΑ"
   ]
  },
  {
   "cell_type": "code",
   "execution_count": 17,
   "id": "578512a0-f547-4d03-9853-711a672faceb",
   "metadata": {
    "ExecuteTime": {
     "end_time": "2024-06-20T17:44:49.326038Z",
     "start_time": "2024-06-20T17:44:49.305707Z"
    },
    "tags": []
   },
   "outputs": [
    {
     "ename": "NameError",
     "evalue": "name 'df' is not defined",
     "output_type": "error",
     "traceback": [
      "\u001b[1;31m---------------------------------------------------------------------------\u001b[0m",
      "\u001b[1;31mNameError\u001b[0m                                 Traceback (most recent call last)",
      "Cell \u001b[1;32mIn[17], line 2\u001b[0m\n\u001b[0;32m      1\u001b[0m \u001b[38;5;66;03m# Ορίζω όλες τις στήλες εκτός από την τελευταία ως χαρακτηριστικά \u001b[39;00m\n\u001b[1;32m----> 2\u001b[0m X \u001b[38;5;241m=\u001b[39m \u001b[43mdf\u001b[49m\u001b[38;5;241m.\u001b[39mdrop(\u001b[38;5;124m'\u001b[39m\u001b[38;5;124mLoanAmount\u001b[39m\u001b[38;5;124m'\u001b[39m, axis\u001b[38;5;241m=\u001b[39m\u001b[38;5;241m1\u001b[39m)\n\u001b[0;32m      3\u001b[0m X\u001b[38;5;241m.\u001b[39mhead(\u001b[38;5;241m5\u001b[39m)\n",
      "\u001b[1;31mNameError\u001b[0m: name 'df' is not defined"
     ]
    }
   ],
   "source": [
    "# Ορίζω όλες τις στήλες εκτός από την τελευταία ως χαρακτηριστικά \n",
    "X = df.drop('LoanAmount', axis=1)\n",
    "X.head(5)"
   ]
  },
  {
   "cell_type": "code",
   "execution_count": 18,
   "id": "716ab729-dd19-47be-aa0d-a2b9528fcebb",
   "metadata": {
    "ExecuteTime": {
     "end_time": "2024-06-20T17:44:50.467090Z",
     "start_time": "2024-06-20T17:44:50.457628Z"
    },
    "tags": []
   },
   "outputs": [
    {
     "ename": "NameError",
     "evalue": "name 'X' is not defined",
     "output_type": "error",
     "traceback": [
      "\u001b[1;31m---------------------------------------------------------------------------\u001b[0m",
      "\u001b[1;31mNameError\u001b[0m                                 Traceback (most recent call last)",
      "Cell \u001b[1;32mIn[18], line 2\u001b[0m\n\u001b[0;32m      1\u001b[0m \u001b[38;5;66;03m#Παίρνω το συνολικό αριθμό των γραμμών και των στηλών των ανεξάρτητων μεταβλητών X του dataset\u001b[39;00m\n\u001b[1;32m----> 2\u001b[0m \u001b[43mX\u001b[49m\u001b[38;5;241m.\u001b[39mshape\n",
      "\u001b[1;31mNameError\u001b[0m: name 'X' is not defined"
     ]
    }
   ],
   "source": [
    "#Παίρνω το συνολικό αριθμό των γραμμών και των στηλών των ανεξάρτητων μεταβλητών X του dataset\n",
    "X.shape"
   ]
  },
  {
   "cell_type": "code",
   "execution_count": 19,
   "id": "b5e975cd-7c5d-4e51-9eeb-9d9f337397a0",
   "metadata": {
    "ExecuteTime": {
     "end_time": "2024-06-20T17:44:50.909749Z",
     "start_time": "2024-06-20T17:44:50.888029Z"
    },
    "tags": []
   },
   "outputs": [
    {
     "ename": "NameError",
     "evalue": "name 'df' is not defined",
     "output_type": "error",
     "traceback": [
      "\u001b[1;31m---------------------------------------------------------------------------\u001b[0m",
      "\u001b[1;31mNameError\u001b[0m                                 Traceback (most recent call last)",
      "Cell \u001b[1;32mIn[19], line 2\u001b[0m\n\u001b[0;32m      1\u001b[0m \u001b[38;5;66;03m#Θέτω την τελευταία στήλη του dataset ως την εξαρτημένη μεταβλητή Y και φέρνω τις πρώτες πέντε γραμμές\u001b[39;00m\n\u001b[1;32m----> 2\u001b[0m y \u001b[38;5;241m=\u001b[39m \u001b[43mdf\u001b[49m[\u001b[38;5;124m'\u001b[39m\u001b[38;5;124mLoanAmount\u001b[39m\u001b[38;5;124m'\u001b[39m]\n\u001b[0;32m      3\u001b[0m y\u001b[38;5;241m.\u001b[39mhead(\u001b[38;5;241m5\u001b[39m)\n",
      "\u001b[1;31mNameError\u001b[0m: name 'df' is not defined"
     ]
    }
   ],
   "source": [
    "#Θέτω την τελευταία στήλη του dataset ως την εξαρτημένη μεταβλητή Y και φέρνω τις πρώτες πέντε γραμμές\n",
    "y = df['LoanAmount']\n",
    "y.head(5)"
   ]
  },
  {
   "cell_type": "code",
   "execution_count": 20,
   "id": "9b1619ba-1142-4522-b25c-5ee8e9bbd473",
   "metadata": {
    "ExecuteTime": {
     "end_time": "2024-06-20T17:44:51.558438Z",
     "start_time": "2024-06-20T17:44:51.548528Z"
    },
    "tags": []
   },
   "outputs": [
    {
     "ename": "NameError",
     "evalue": "name 'y' is not defined",
     "output_type": "error",
     "traceback": [
      "\u001b[1;31m---------------------------------------------------------------------------\u001b[0m",
      "\u001b[1;31mNameError\u001b[0m                                 Traceback (most recent call last)",
      "Cell \u001b[1;32mIn[20], line 2\u001b[0m\n\u001b[0;32m      1\u001b[0m \u001b[38;5;66;03m#Δίνει τον τύπο δεδομένων της εξαρτημένης μεταβλητής Υ ως αντικείμενο κλάσης\u001b[39;00m\n\u001b[1;32m----> 2\u001b[0m \u001b[38;5;28mtype\u001b[39m(\u001b[43my\u001b[49m)\n",
      "\u001b[1;31mNameError\u001b[0m: name 'y' is not defined"
     ]
    }
   ],
   "source": [
    "#Δίνει τον τύπο δεδομένων της εξαρτημένης μεταβλητής Υ ως αντικείμενο κλάσης\n",
    "type(y)"
   ]
  },
  {
   "cell_type": "markdown",
   "id": "48080e4c24429b97",
   "metadata": {},
   "source": [
    "# <span style=\"color:cyan\">ΠΟΛΛΑΠΛΗ ΠΑΛΙΝΔΡΟΜΗΣΗ (STATSMODELS)"
   ]
  },
  {
   "cell_type": "code",
   "execution_count": 21,
   "id": "1898dcb2439c84ae",
   "metadata": {
    "ExecuteTime": {
     "end_time": "2024-06-20T17:44:52.128603Z",
     "start_time": "2024-06-20T17:44:52.118919Z"
    },
    "tags": []
   },
   "outputs": [
    {
     "ename": "NameError",
     "evalue": "name 'train_test_split' is not defined",
     "output_type": "error",
     "traceback": [
      "\u001b[1;31m---------------------------------------------------------------------------\u001b[0m",
      "\u001b[1;31mNameError\u001b[0m                                 Traceback (most recent call last)",
      "Cell \u001b[1;32mIn[21], line 2\u001b[0m\n\u001b[0;32m      1\u001b[0m \u001b[38;5;66;03m# Διαχωρισμός των δεδομένων σε σύνολα εκπαίδευσης και δοκιμής\u001b[39;00m\n\u001b[1;32m----> 2\u001b[0m X_train, X_test, y_train, y_test \u001b[38;5;241m=\u001b[39m \u001b[43mtrain_test_split\u001b[49m(X, y, test_size\u001b[38;5;241m=\u001b[39m\u001b[38;5;241m0.7\u001b[39m, random_state\u001b[38;5;241m=\u001b[39m\u001b[38;5;241m42\u001b[39m)\n",
      "\u001b[1;31mNameError\u001b[0m: name 'train_test_split' is not defined"
     ]
    }
   ],
   "source": [
    "# Διαχωρισμός των δεδομένων σε σύνολα εκπαίδευσης και δοκιμής\n",
    "X_train, X_test, y_train, y_test = train_test_split(X, y, test_size=0.7, random_state=42)"
   ]
  },
  {
   "cell_type": "code",
   "execution_count": 22,
   "id": "cda9fdeb-459c-4773-813b-9ddd6324b268",
   "metadata": {
    "ExecuteTime": {
     "end_time": "2024-06-20T17:44:52.464246Z",
     "start_time": "2024-06-20T17:44:52.449276Z"
    },
    "tags": []
   },
   "outputs": [
    {
     "ename": "NameError",
     "evalue": "name 'sm' is not defined",
     "output_type": "error",
     "traceback": [
      "\u001b[1;31m---------------------------------------------------------------------------\u001b[0m",
      "\u001b[1;31mNameError\u001b[0m                                 Traceback (most recent call last)",
      "Cell \u001b[1;32mIn[22], line 2\u001b[0m\n\u001b[0;32m      1\u001b[0m \u001b[38;5;66;03m# Ορίζει τη σταθερά του μοντέλου\u001b[39;00m\n\u001b[1;32m----> 2\u001b[0m X \u001b[38;5;241m=\u001b[39m \u001b[43msm\u001b[49m\u001b[38;5;241m.\u001b[39madd_constant(X)\n",
      "\u001b[1;31mNameError\u001b[0m: name 'sm' is not defined"
     ]
    }
   ],
   "source": [
    "# Ορίζει τη σταθερά του μοντέλου\n",
    "X = sm.add_constant(X)"
   ]
  },
  {
   "cell_type": "code",
   "execution_count": 23,
   "id": "79cc193a-328b-44eb-bd55-7e51c1f6d59d",
   "metadata": {
    "ExecuteTime": {
     "end_time": "2024-06-20T17:44:52.854661Z",
     "start_time": "2024-06-20T17:44:52.845663Z"
    },
    "tags": []
   },
   "outputs": [
    {
     "ename": "NameError",
     "evalue": "name 'sm' is not defined",
     "output_type": "error",
     "traceback": [
      "\u001b[1;31m---------------------------------------------------------------------------\u001b[0m",
      "\u001b[1;31mNameError\u001b[0m                                 Traceback (most recent call last)",
      "Cell \u001b[1;32mIn[23], line 2\u001b[0m\n\u001b[0;32m      1\u001b[0m \u001b[38;5;66;03m# Δημιουργία του μοντέλου πολλαπλής γραμμικής παλινδρόμησης\u001b[39;00m\n\u001b[1;32m----> 2\u001b[0m model \u001b[38;5;241m=\u001b[39m \u001b[43msm\u001b[49m\u001b[38;5;241m.\u001b[39mOLS(y, X)\u001b[38;5;241m.\u001b[39mfit()\n",
      "\u001b[1;31mNameError\u001b[0m: name 'sm' is not defined"
     ]
    }
   ],
   "source": [
    "# Δημιουργία του μοντέλου πολλαπλής γραμμικής παλινδρόμησης\n",
    "model = sm.OLS(y, X).fit()"
   ]
  },
  {
   "cell_type": "code",
   "execution_count": 24,
   "id": "4b8aaac9-149b-429c-a93a-0070231a0141",
   "metadata": {
    "ExecuteTime": {
     "end_time": "2024-06-20T17:44:53.319799Z",
     "start_time": "2024-06-20T17:44:53.293427Z"
    },
    "tags": []
   },
   "outputs": [
    {
     "ename": "NameError",
     "evalue": "name 'model' is not defined",
     "output_type": "error",
     "traceback": [
      "\u001b[1;31m---------------------------------------------------------------------------\u001b[0m",
      "\u001b[1;31mNameError\u001b[0m                                 Traceback (most recent call last)",
      "Cell \u001b[1;32mIn[24], line 2\u001b[0m\n\u001b[0;32m      1\u001b[0m \u001b[38;5;66;03m#Visualization του μοντέλου (ANOVA Table, Coefficients, R-squared, etc.)\u001b[39;00m\n\u001b[1;32m----> 2\u001b[0m \u001b[38;5;28mprint\u001b[39m(\u001b[43mmodel\u001b[49m\u001b[38;5;241m.\u001b[39msummary())\n",
      "\u001b[1;31mNameError\u001b[0m: name 'model' is not defined"
     ]
    }
   ],
   "source": [
    "#Visualization του μοντέλου (ANOVA Table, Coefficients, R-squared, etc.)\n",
    "print(model.summary())"
   ]
  },
  {
   "cell_type": "code",
   "execution_count": 25,
   "id": "66ec7785bf9ef4ed",
   "metadata": {
    "ExecuteTime": {
     "end_time": "2024-06-20T17:44:53.467555Z",
     "start_time": "2024-06-20T17:44:53.456674Z"
    },
    "tags": []
   },
   "outputs": [
    {
     "ename": "NameError",
     "evalue": "name 'model' is not defined",
     "output_type": "error",
     "traceback": [
      "\u001b[1;31m---------------------------------------------------------------------------\u001b[0m",
      "\u001b[1;31mNameError\u001b[0m                                 Traceback (most recent call last)",
      "Cell \u001b[1;32mIn[25], line 2\u001b[0m\n\u001b[0;32m      1\u001b[0m \u001b[38;5;66;03m#Πληροφορίες για τον τύπο του μοντέλου που χρησιμοποιήθηκε\u001b[39;00m\n\u001b[1;32m----> 2\u001b[0m \u001b[38;5;28mtype\u001b[39m(\u001b[43mmodel\u001b[49m)\n",
      "\u001b[1;31mNameError\u001b[0m: name 'model' is not defined"
     ]
    }
   ],
   "source": [
    "#Πληροφορίες για τον τύπο του μοντέλου που χρησιμοποιήθηκε\n",
    "type(model)"
   ]
  },
  {
   "cell_type": "code",
   "execution_count": 26,
   "id": "299db70b9bfa1267",
   "metadata": {
    "ExecuteTime": {
     "end_time": "2024-06-20T17:44:53.880679Z",
     "start_time": "2024-06-20T17:44:53.839206Z"
    },
    "tags": []
   },
   "outputs": [
    {
     "ename": "NameError",
     "evalue": "name 'model' is not defined",
     "output_type": "error",
     "traceback": [
      "\u001b[1;31m---------------------------------------------------------------------------\u001b[0m",
      "\u001b[1;31mNameError\u001b[0m                                 Traceback (most recent call last)",
      "Cell \u001b[1;32mIn[26], line 2\u001b[0m\n\u001b[0;32m      1\u001b[0m \u001b[38;5;66;03m#Η εντολή δίνει μια πιο συνοπτική παρουσίαση του μοντέλου\u001b[39;00m\n\u001b[1;32m----> 2\u001b[0m \u001b[38;5;28mprint\u001b[39m(\u001b[43mmodel\u001b[49m\u001b[38;5;241m.\u001b[39msummary2())\n",
      "\u001b[1;31mNameError\u001b[0m: name 'model' is not defined"
     ]
    }
   ],
   "source": [
    "#Η εντολή δίνει μια πιο συνοπτική παρουσίαση του μοντέλου\n",
    "print(model.summary2())"
   ]
  },
  {
   "cell_type": "code",
   "execution_count": 27,
   "id": "fd1cccbf46a9bf89",
   "metadata": {
    "ExecuteTime": {
     "end_time": "2024-06-20T17:44:54.544023Z",
     "start_time": "2024-06-20T17:44:54.495124Z"
    },
    "tags": []
   },
   "outputs": [
    {
     "ename": "NameError",
     "evalue": "name 'model' is not defined",
     "output_type": "error",
     "traceback": [
      "\u001b[1;31m---------------------------------------------------------------------------\u001b[0m",
      "\u001b[1;31mNameError\u001b[0m                                 Traceback (most recent call last)",
      "Cell \u001b[1;32mIn[27], line 2\u001b[0m\n\u001b[0;32m      1\u001b[0m \u001b[38;5;66;03m#Δίνει την παρουσίαση του μοντέλου με μια καλύτερη μορφή από την προηγούμενη δημιουργώντας έναν πίνακα\u001b[39;00m\n\u001b[1;32m----> 2\u001b[0m \u001b[43mmodel\u001b[49m\u001b[38;5;241m.\u001b[39msummary()\n",
      "\u001b[1;31mNameError\u001b[0m: name 'model' is not defined"
     ]
    }
   ],
   "source": [
    "#Δίνει την παρουσίαση του μοντέλου με μια καλύτερη μορφή από την προηγούμενη δημιουργώντας έναν πίνακα\n",
    "model.summary()"
   ]
  },
  {
   "cell_type": "code",
   "execution_count": 28,
   "id": "baf7f684d406e2f",
   "metadata": {
    "ExecuteTime": {
     "end_time": "2024-06-20T17:44:55.013474Z",
     "start_time": "2024-06-20T17:44:55.004479Z"
    },
    "tags": []
   },
   "outputs": [
    {
     "ename": "NameError",
     "evalue": "name 'model' is not defined",
     "output_type": "error",
     "traceback": [
      "\u001b[1;31m---------------------------------------------------------------------------\u001b[0m",
      "\u001b[1;31mNameError\u001b[0m                                 Traceback (most recent call last)",
      "Cell \u001b[1;32mIn[28], line 2\u001b[0m\n\u001b[0;32m      1\u001b[0m \u001b[38;5;66;03m#Εισάγει ένα dictionary το οποίο περιέχει τις τιμές κάποιων στατιστικών του μοντέλου πολλαπλής γραμμικής παλινδρόμησης\u001b[39;00m\n\u001b[1;32m----> 2\u001b[0m \u001b[43mmodel\u001b[49m\u001b[38;5;241m.\u001b[39mdiagn \n",
      "\u001b[1;31mNameError\u001b[0m: name 'model' is not defined"
     ]
    }
   ],
   "source": [
    "#Εισάγει ένα dictionary το οποίο περιέχει τις τιμές κάποιων στατιστικών του μοντέλου πολλαπλής γραμμικής παλινδρόμησης\n",
    "model.diagn "
   ]
  },
  {
   "cell_type": "code",
   "execution_count": 29,
   "id": "9952463a0c577d42",
   "metadata": {
    "ExecuteTime": {
     "end_time": "2024-06-20T17:44:55.491688Z",
     "start_time": "2024-06-20T17:44:55.483576Z"
    },
    "tags": []
   },
   "outputs": [
    {
     "ename": "NameError",
     "evalue": "name 'model' is not defined",
     "output_type": "error",
     "traceback": [
      "\u001b[1;31m---------------------------------------------------------------------------\u001b[0m",
      "\u001b[1;31mNameError\u001b[0m                                 Traceback (most recent call last)",
      "Cell \u001b[1;32mIn[29], line 2\u001b[0m\n\u001b[0;32m      1\u001b[0m \u001b[38;5;66;03m#Επιστρέφει την τιμή του κριτηρίου Akaike του μοντέλου, που δείχνει την ποιότητα του μοντέλου σε σχέση με τον αριθμό των παραμέτρων του.\u001b[39;00m\n\u001b[1;32m----> 2\u001b[0m \u001b[43mmodel\u001b[49m\u001b[38;5;241m.\u001b[39maic\n",
      "\u001b[1;31mNameError\u001b[0m: name 'model' is not defined"
     ]
    }
   ],
   "source": [
    "#Επιστρέφει την τιμή του κριτηρίου Akaike του μοντέλου, που δείχνει την ποιότητα του μοντέλου σε σχέση με τον αριθμό των παραμέτρων του.\n",
    "model.aic"
   ]
  },
  {
   "cell_type": "code",
   "execution_count": 30,
   "id": "a5a29be07d073ff6",
   "metadata": {
    "ExecuteTime": {
     "end_time": "2024-06-20T17:44:56.006992Z",
     "start_time": "2024-06-20T17:44:55.995014Z"
    },
    "tags": []
   },
   "outputs": [
    {
     "ename": "NameError",
     "evalue": "name 'model' is not defined",
     "output_type": "error",
     "traceback": [
      "\u001b[1;31m---------------------------------------------------------------------------\u001b[0m",
      "\u001b[1;31mNameError\u001b[0m                                 Traceback (most recent call last)",
      "Cell \u001b[1;32mIn[30], line 2\u001b[0m\n\u001b[0;32m      1\u001b[0m \u001b[38;5;66;03m#Επιστρέφει την τιμή των t-values των παραμέτρων του μοντέλου. Υψηλό t-value σημαίνει ότι η παράμετρος είναι σημαντική.\u001b[39;00m\n\u001b[1;32m----> 2\u001b[0m \u001b[43mmodel\u001b[49m\u001b[38;5;241m.\u001b[39mtvalues\n",
      "\u001b[1;31mNameError\u001b[0m: name 'model' is not defined"
     ]
    }
   ],
   "source": [
    "#Επιστρέφει την τιμή των t-values των παραμέτρων του μοντέλου. Υψηλό t-value σημαίνει ότι η παράμετρος είναι σημαντική.\n",
    "model.tvalues"
   ]
  },
  {
   "cell_type": "code",
   "execution_count": 31,
   "id": "fb14cd4a44190d3f",
   "metadata": {
    "ExecuteTime": {
     "end_time": "2024-06-20T17:44:56.302511Z",
     "start_time": "2024-06-20T17:44:56.288725Z"
    },
    "tags": []
   },
   "outputs": [
    {
     "ename": "NameError",
     "evalue": "name 'model' is not defined",
     "output_type": "error",
     "traceback": [
      "\u001b[1;31m---------------------------------------------------------------------------\u001b[0m",
      "\u001b[1;31mNameError\u001b[0m                                 Traceback (most recent call last)",
      "Cell \u001b[1;32mIn[31], line 2\u001b[0m\n\u001b[0;32m      1\u001b[0m \u001b[38;5;66;03m#Επιστρέφει τα p-values των παραμέτρων του μοντέλου. Χαμηλό p-value σημαίνει ότι η παράμετρος είναι σημαντική (p-value<0.05).\u001b[39;00m\n\u001b[1;32m----> 2\u001b[0m \u001b[43mmodel\u001b[49m\u001b[38;5;241m.\u001b[39mpvalues\n",
      "\u001b[1;31mNameError\u001b[0m: name 'model' is not defined"
     ]
    }
   ],
   "source": [
    "#Επιστρέφει τα p-values των παραμέτρων του μοντέλου. Χαμηλό p-value σημαίνει ότι η παράμετρος είναι σημαντική (p-value<0.05).\n",
    "model.pvalues"
   ]
  },
  {
   "cell_type": "code",
   "execution_count": 32,
   "id": "f1ae609f83a8f8dd",
   "metadata": {
    "ExecuteTime": {
     "end_time": "2024-06-20T17:44:56.713395Z",
     "start_time": "2024-06-20T17:44:56.700361Z"
    },
    "tags": []
   },
   "outputs": [
    {
     "ename": "NameError",
     "evalue": "name 'model' is not defined",
     "output_type": "error",
     "traceback": [
      "\u001b[1;31m---------------------------------------------------------------------------\u001b[0m",
      "\u001b[1;31mNameError\u001b[0m                                 Traceback (most recent call last)",
      "Cell \u001b[1;32mIn[32], line 2\u001b[0m\n\u001b[0;32m      1\u001b[0m \u001b[38;5;66;03m#Επιστρέφει τις τιμές των residuals του μοντέλου.\u001b[39;00m\n\u001b[1;32m----> 2\u001b[0m \u001b[43mmodel\u001b[49m\u001b[38;5;241m.\u001b[39mresid\n",
      "\u001b[1;31mNameError\u001b[0m: name 'model' is not defined"
     ]
    }
   ],
   "source": [
    "#Επιστρέφει τις τιμές των residuals του μοντέλου.\n",
    "model.resid"
   ]
  },
  {
   "cell_type": "code",
   "execution_count": 33,
   "id": "51b749c6ce58a5f6",
   "metadata": {
    "ExecuteTime": {
     "end_time": "2024-06-20T17:44:56.919302Z",
     "start_time": "2024-06-20T17:44:56.906046Z"
    },
    "tags": []
   },
   "outputs": [
    {
     "ename": "NameError",
     "evalue": "name 'model' is not defined",
     "output_type": "error",
     "traceback": [
      "\u001b[1;31m---------------------------------------------------------------------------\u001b[0m",
      "\u001b[1;31mNameError\u001b[0m                                 Traceback (most recent call last)",
      "Cell \u001b[1;32mIn[33], line 2\u001b[0m\n\u001b[0;32m      1\u001b[0m \u001b[38;5;66;03m#Δίνει περιγραφικά στατιστικά στοιχεία για τις τιμές των residuals του μοντέλου.\u001b[39;00m\n\u001b[1;32m----> 2\u001b[0m pd\u001b[38;5;241m.\u001b[39mSeries(\u001b[43mmodel\u001b[49m\u001b[38;5;241m.\u001b[39mresid)\u001b[38;5;241m.\u001b[39mdescribe()\u001b[38;5;241m.\u001b[39mround(\u001b[38;5;241m2\u001b[39m)\n",
      "\u001b[1;31mNameError\u001b[0m: name 'model' is not defined"
     ]
    }
   ],
   "source": [
    "#Δίνει περιγραφικά στατιστικά στοιχεία για τις τιμές των residuals του μοντέλου.\n",
    "pd.Series(model.resid).describe().round(2)"
   ]
  },
  {
   "cell_type": "code",
   "execution_count": 34,
   "id": "96aafecc0783201d",
   "metadata": {
    "ExecuteTime": {
     "end_time": "2024-06-20T17:45:01.497768Z",
     "start_time": "2024-06-20T17:45:01.486962Z"
    },
    "tags": []
   },
   "outputs": [
    {
     "ename": "NameError",
     "evalue": "name 'model' is not defined",
     "output_type": "error",
     "traceback": [
      "\u001b[1;31m---------------------------------------------------------------------------\u001b[0m",
      "\u001b[1;31mNameError\u001b[0m                                 Traceback (most recent call last)",
      "Cell \u001b[1;32mIn[34], line 2\u001b[0m\n\u001b[0;32m      1\u001b[0m \u001b[38;5;66;03m#Επιστρέψει το άθροισμα των τετραγωνικών καταλοίπων του μοντέλου.\u001b[39;00m\n\u001b[1;32m----> 2\u001b[0m \u001b[43mmodel\u001b[49m\u001b[38;5;241m.\u001b[39mssr\n",
      "\u001b[1;31mNameError\u001b[0m: name 'model' is not defined"
     ]
    }
   ],
   "source": [
    "#Επιστρέψει το άθροισμα των τετραγωνικών καταλοίπων του μοντέλου.\n",
    "model.ssr"
   ]
  },
  {
   "cell_type": "code",
   "execution_count": 35,
   "id": "ee5b50caef1238e8",
   "metadata": {
    "ExecuteTime": {
     "end_time": "2024-06-20T17:45:02.080508Z",
     "start_time": "2024-06-20T17:45:02.056317Z"
    },
    "tags": []
   },
   "outputs": [
    {
     "ename": "NameError",
     "evalue": "name 'y' is not defined",
     "output_type": "error",
     "traceback": [
      "\u001b[1;31m---------------------------------------------------------------------------\u001b[0m",
      "\u001b[1;31mNameError\u001b[0m                                 Traceback (most recent call last)",
      "Cell \u001b[1;32mIn[35], line 2\u001b[0m\n\u001b[0;32m      1\u001b[0m \u001b[38;5;66;03m#Δίνει ένα καινούριο DataFrame με δυο στήλες όπου στη μια στήλη είναι οι πραγματικές τιμές του y και στην άλλη οι προβλεπόμενες τιμές του y \u001b[39;00m\n\u001b[1;32m----> 2\u001b[0m compare_pred_df \u001b[38;5;241m=\u001b[39m pd\u001b[38;5;241m.\u001b[39mDataFrame({\u001b[38;5;124m'\u001b[39m\u001b[38;5;124mactual_y\u001b[39m\u001b[38;5;124m'\u001b[39m: \u001b[43my\u001b[49m, \u001b[38;5;124m'\u001b[39m\u001b[38;5;124my_hat\u001b[39m\u001b[38;5;124m'\u001b[39m:model\u001b[38;5;241m.\u001b[39mfittedvalues})\n\u001b[0;32m      4\u001b[0m \u001b[38;5;66;03m#Επιστρέφει τι πρώτες 10 γραμμές του DataFrame\u001b[39;00m\n\u001b[0;32m      5\u001b[0m compare_pred_df\u001b[38;5;241m.\u001b[39mhead(\u001b[38;5;241m10\u001b[39m)\n",
      "\u001b[1;31mNameError\u001b[0m: name 'y' is not defined"
     ]
    }
   ],
   "source": [
    "#Δίνει ένα καινούριο DataFrame με δυο στήλες όπου στη μια στήλη είναι οι πραγματικές τιμές του y και στην άλλη οι προβλεπόμενες τιμές του y \n",
    "compare_pred_df = pd.DataFrame({'actual_y': y, 'y_hat':model.fittedvalues})\n",
    "\n",
    "#Επιστρέφει τι πρώτες 10 γραμμές του DataFrame\n",
    "compare_pred_df.head(10)"
   ]
  },
  {
   "cell_type": "markdown",
   "id": "769a47dce13907b7",
   "metadata": {},
   "source": [
    "# <span style=\"color:cyan\">ΔΙΑΓΡΑΜΜΑΤΑ ΠΟΛΛΑΠΛΗΣ ΠΛΑΙΝΔΡΟΜΗΣΗΣ"
   ]
  },
  {
   "cell_type": "code",
   "execution_count": 36,
   "id": "3ea3878cce3e314f",
   "metadata": {
    "tags": []
   },
   "outputs": [
    {
     "ename": "NameError",
     "evalue": "name 'compare_pred_df' is not defined",
     "output_type": "error",
     "traceback": [
      "\u001b[1;31m---------------------------------------------------------------------------\u001b[0m",
      "\u001b[1;31mNameError\u001b[0m                                 Traceback (most recent call last)",
      "Cell \u001b[1;32mIn[36], line 2\u001b[0m\n\u001b[0;32m      1\u001b[0m \u001b[38;5;66;03m#Δημιουργεί ένα διάγραμμα αποκατανομής με τις πραγματικές τιμές του y στον άξονα x και τις προβλεπόμενες τιμές του y στον άξονα y\u001b[39;00m\n\u001b[1;32m----> 2\u001b[0m sns\u001b[38;5;241m.\u001b[39mscatterplot(x\u001b[38;5;241m=\u001b[39m\u001b[38;5;124m\"\u001b[39m\u001b[38;5;124mactual_y\u001b[39m\u001b[38;5;124m\"\u001b[39m, y\u001b[38;5;241m=\u001b[39m\u001b[38;5;124m\"\u001b[39m\u001b[38;5;124my_hat\u001b[39m\u001b[38;5;124m\"\u001b[39m, color\u001b[38;5;241m=\u001b[39m\u001b[38;5;124m\"\u001b[39m\u001b[38;5;124mb\u001b[39m\u001b[38;5;124m\"\u001b[39m, data\u001b[38;5;241m=\u001b[39m\u001b[43mcompare_pred_df\u001b[49m);\n",
      "\u001b[1;31mNameError\u001b[0m: name 'compare_pred_df' is not defined"
     ]
    }
   ],
   "source": [
    "#Δημιουργεί ένα διάγραμμα αποκατανομής με τις πραγματικές τιμές του y στον άξονα x και τις προβλεπόμενες τιμές του y στον άξονα y\n",
    "sns.scatterplot(x=\"actual_y\", y=\"y_hat\", color=\"b\", data=compare_pred_df);"
   ]
  },
  {
   "cell_type": "code",
   "execution_count": 37,
   "id": "553592d6b7300c20",
   "metadata": {
    "tags": []
   },
   "outputs": [
    {
     "ename": "NameError",
     "evalue": "name 'y' is not defined",
     "output_type": "error",
     "traceback": [
      "\u001b[1;31m---------------------------------------------------------------------------\u001b[0m",
      "\u001b[1;31mNameError\u001b[0m                                 Traceback (most recent call last)",
      "Cell \u001b[1;32mIn[37], line 2\u001b[0m\n\u001b[0;32m      1\u001b[0m \u001b[38;5;66;03m#Δημιουργεί ένα διάγραμμα διασποράς με τις πραγματικές τιμές της εξαρτημένης μεταβλητής LoanAmount στον άξονα x και τις προβλεπόμενες τιμές της στον άξονα y\u001b[39;00m\n\u001b[1;32m----> 2\u001b[0m sns\u001b[38;5;241m.\u001b[39mscatterplot(x\u001b[38;5;241m=\u001b[39m\u001b[43my\u001b[49m, y\u001b[38;5;241m=\u001b[39mmodel\u001b[38;5;241m.\u001b[39mfittedvalues, color\u001b[38;5;241m=\u001b[39m\u001b[38;5;124m\"\u001b[39m\u001b[38;5;124mb\u001b[39m\u001b[38;5;124m\"\u001b[39m);\n",
      "\u001b[1;31mNameError\u001b[0m: name 'y' is not defined"
     ]
    }
   ],
   "source": [
    "#Δημιουργεί ένα διάγραμμα διασποράς με τις πραγματικές τιμές της εξαρτημένης μεταβλητής LoanAmount στον άξονα x και τις προβλεπόμενες τιμές της στον άξονα y\n",
    "sns.scatterplot(x=y, y=model.fittedvalues, color=\"b\");"
   ]
  },
  {
   "cell_type": "code",
   "execution_count": 38,
   "id": "ac3077908b16382b",
   "metadata": {
    "tags": []
   },
   "outputs": [
    {
     "ename": "NameError",
     "evalue": "name 'model' is not defined",
     "output_type": "error",
     "traceback": [
      "\u001b[1;31m---------------------------------------------------------------------------\u001b[0m",
      "\u001b[1;31mNameError\u001b[0m                                 Traceback (most recent call last)",
      "Cell \u001b[1;32mIn[38], line 2\u001b[0m\n\u001b[0;32m      1\u001b[0m \u001b[38;5;66;03m#Δημιουργεί ένα διάγραμμα των τετραγωνικών καταλοίπων του μοντέλου σε σχέση με τις προβλεπόμενες τιμές του y\u001b[39;00m\n\u001b[1;32m----> 2\u001b[0m sns\u001b[38;5;241m.\u001b[39mresidplot(x\u001b[38;5;241m=\u001b[39m\u001b[43mmodel\u001b[49m\u001b[38;5;241m.\u001b[39mfittedvalues, y\u001b[38;5;241m=\u001b[39mmodel\u001b[38;5;241m.\u001b[39mresid, lowess\u001b[38;5;241m=\u001b[39m\u001b[38;5;28;01mTrue\u001b[39;00m, color\u001b[38;5;241m=\u001b[39m\u001b[38;5;124m\"\u001b[39m\u001b[38;5;124mg\u001b[39m\u001b[38;5;124m\"\u001b[39m);\n",
      "\u001b[1;31mNameError\u001b[0m: name 'model' is not defined"
     ]
    }
   ],
   "source": [
    "#Δημιουργεί ένα διάγραμμα των τετραγωνικών καταλοίπων του μοντέλου σε σχέση με τις προβλεπόμενες τιμές του y\n",
    "sns.residplot(x=model.fittedvalues, y=model.resid, lowess=True, color=\"g\");"
   ]
  },
  {
   "cell_type": "code",
   "execution_count": 39,
   "id": "72aea758a6663907",
   "metadata": {
    "tags": []
   },
   "outputs": [
    {
     "ename": "NameError",
     "evalue": "name 'sm' is not defined",
     "output_type": "error",
     "traceback": [
      "\u001b[1;31m---------------------------------------------------------------------------\u001b[0m",
      "\u001b[1;31mNameError\u001b[0m                                 Traceback (most recent call last)",
      "Cell \u001b[1;32mIn[39], line 2\u001b[0m\n\u001b[0;32m      1\u001b[0m \u001b[38;5;66;03m#Δημιουργεί ένα Q-Q plot για τις τιμές των residuals του μοντέλου ώστε να διαπιστωθεί αν ακολουθούν κανονική κατανομή\u001b[39;00m\n\u001b[1;32m----> 2\u001b[0m \u001b[43msm\u001b[49m\u001b[38;5;241m.\u001b[39mqqplot(model\u001b[38;5;241m.\u001b[39mresid)\n\u001b[0;32m      3\u001b[0m plt\u001b[38;5;241m.\u001b[39mshow()\n",
      "\u001b[1;31mNameError\u001b[0m: name 'sm' is not defined"
     ]
    }
   ],
   "source": [
    "#Δημιουργεί ένα Q-Q plot για τις τιμές των residuals του μοντέλου ώστε να διαπιστωθεί αν ακολουθούν κανονική κατανομή\n",
    "sm.qqplot(model.resid)\n",
    "plt.show()"
   ]
  },
  {
   "cell_type": "code",
   "execution_count": 40,
   "id": "44a995cc95ec99f4",
   "metadata": {
    "tags": []
   },
   "outputs": [
    {
     "ename": "NameError",
     "evalue": "name 'stats' is not defined",
     "output_type": "error",
     "traceback": [
      "\u001b[1;31m---------------------------------------------------------------------------\u001b[0m",
      "\u001b[1;31mNameError\u001b[0m                                 Traceback (most recent call last)",
      "Cell \u001b[1;32mIn[40], line 2\u001b[0m\n\u001b[0;32m      1\u001b[0m \u001b[38;5;66;03m#Δημιουργεί ένα διάγραμμα πυκνότητας πιθανότητας για τις τιμές των residuals του μοντέλου για να διαπιστωθεί αν ακολουθούν κανονική κατανομή\u001b[39;00m\n\u001b[1;32m----> 2\u001b[0m \u001b[43mstats\u001b[49m\u001b[38;5;241m.\u001b[39mprobplot(model\u001b[38;5;241m.\u001b[39mresid, plot\u001b[38;5;241m=\u001b[39msns\u001b[38;5;241m.\u001b[39mmpl\u001b[38;5;241m.\u001b[39mpyplot);\n",
      "\u001b[1;31mNameError\u001b[0m: name 'stats' is not defined"
     ]
    }
   ],
   "source": [
    "#Δημιουργεί ένα διάγραμμα πυκνότητας πιθανότητας για τις τιμές των residuals του μοντέλου για να διαπιστωθεί αν ακολουθούν κανονική κατανομή\n",
    "stats.probplot(model.resid, plot=sns.mpl.pyplot);"
   ]
  },
  {
   "cell_type": "code",
   "execution_count": 41,
   "id": "264e8ca9cbfeef33",
   "metadata": {
    "tags": []
   },
   "outputs": [
    {
     "ename": "NameError",
     "evalue": "name 'model' is not defined",
     "output_type": "error",
     "traceback": [
      "\u001b[1;31m---------------------------------------------------------------------------\u001b[0m",
      "\u001b[1;31mNameError\u001b[0m                                 Traceback (most recent call last)",
      "Cell \u001b[1;32mIn[41], line 2\u001b[0m\n\u001b[0;32m      1\u001b[0m \u001b[38;5;66;03m#Δημιουργεί ένα διάγραμμα κατανομής των καταλοίπων του μοντέλου που δείχνει πως κατανέμονται οι τιμές τους \u001b[39;00m\n\u001b[1;32m----> 2\u001b[0m sns\u001b[38;5;241m.\u001b[39mdisplot(x\u001b[38;5;241m=\u001b[39m\u001b[43mmodel\u001b[49m\u001b[38;5;241m.\u001b[39mresid, kind\u001b[38;5;241m=\u001b[39m\u001b[38;5;124m\"\u001b[39m\u001b[38;5;124mkde\u001b[39m\u001b[38;5;124m\"\u001b[39m);\n",
      "\u001b[1;31mNameError\u001b[0m: name 'model' is not defined"
     ]
    }
   ],
   "source": [
    "#Δημιουργεί ένα διάγραμμα κατανομής των καταλοίπων του μοντέλου που δείχνει πως κατανέμονται οι τιμές τους \n",
    "sns.displot(x=model.resid, kind=\"kde\");"
   ]
  },
  {
   "cell_type": "code",
   "execution_count": 42,
   "id": "14d3f86642c0da4",
   "metadata": {
    "tags": []
   },
   "outputs": [
    {
     "ename": "NameError",
     "evalue": "name 'model' is not defined",
     "output_type": "error",
     "traceback": [
      "\u001b[1;31m---------------------------------------------------------------------------\u001b[0m",
      "\u001b[1;31mNameError\u001b[0m                                 Traceback (most recent call last)",
      "Cell \u001b[1;32mIn[42], line 2\u001b[0m\n\u001b[0;32m      1\u001b[0m \u001b[38;5;66;03m##Δημιουργεί ένα διάγραμμα κατανομής των καταλοίπων του μοντέλου που δείχνει πως κατανέμονται οι τιμές τους δημιουργώντας, επιπλέον, ένα ιστόγραμμα κάτω από την καμπύλη κατανομής \u001b[39;00m\n\u001b[1;32m----> 2\u001b[0m sns\u001b[38;5;241m.\u001b[39mdisplot(x\u001b[38;5;241m=\u001b[39m\u001b[43mmodel\u001b[49m\u001b[38;5;241m.\u001b[39mresid, kde\u001b[38;5;241m=\u001b[39m\u001b[38;5;28;01mTrue\u001b[39;00m);\n",
      "\u001b[1;31mNameError\u001b[0m: name 'model' is not defined"
     ]
    }
   ],
   "source": [
    "##Δημιουργεί ένα διάγραμμα κατανομής των καταλοίπων του μοντέλου που δείχνει πως κατανέμονται οι τιμές τους δημιουργώντας, επιπλέον, ένα ιστόγραμμα κάτω από την καμπύλη κατανομής \n",
    "sns.displot(x=model.resid, kde=True);"
   ]
  },
  {
   "cell_type": "code",
   "execution_count": 43,
   "id": "cf4bbda4e5f9771f",
   "metadata": {
    "tags": []
   },
   "outputs": [
    {
     "ename": "NameError",
     "evalue": "name 'model' is not defined",
     "output_type": "error",
     "traceback": [
      "\u001b[1;31m---------------------------------------------------------------------------\u001b[0m",
      "\u001b[1;31mNameError\u001b[0m                                 Traceback (most recent call last)",
      "Cell \u001b[1;32mIn[43], line 2\u001b[0m\n\u001b[0;32m      1\u001b[0m \u001b[38;5;66;03m#Δημιουργεί ένα γράφημα αθροιστικής κατανομής των καταλοίπων του μοντέλου που δείχνει πως κατανέμονται οι τιμές τους\u001b[39;00m\n\u001b[1;32m----> 2\u001b[0m sns\u001b[38;5;241m.\u001b[39mdisplot(x\u001b[38;5;241m=\u001b[39m\u001b[43mmodel\u001b[49m\u001b[38;5;241m.\u001b[39mresid, kind\u001b[38;5;241m=\u001b[39m\u001b[38;5;124m\"\u001b[39m\u001b[38;5;124mecdf\u001b[39m\u001b[38;5;124m\"\u001b[39m, rug\u001b[38;5;241m=\u001b[39m\u001b[38;5;28;01mTrue\u001b[39;00m);\n",
      "\u001b[1;31mNameError\u001b[0m: name 'model' is not defined"
     ]
    }
   ],
   "source": [
    "\n",
    "#Δημιουργεί ένα γράφημα αθροιστικής κατανομής των καταλοίπων του μοντέλου που δείχνει πως κατανέμονται οι τιμές τους\n",
    "sns.displot(x=model.resid, kind=\"ecdf\", rug=True);"
   ]
  },
  {
   "cell_type": "code",
   "execution_count": 44,
   "id": "be763e4df265f8bf",
   "metadata": {
    "tags": []
   },
   "outputs": [
    {
     "ename": "NameError",
     "evalue": "name 'y' is not defined",
     "output_type": "error",
     "traceback": [
      "\u001b[1;31m---------------------------------------------------------------------------\u001b[0m",
      "\u001b[1;31mNameError\u001b[0m                                 Traceback (most recent call last)",
      "Cell \u001b[1;32mIn[44], line 2\u001b[0m\n\u001b[0;32m      1\u001b[0m \u001b[38;5;66;03m#Δημιουργεί ένα γράφημα αθροιστικής κατανομής των καταλοίπων του μοντέλου που δείχνει πως κατανέμονται οι τιμές τους χρησιμοποιώντας ευθείες αντί για συνεχή γραμμή\u001b[39;00m\n\u001b[1;32m----> 2\u001b[0m sns\u001b[38;5;241m.\u001b[39mdisplot(x\u001b[38;5;241m=\u001b[39m\u001b[43my\u001b[49m, kind\u001b[38;5;241m=\u001b[39m\u001b[38;5;124m\"\u001b[39m\u001b[38;5;124mecdf\u001b[39m\u001b[38;5;124m\"\u001b[39m,  rug\u001b[38;5;241m=\u001b[39m\u001b[38;5;28;01mTrue\u001b[39;00m);\n",
      "\u001b[1;31mNameError\u001b[0m: name 'y' is not defined"
     ]
    }
   ],
   "source": [
    "#Δημιουργεί ένα γράφημα αθροιστικής κατανομής των καταλοίπων του μοντέλου που δείχνει πως κατανέμονται οι τιμές τους χρησιμοποιώντας ευθείες αντί για συνεχή γραμμή\n",
    "sns.displot(x=y, kind=\"ecdf\",  rug=True);"
   ]
  },
  {
   "cell_type": "code",
   "execution_count": 45,
   "id": "2909e7d37cf6843e",
   "metadata": {
    "tags": []
   },
   "outputs": [
    {
     "ename": "NameError",
     "evalue": "name 'compare_pred_df' is not defined",
     "output_type": "error",
     "traceback": [
      "\u001b[1;31m---------------------------------------------------------------------------\u001b[0m",
      "\u001b[1;31mNameError\u001b[0m                                 Traceback (most recent call last)",
      "Cell \u001b[1;32mIn[45], line 2\u001b[0m\n\u001b[0;32m      1\u001b[0m \u001b[38;5;66;03m# Μετατρέπει τα 'actual_y' και 'y_hat' σε αριθμητικές τιμές από αλφαριθμητικές\u001b[39;00m\n\u001b[1;32m----> 2\u001b[0m compare_pred_df[\u001b[38;5;124m'\u001b[39m\u001b[38;5;124mactual_y\u001b[39m\u001b[38;5;124m'\u001b[39m] \u001b[38;5;241m=\u001b[39m pd\u001b[38;5;241m.\u001b[39mto_numeric(\u001b[43mcompare_pred_df\u001b[49m[\u001b[38;5;124m'\u001b[39m\u001b[38;5;124mactual_y\u001b[39m\u001b[38;5;124m'\u001b[39m])\n\u001b[0;32m      3\u001b[0m compare_pred_df[\u001b[38;5;124m'\u001b[39m\u001b[38;5;124my_hat\u001b[39m\u001b[38;5;124m'\u001b[39m] \u001b[38;5;241m=\u001b[39m pd\u001b[38;5;241m.\u001b[39mto_numeric(compare_pred_df[\u001b[38;5;124m'\u001b[39m\u001b[38;5;124my_hat\u001b[39m\u001b[38;5;124m'\u001b[39m])\n\u001b[0;32m      5\u001b[0m \u001b[38;5;66;03m# Δημιουργεί ένα γράφημα διασποράς μεταξύ των πραγματικών τιμών και των προβλεπόμενων τιμών του y με την ένταξη της γραμμής της ευθείας παλινδρόμησης στο γράφημα\u001b[39;00m\n",
      "\u001b[1;31mNameError\u001b[0m: name 'compare_pred_df' is not defined"
     ]
    }
   ],
   "source": [
    "# Μετατρέπει τα 'actual_y' και 'y_hat' σε αριθμητικές τιμές από αλφαριθμητικές\n",
    "compare_pred_df['actual_y'] = pd.to_numeric(compare_pred_df['actual_y'])\n",
    "compare_pred_df['y_hat'] = pd.to_numeric(compare_pred_df['y_hat'])\n",
    "\n",
    "# Δημιουργεί ένα γράφημα διασποράς μεταξύ των πραγματικών τιμών και των προβλεπόμενων τιμών του y με την ένταξη της γραμμής της ευθείας παλινδρόμησης στο γράφημα\n",
    "sns.lmplot(x=\"actual_y\", y=\"y_hat\", data=compare_pred_df)"
   ]
  },
  {
   "cell_type": "code",
   "execution_count": 46,
   "id": "d4701bf6d8c1582a",
   "metadata": {
    "tags": []
   },
   "outputs": [
    {
     "ename": "NameError",
     "evalue": "name 'y' is not defined",
     "output_type": "error",
     "traceback": [
      "\u001b[1;31m---------------------------------------------------------------------------\u001b[0m",
      "\u001b[1;31mNameError\u001b[0m                                 Traceback (most recent call last)",
      "Cell \u001b[1;32mIn[46], line 2\u001b[0m\n\u001b[0;32m      1\u001b[0m \u001b[38;5;66;03m#Μετατρέπει το 'y' σε αριθμητικές τιμές από αλφαριθμητικές\u001b[39;00m\n\u001b[1;32m----> 2\u001b[0m y \u001b[38;5;241m=\u001b[39m pd\u001b[38;5;241m.\u001b[39mto_numeric(\u001b[43my\u001b[49m, errors\u001b[38;5;241m=\u001b[39m\u001b[38;5;124m'\u001b[39m\u001b[38;5;124mcoerce\u001b[39m\u001b[38;5;124m'\u001b[39m)\n\u001b[0;32m      4\u001b[0m \u001b[38;5;66;03m# Δημιουργεί το διάγραμμα κατανομής πιθανότητας της εξαρτημένης μεταβλητής TenYearCHD\u001b[39;00m\n\u001b[0;32m      5\u001b[0m sns\u001b[38;5;241m.\u001b[39mdisplot(x\u001b[38;5;241m=\u001b[39my, kind\u001b[38;5;241m=\u001b[39m\u001b[38;5;124m\"\u001b[39m\u001b[38;5;124mkde\u001b[39m\u001b[38;5;124m\"\u001b[39m)\n",
      "\u001b[1;31mNameError\u001b[0m: name 'y' is not defined"
     ]
    }
   ],
   "source": [
    "#Μετατρέπει το 'y' σε αριθμητικές τιμές από αλφαριθμητικές\n",
    "y = pd.to_numeric(y, errors='coerce')\n",
    "\n",
    "# Δημιουργεί το διάγραμμα κατανομής πιθανότητας της εξαρτημένης μεταβλητής TenYearCHD\n",
    "sns.displot(x=y, kind=\"kde\")\n",
    "plt.show()"
   ]
  },
  {
   "cell_type": "markdown",
   "id": "76229f835c25e7e0",
   "metadata": {},
   "source": [
    "# <span style=\"color:cyan\">ΑΦΑΙΡΕΣΗ ΜΗ ΣΤΑΤΙΣΤΙΚΑ ΣΗΜΑΝΤΙΚΩΝ ΜΕΤΑΒΛΗΤΩΝ ΑΠΟ ΤΟ ΜΟΝΤΕΛΟ\n"
   ]
  },
  {
   "cell_type": "code",
   "execution_count": 47,
   "id": "26459c2da74a9132",
   "metadata": {
    "tags": []
   },
   "outputs": [
    {
     "ename": "NameError",
     "evalue": "name 'df' is not defined",
     "output_type": "error",
     "traceback": [
      "\u001b[1;31m---------------------------------------------------------------------------\u001b[0m",
      "\u001b[1;31mNameError\u001b[0m                                 Traceback (most recent call last)",
      "Cell \u001b[1;32mIn[47], line 2\u001b[0m\n\u001b[0;32m      1\u001b[0m \u001b[38;5;66;03m# Επαναπροσδιορισμός του μοντέλου με τις σημαντικότερες μεταβλητές\u001b[39;00m\n\u001b[1;32m----> 2\u001b[0m X \u001b[38;5;241m=\u001b[39m \u001b[43mdf\u001b[49m[[\u001b[38;5;124m'\u001b[39m\u001b[38;5;124mEducation\u001b[39m\u001b[38;5;124m'\u001b[39m,\u001b[38;5;124m'\u001b[39m\u001b[38;5;124mApplicantIncome\u001b[39m\u001b[38;5;124m'\u001b[39m,\u001b[38;5;124m'\u001b[39m\u001b[38;5;124mCoapplicantIncome\u001b[39m\u001b[38;5;124m'\u001b[39m,\u001b[38;5;124m'\u001b[39m\u001b[38;5;124mLoan_Amount_Term\u001b[39m\u001b[38;5;124m'\u001b[39m]]\n\u001b[0;32m      3\u001b[0m X \u001b[38;5;241m=\u001b[39m sm\u001b[38;5;241m.\u001b[39madd_constant(X)\n\u001b[0;32m      5\u001b[0m \u001b[38;5;66;03m# Δημιουργία του μοντέλου πολλαπλής γραμμικής παλινδρόμησης\u001b[39;00m\n",
      "\u001b[1;31mNameError\u001b[0m: name 'df' is not defined"
     ]
    }
   ],
   "source": [
    "# Επαναπροσδιορισμός του μοντέλου με τις σημαντικότερες μεταβλητές\n",
    "X = df[['Education','ApplicantIncome','CoapplicantIncome','Loan_Amount_Term']]\n",
    "X = sm.add_constant(X)\n",
    "\n",
    "# Δημιουργία του μοντέλου πολλαπλής γραμμικής παλινδρόμησης\n",
    "ols_results = sm.OLS(y, X).fit()\n",
    "ols_results.summary()"
   ]
  },
  {
   "cell_type": "markdown",
   "id": "99d7d2dbeb72c08",
   "metadata": {},
   "source": [
    "# <span style=\"color:cyan\">ΚΑΘΟΡΙΣΜΟΣ ΑΚΡΙΒΕΙΑΣ ΤΟΥ ΜΟΝΤΕΛΟΥ"
   ]
  },
  {
   "cell_type": "code",
   "execution_count": 48,
   "id": "965bc59d245b5921",
   "metadata": {
    "tags": []
   },
   "outputs": [],
   "source": [
    "#Καθορισμός ακριβείας του μοντέλου\n",
    "pd.set_option(\"display.precision\", 2)"
   ]
  },
  {
   "cell_type": "markdown",
   "id": "d470131c4d7360a0",
   "metadata": {},
   "source": [
    "# <span style=\"color:cyan\">ΕΙΣΑΓΩΓΗ ΚΑΙ ΕΠΕΞΕΡΓΑΣΙΑ ΤΟΥ ΑΡΧΕΙΟΥ ΠΟΥ ΕΙΝΑΙ ΑΠΑΡΑΙΤΗΤΟ ΓΙΑ ΤΗΝ ΕΚΤΕΛΕΣΗ ΤΟΥ ΑΛΓΟΡΙΘΜΟΥ"
   ]
  },
  {
   "cell_type": "code",
   "execution_count": 49,
   "id": "cb913b645772c8db",
   "metadata": {
    "ExecuteTime": {
     "end_time": "2024-06-20T17:50:00.854629Z",
     "start_time": "2024-06-20T17:50:00.836220Z"
    },
    "tags": []
   },
   "outputs": [
    {
     "name": "stdout",
     "output_type": "stream",
     "text": [
      "  Gender Married Dependents     Education Self_Employed  ApplicantIncome  \\\n",
      "0   Male     Yes          0      Graduate            No             5720   \n",
      "1   Male     Yes          1      Graduate            No             3076   \n",
      "2   Male     Yes          2      Graduate            No             5000   \n",
      "3   Male     Yes          2      Graduate            No             2340   \n",
      "4   Male      No          0  Not Graduate            No             3276   \n",
      "\n",
      "   CoapplicantIncome  LoanAmount  Loan_Amount_Term  Credit_History  \\\n",
      "0                  0       110.0             360.0             1.0   \n",
      "1               1500       126.0             360.0             1.0   \n",
      "2               1800       208.0             360.0             1.0   \n",
      "3               2546       100.0             360.0             NaN   \n",
      "4                  0        78.0             360.0             1.0   \n",
      "\n",
      "  Property_Area  \n",
      "0         Urban  \n",
      "1         Urban  \n",
      "2         Urban  \n",
      "3         Urban  \n",
      "4         Urban  \n"
     ]
    }
   ],
   "source": [
    "#Αναγνώριση του αρχείου και εισαγωγή του στο πρόγραμμα\n",
    "df = pd.read_csv('data/loan_sanction_test.csv')\n",
    "\n",
    "df = df.drop('Loan_ID', axis=1)\n",
    "\n",
    "#Δημιουργία DataFrame\n",
    "df.head() \n",
    "\n",
    "#Δίνει την εκτύπωση των πέντε πρώτων στηλών των δεδομένων\n",
    "print(df.head())"
   ]
  },
  {
   "cell_type": "markdown",
   "id": "c8aafe9e116175e7",
   "metadata": {},
   "source": [
    "# <span style=\"color:cyan\">ΕΠΕΞΕΡΓΑΣΙΑ ΤΟΥ DATASET ΚΑΙ ΕΚΑΘΑΡΙΣΜΟΣ ΤΩΝ ΤΙΜΩΝ ΠΟΥ ΤΕΙΝΟΥΝ ΣΤΟ ΑΠΕΙΡΟ ΚΑΙ ΤΩΝ ΤΙΜΩΝ NaN"
   ]
  },
  {
   "cell_type": "code",
   "execution_count": 50,
   "id": "d328b81fd9f5c00",
   "metadata": {
    "ExecuteTime": {
     "end_time": "2024-06-20T17:52:28.489932Z",
     "start_time": "2024-06-20T17:52:28.467132Z"
    },
    "tags": []
   },
   "outputs": [
    {
     "name": "stderr",
     "output_type": "stream",
     "text": [
      "C:\\Users\\Λεωνίδας\\AppData\\Local\\Temp\\ipykernel_17028\\2649523111.py:2: FutureWarning: A value is trying to be set on a copy of a DataFrame or Series through chained assignment using an inplace method.\n",
      "The behavior will change in pandas 3.0. This inplace method will never work because the intermediate object on which we are setting values always behaves as a copy.\n",
      "\n",
      "For example, when doing 'df[col].method(value, inplace=True)', try using 'df.method({col: value}, inplace=True)' or df[col] = df[col].method(value) instead, to perform the operation inplace on the original object.\n",
      "\n",
      "\n",
      "  df['Gender'].replace({'Male': 0, 'Female': 1}, inplace=True)\n",
      "C:\\Users\\Λεωνίδας\\AppData\\Local\\Temp\\ipykernel_17028\\2649523111.py:2: FutureWarning: Downcasting behavior in `replace` is deprecated and will be removed in a future version. To retain the old behavior, explicitly call `result.infer_objects(copy=False)`. To opt-in to the future behavior, set `pd.set_option('future.no_silent_downcasting', True)`\n",
      "  df['Gender'].replace({'Male': 0, 'Female': 1}, inplace=True)\n",
      "C:\\Users\\Λεωνίδας\\AppData\\Local\\Temp\\ipykernel_17028\\2649523111.py:3: FutureWarning: A value is trying to be set on a copy of a DataFrame or Series through chained assignment using an inplace method.\n",
      "The behavior will change in pandas 3.0. This inplace method will never work because the intermediate object on which we are setting values always behaves as a copy.\n",
      "\n",
      "For example, when doing 'df[col].method(value, inplace=True)', try using 'df.method({col: value}, inplace=True)' or df[col] = df[col].method(value) instead, to perform the operation inplace on the original object.\n",
      "\n",
      "\n",
      "  df['Married'].replace({'No': 0, 'Yes': 1}, inplace=True)\n",
      "C:\\Users\\Λεωνίδας\\AppData\\Local\\Temp\\ipykernel_17028\\2649523111.py:3: FutureWarning: Downcasting behavior in `replace` is deprecated and will be removed in a future version. To retain the old behavior, explicitly call `result.infer_objects(copy=False)`. To opt-in to the future behavior, set `pd.set_option('future.no_silent_downcasting', True)`\n",
      "  df['Married'].replace({'No': 0, 'Yes': 1}, inplace=True)\n",
      "C:\\Users\\Λεωνίδας\\AppData\\Local\\Temp\\ipykernel_17028\\2649523111.py:4: FutureWarning: A value is trying to be set on a copy of a DataFrame or Series through chained assignment using an inplace method.\n",
      "The behavior will change in pandas 3.0. This inplace method will never work because the intermediate object on which we are setting values always behaves as a copy.\n",
      "\n",
      "For example, when doing 'df[col].method(value, inplace=True)', try using 'df.method({col: value}, inplace=True)' or df[col] = df[col].method(value) instead, to perform the operation inplace on the original object.\n",
      "\n",
      "\n",
      "  df['Dependents'].replace({'0': 0, '1': 1, '2': 2, '3+': 3}, inplace=True)\n",
      "C:\\Users\\Λεωνίδας\\AppData\\Local\\Temp\\ipykernel_17028\\2649523111.py:4: FutureWarning: Downcasting behavior in `replace` is deprecated and will be removed in a future version. To retain the old behavior, explicitly call `result.infer_objects(copy=False)`. To opt-in to the future behavior, set `pd.set_option('future.no_silent_downcasting', True)`\n",
      "  df['Dependents'].replace({'0': 0, '1': 1, '2': 2, '3+': 3}, inplace=True)\n",
      "C:\\Users\\Λεωνίδας\\AppData\\Local\\Temp\\ipykernel_17028\\2649523111.py:5: FutureWarning: A value is trying to be set on a copy of a DataFrame or Series through chained assignment using an inplace method.\n",
      "The behavior will change in pandas 3.0. This inplace method will never work because the intermediate object on which we are setting values always behaves as a copy.\n",
      "\n",
      "For example, when doing 'df[col].method(value, inplace=True)', try using 'df.method({col: value}, inplace=True)' or df[col] = df[col].method(value) instead, to perform the operation inplace on the original object.\n",
      "\n",
      "\n",
      "  df['Education'].replace({'Not Graduate': 0, 'Graduate': 1}, inplace=True)\n",
      "C:\\Users\\Λεωνίδας\\AppData\\Local\\Temp\\ipykernel_17028\\2649523111.py:5: FutureWarning: Downcasting behavior in `replace` is deprecated and will be removed in a future version. To retain the old behavior, explicitly call `result.infer_objects(copy=False)`. To opt-in to the future behavior, set `pd.set_option('future.no_silent_downcasting', True)`\n",
      "  df['Education'].replace({'Not Graduate': 0, 'Graduate': 1}, inplace=True)\n",
      "C:\\Users\\Λεωνίδας\\AppData\\Local\\Temp\\ipykernel_17028\\2649523111.py:6: FutureWarning: A value is trying to be set on a copy of a DataFrame or Series through chained assignment using an inplace method.\n",
      "The behavior will change in pandas 3.0. This inplace method will never work because the intermediate object on which we are setting values always behaves as a copy.\n",
      "\n",
      "For example, when doing 'df[col].method(value, inplace=True)', try using 'df.method({col: value}, inplace=True)' or df[col] = df[col].method(value) instead, to perform the operation inplace on the original object.\n",
      "\n",
      "\n",
      "  df['Self_Employed'].replace({'No': 0, 'Yes': 1}, inplace=True)\n",
      "C:\\Users\\Λεωνίδας\\AppData\\Local\\Temp\\ipykernel_17028\\2649523111.py:6: FutureWarning: Downcasting behavior in `replace` is deprecated and will be removed in a future version. To retain the old behavior, explicitly call `result.infer_objects(copy=False)`. To opt-in to the future behavior, set `pd.set_option('future.no_silent_downcasting', True)`\n",
      "  df['Self_Employed'].replace({'No': 0, 'Yes': 1}, inplace=True)\n",
      "C:\\Users\\Λεωνίδας\\AppData\\Local\\Temp\\ipykernel_17028\\2649523111.py:7: FutureWarning: A value is trying to be set on a copy of a DataFrame or Series through chained assignment using an inplace method.\n",
      "The behavior will change in pandas 3.0. This inplace method will never work because the intermediate object on which we are setting values always behaves as a copy.\n",
      "\n",
      "For example, when doing 'df[col].method(value, inplace=True)', try using 'df.method({col: value}, inplace=True)' or df[col] = df[col].method(value) instead, to perform the operation inplace on the original object.\n",
      "\n",
      "\n",
      "  df['Property_Area'].replace({'Urban': 0, 'Semiurban': 1, 'Rural': 2}, inplace=True)\n",
      "C:\\Users\\Λεωνίδας\\AppData\\Local\\Temp\\ipykernel_17028\\2649523111.py:7: FutureWarning: Downcasting behavior in `replace` is deprecated and will be removed in a future version. To retain the old behavior, explicitly call `result.infer_objects(copy=False)`. To opt-in to the future behavior, set `pd.set_option('future.no_silent_downcasting', True)`\n",
      "  df['Property_Area'].replace({'Urban': 0, 'Semiurban': 1, 'Rural': 2}, inplace=True)\n"
     ]
    }
   ],
   "source": [
    "# Αντικατάσταση των τιμών των κατηγορικών μεταβλητών με αριθμούς\n",
    "df['Gender'].replace({'Male': 0, 'Female': 1}, inplace=True)\n",
    "df['Married'].replace({'No': 0, 'Yes': 1}, inplace=True)\n",
    "df['Dependents'].replace({'0': 0, '1': 1, '2': 2, '3+': 3}, inplace=True)\n",
    "df['Education'].replace({'Not Graduate': 0, 'Graduate': 1}, inplace=True)\n",
    "df['Self_Employed'].replace({'No': 0, 'Yes': 1}, inplace=True)\n",
    "df['Property_Area'].replace({'Urban': 0, 'Semiurban': 1, 'Rural': 2}, inplace=True)"
   ]
  },
  {
   "cell_type": "code",
   "execution_count": 51,
   "id": "2e29e6f8b4b21361",
   "metadata": {
    "ExecuteTime": {
     "end_time": "2024-06-20T17:52:29.820290Z",
     "start_time": "2024-06-20T17:52:29.799314Z"
    },
    "tags": []
   },
   "outputs": [],
   "source": [
    "# Ελέγχει αν υπάρχουν τιμές στο dataset που τείνουν στο άπειρο\n",
    "if np.any(np.isinf(df)):\n",
    "    print(\"Data contains infinite values. Replacing them with NaN.\")\n",
    "    df.replace([np.inf, -np.inf], np.nan, inplace=True)"
   ]
  },
  {
   "cell_type": "code",
   "execution_count": 52,
   "id": "489eb961cc324601",
   "metadata": {
    "ExecuteTime": {
     "end_time": "2024-06-20T17:52:30.614878Z",
     "start_time": "2024-06-20T17:52:30.594003Z"
    },
    "tags": []
   },
   "outputs": [
    {
     "name": "stdout",
     "output_type": "stream",
     "text": [
      "Data contains NaN values. Please handle missing data before proceeding.\n"
     ]
    }
   ],
   "source": [
    "# Ελέγχει αν υπάρχουν τιμές NaN στο dataset. \n",
    "# Αν τρέξω την εντολή πριν από την παρουσίαση των δεδομένων που βρίσκεται στη συνέχεια η παρουσίαση θα γίνει χωρίς αυτές τις τιμές. Καλό θα ήταν η εντολή να τρέξει μετά την παρουσίαση των δεδομένων ώστε να μπορούν να τρέξουν και τα μοντέλα.\n",
    "if df.isnull().values.any():\n",
    "    print(\"Data contains NaN values. Please handle missing data before proceeding.\")\n",
    "    df.dropna(inplace=True)"
   ]
  },
  {
   "cell_type": "markdown",
   "id": "451777d6e7438603",
   "metadata": {},
   "source": [
    "# <span style=\"color:cyan\">ΟΡΙΣΜΟΣ ΜΕΤΑΒΛΗΤΩΝ ΠΟΥ ΘΑ ΧΡΗΣΙΜΟΠΟΙΗΘΟΥΝ ΣΤΑ ΜΟΝΤΕΛΑ"
   ]
  },
  {
   "cell_type": "code",
   "execution_count": 53,
   "id": "426c378c5eeffadf",
   "metadata": {
    "ExecuteTime": {
     "end_time": "2024-06-20T17:53:29.659163Z",
     "start_time": "2024-06-20T17:53:29.637013Z"
    },
    "tags": []
   },
   "outputs": [
    {
     "data": {
      "text/html": [
       "<div>\n",
       "<style scoped>\n",
       "    .dataframe tbody tr th:only-of-type {\n",
       "        vertical-align: middle;\n",
       "    }\n",
       "\n",
       "    .dataframe tbody tr th {\n",
       "        vertical-align: top;\n",
       "    }\n",
       "\n",
       "    .dataframe thead th {\n",
       "        text-align: right;\n",
       "    }\n",
       "</style>\n",
       "<table border=\"1\" class=\"dataframe\">\n",
       "  <thead>\n",
       "    <tr style=\"text-align: right;\">\n",
       "      <th></th>\n",
       "      <th>Gender</th>\n",
       "      <th>Married</th>\n",
       "      <th>Dependents</th>\n",
       "      <th>Education</th>\n",
       "      <th>ApplicantIncome</th>\n",
       "      <th>CoapplicantIncome</th>\n",
       "      <th>LoanAmount</th>\n",
       "      <th>Loan_Amount_Term</th>\n",
       "      <th>Credit_History</th>\n",
       "      <th>Property_Area</th>\n",
       "    </tr>\n",
       "  </thead>\n",
       "  <tbody>\n",
       "    <tr>\n",
       "      <th>0</th>\n",
       "      <td>0.0</td>\n",
       "      <td>1</td>\n",
       "      <td>0.0</td>\n",
       "      <td>1</td>\n",
       "      <td>5720</td>\n",
       "      <td>0</td>\n",
       "      <td>110.0</td>\n",
       "      <td>360.0</td>\n",
       "      <td>1.0</td>\n",
       "      <td>0</td>\n",
       "    </tr>\n",
       "    <tr>\n",
       "      <th>1</th>\n",
       "      <td>0.0</td>\n",
       "      <td>1</td>\n",
       "      <td>1.0</td>\n",
       "      <td>1</td>\n",
       "      <td>3076</td>\n",
       "      <td>1500</td>\n",
       "      <td>126.0</td>\n",
       "      <td>360.0</td>\n",
       "      <td>1.0</td>\n",
       "      <td>0</td>\n",
       "    </tr>\n",
       "    <tr>\n",
       "      <th>2</th>\n",
       "      <td>0.0</td>\n",
       "      <td>1</td>\n",
       "      <td>2.0</td>\n",
       "      <td>1</td>\n",
       "      <td>5000</td>\n",
       "      <td>1800</td>\n",
       "      <td>208.0</td>\n",
       "      <td>360.0</td>\n",
       "      <td>1.0</td>\n",
       "      <td>0</td>\n",
       "    </tr>\n",
       "    <tr>\n",
       "      <th>4</th>\n",
       "      <td>0.0</td>\n",
       "      <td>0</td>\n",
       "      <td>0.0</td>\n",
       "      <td>0</td>\n",
       "      <td>3276</td>\n",
       "      <td>0</td>\n",
       "      <td>78.0</td>\n",
       "      <td>360.0</td>\n",
       "      <td>1.0</td>\n",
       "      <td>0</td>\n",
       "    </tr>\n",
       "    <tr>\n",
       "      <th>5</th>\n",
       "      <td>0.0</td>\n",
       "      <td>1</td>\n",
       "      <td>0.0</td>\n",
       "      <td>0</td>\n",
       "      <td>2165</td>\n",
       "      <td>3422</td>\n",
       "      <td>152.0</td>\n",
       "      <td>360.0</td>\n",
       "      <td>1.0</td>\n",
       "      <td>0</td>\n",
       "    </tr>\n",
       "  </tbody>\n",
       "</table>\n",
       "</div>"
      ],
      "text/plain": [
       "   Gender  Married  Dependents  Education  ApplicantIncome  CoapplicantIncome  \\\n",
       "0     0.0        1         0.0          1             5720                  0   \n",
       "1     0.0        1         1.0          1             3076               1500   \n",
       "2     0.0        1         2.0          1             5000               1800   \n",
       "4     0.0        0         0.0          0             3276                  0   \n",
       "5     0.0        1         0.0          0             2165               3422   \n",
       "\n",
       "   LoanAmount  Loan_Amount_Term  Credit_History  Property_Area  \n",
       "0       110.0             360.0             1.0              0  \n",
       "1       126.0             360.0             1.0              0  \n",
       "2       208.0             360.0             1.0              0  \n",
       "4        78.0             360.0             1.0              0  \n",
       "5       152.0             360.0             1.0              0  "
      ]
     },
     "execution_count": 53,
     "metadata": {},
     "output_type": "execute_result"
    }
   ],
   "source": [
    "# Ορίζω όλες τις στήλες εκτός από την τελευταία ως χαρακτηριστικά \n",
    "X = df.drop('Self_Employed', axis=1)\n",
    "X.head(5)"
   ]
  },
  {
   "cell_type": "code",
   "execution_count": 54,
   "id": "952dcf78ac4f51a3",
   "metadata": {
    "ExecuteTime": {
     "end_time": "2024-06-20T17:53:30.642326Z",
     "start_time": "2024-06-20T17:53:30.632324Z"
    },
    "tags": []
   },
   "outputs": [
    {
     "data": {
      "text/plain": [
       "(289, 10)"
      ]
     },
     "execution_count": 54,
     "metadata": {},
     "output_type": "execute_result"
    }
   ],
   "source": [
    "#Παίρνω το συνολικό αριθμό των γραμμών και των στηλών των ανεξάρτητων μεταβλητών X του dataset\n",
    "X.shape"
   ]
  },
  {
   "cell_type": "code",
   "execution_count": 55,
   "id": "33bf08faea08913d",
   "metadata": {
    "ExecuteTime": {
     "end_time": "2024-06-20T17:53:31.126032Z",
     "start_time": "2024-06-20T17:53:31.111579Z"
    },
    "tags": []
   },
   "outputs": [
    {
     "data": {
      "text/plain": [
       "0    0.0\n",
       "1    0.0\n",
       "2    0.0\n",
       "4    0.0\n",
       "5    1.0\n",
       "Name: Self_Employed, dtype: float64"
      ]
     },
     "execution_count": 55,
     "metadata": {},
     "output_type": "execute_result"
    }
   ],
   "source": [
    "#Θέτω την τελευταία στήλη του dataset ως την εξαρτημένη μεταβλητή Y και φέρνω τις πρώτες πέντε γραμμές\n",
    "y = df['Self_Employed']\n",
    "y.head(5)"
   ]
  },
  {
   "cell_type": "code",
   "execution_count": 56,
   "id": "a16621ad60830731",
   "metadata": {
    "ExecuteTime": {
     "end_time": "2024-06-20T17:53:31.714219Z",
     "start_time": "2024-06-20T17:53:31.705881Z"
    },
    "tags": []
   },
   "outputs": [
    {
     "data": {
      "text/plain": [
       "pandas.core.series.Series"
      ]
     },
     "execution_count": 56,
     "metadata": {},
     "output_type": "execute_result"
    }
   ],
   "source": [
    "#Δίνει τον τύπο δεδομένων της εξαρτημένης μεταβλητής Υ ως αντικείμενο κλάσης\n",
    "type(y)"
   ]
  },
  {
   "cell_type": "markdown",
   "id": "e931300cc20cccc4",
   "metadata": {},
   "source": [
    "# <span style=\"color:cyan\">ΛΟΓΙΣΤΙΚΗ ΠΑΛΙΝΔΡΟΜΗΣΗ (PINGOUIN)"
   ]
  },
  {
   "cell_type": "code",
   "execution_count": 57,
   "id": "ccfa477f290ac3de",
   "metadata": {
    "ExecuteTime": {
     "end_time": "2024-06-20T17:53:32.299725Z",
     "start_time": "2024-06-20T17:53:32.294968Z"
    },
    "tags": []
   },
   "outputs": [],
   "source": [
    "# Μετατροπή των τιμών των στηλών του dataset σε float\n",
    "data = df.astype(float)  "
   ]
  },
  {
   "cell_type": "code",
   "execution_count": 58,
   "id": "9c34c0062eeea52f",
   "metadata": {
    "ExecuteTime": {
     "end_time": "2024-06-20T17:53:32.802529Z",
     "start_time": "2024-06-20T17:53:32.792714Z"
    },
    "tags": []
   },
   "outputs": [],
   "source": [
    "#Διαχωρισμός των δεδομένων σε χαρακτηριστικά (Independent Variables) και target variable (Dependent Variable)\n",
    "X = data.drop('Self_Employed', axis=1)\n",
    "y = data['Self_Employed']"
   ]
  },
  {
   "cell_type": "code",
   "execution_count": 59,
   "id": "1b8993d1dab0ae40",
   "metadata": {
    "ExecuteTime": {
     "end_time": "2024-06-20T17:53:33.157397Z",
     "start_time": "2024-06-20T17:53:33.146517Z"
    },
    "tags": []
   },
   "outputs": [
    {
     "ename": "NameError",
     "evalue": "name 'train_test_split' is not defined",
     "output_type": "error",
     "traceback": [
      "\u001b[1;31m---------------------------------------------------------------------------\u001b[0m",
      "\u001b[1;31mNameError\u001b[0m                                 Traceback (most recent call last)",
      "Cell \u001b[1;32mIn[59], line 2\u001b[0m\n\u001b[0;32m      1\u001b[0m \u001b[38;5;66;03m#Διαχωρισμός του dataset σε training και testing set με αναλογία 80% - 20%\u001b[39;00m\n\u001b[1;32m----> 2\u001b[0m X_train, X_test, y_train, y_test \u001b[38;5;241m=\u001b[39m \u001b[43mtrain_test_split\u001b[49m(X, y, test_size\u001b[38;5;241m=\u001b[39m\u001b[38;5;241m0.2\u001b[39m, random_state\u001b[38;5;241m=\u001b[39m\u001b[38;5;241m42\u001b[39m)\n",
      "\u001b[1;31mNameError\u001b[0m: name 'train_test_split' is not defined"
     ]
    }
   ],
   "source": [
    "#Διαχωρισμός του dataset σε training και testing set με αναλογία 80% - 20%\n",
    "X_train, X_test, y_train, y_test = train_test_split(X, y, test_size=0.2, random_state=42)"
   ]
  },
  {
   "cell_type": "code",
   "execution_count": 60,
   "id": "b4c06a9c4fc57bc0",
   "metadata": {
    "ExecuteTime": {
     "end_time": "2024-06-20T17:53:33.834427Z",
     "start_time": "2024-06-20T17:53:33.715294Z"
    },
    "tags": []
   },
   "outputs": [
    {
     "ename": "NameError",
     "evalue": "name 'pg' is not defined",
     "output_type": "error",
     "traceback": [
      "\u001b[1;31m---------------------------------------------------------------------------\u001b[0m",
      "\u001b[1;31mNameError\u001b[0m                                 Traceback (most recent call last)",
      "Cell \u001b[1;32mIn[60], line 3\u001b[0m\n\u001b[0;32m      1\u001b[0m \u001b[38;5;66;03m#Δημιουργία και εκπαίδευση του μοντέλου λογιστικής παλινδρόμησης\u001b[39;00m\n\u001b[0;32m      2\u001b[0m y \u001b[38;5;241m=\u001b[39m data[\u001b[38;5;124m'\u001b[39m\u001b[38;5;124mSelf_Employed\u001b[39m\u001b[38;5;124m'\u001b[39m]\n\u001b[1;32m----> 3\u001b[0m lr \u001b[38;5;241m=\u001b[39m \u001b[43mpg\u001b[49m\u001b[38;5;241m.\u001b[39mlogistic_regression(X, y, penalty\u001b[38;5;241m=\u001b[39m\u001b[38;5;124m\"\u001b[39m\u001b[38;5;124ml2\u001b[39m\u001b[38;5;124m\"\u001b[39m )\u001b[38;5;241m.\u001b[39mround(\u001b[38;5;241m3\u001b[39m)\n\u001b[0;32m      4\u001b[0m lr\n",
      "\u001b[1;31mNameError\u001b[0m: name 'pg' is not defined"
     ]
    }
   ],
   "source": [
    "#Δημιουργία και εκπαίδευση του μοντέλου λογιστικής παλινδρόμησης\n",
    "y = data['Self_Employed']\n",
    "lr = pg.logistic_regression(X, y, penalty=\"l2\" ).round(3)\n",
    "lr"
   ]
  },
  {
   "cell_type": "code",
   "execution_count": 61,
   "id": "46ec84e7ce310b30",
   "metadata": {
    "ExecuteTime": {
     "end_time": "2024-06-20T17:53:34.143155Z",
     "start_time": "2024-06-20T17:53:34.012157Z"
    },
    "tags": []
   },
   "outputs": [
    {
     "ename": "NameError",
     "evalue": "name 'pg' is not defined",
     "output_type": "error",
     "traceback": [
      "\u001b[1;31m---------------------------------------------------------------------------\u001b[0m",
      "\u001b[1;31mNameError\u001b[0m                                 Traceback (most recent call last)",
      "Cell \u001b[1;32mIn[61], line 2\u001b[0m\n\u001b[0;32m      1\u001b[0m \u001b[38;5;66;03m#Δίνει τον πίνακα που περιέχει τις τιμές των coefficients του μοντέλου λογιστικής παλινδρόμησης\u001b[39;00m\n\u001b[1;32m----> 2\u001b[0m \u001b[43mpg\u001b[49m\u001b[38;5;241m.\u001b[39mlogistic_regression(X\u001b[38;5;241m.\u001b[39mto_numpy(), y\u001b[38;5;241m.\u001b[39mto_numpy(),penalty\u001b[38;5;241m=\u001b[39m\u001b[38;5;124m\"\u001b[39m\u001b[38;5;124ml2\u001b[39m\u001b[38;5;124m\"\u001b[39m, coef_only\u001b[38;5;241m=\u001b[39m\u001b[38;5;28;01mTrue\u001b[39;00m)\n",
      "\u001b[1;31mNameError\u001b[0m: name 'pg' is not defined"
     ]
    }
   ],
   "source": [
    "#Δίνει τον πίνακα που περιέχει τις τιμές των coefficients του μοντέλου λογιστικής παλινδρόμησης\n",
    "pg.logistic_regression(X.to_numpy(), y.to_numpy(),penalty=\"l2\", coef_only=True)"
   ]
  },
  {
   "cell_type": "markdown",
   "id": "aa36a92882acffd",
   "metadata": {},
   "source": [
    "# <span style=\"color:cyan\">ΠΡΟΓΡΑΜΜΑ ΑΠΟΤΕΛΕΣΜΑΤΙΚΟΤΗΤΑΣ ΤΟΥ ΜΟΝΤΕΛΟΥ"
   ]
  },
  {
   "cell_type": "code",
   "execution_count": 62,
   "id": "94df9a8119031a16",
   "metadata": {
    "ExecuteTime": {
     "end_time": "2024-06-20T17:53:34.908545Z",
     "start_time": "2024-06-20T17:53:34.893212Z"
    },
    "tags": []
   },
   "outputs": [
    {
     "ename": "NameError",
     "evalue": "name 'sm' is not defined",
     "output_type": "error",
     "traceback": [
      "\u001b[1;31m---------------------------------------------------------------------------\u001b[0m",
      "\u001b[1;31mNameError\u001b[0m                                 Traceback (most recent call last)",
      "Cell \u001b[1;32mIn[62], line 4\u001b[0m\n\u001b[0;32m      2\u001b[0m X \u001b[38;5;241m=\u001b[39m df\u001b[38;5;241m.\u001b[39mdrop(\u001b[38;5;124m'\u001b[39m\u001b[38;5;124mSelf_Employed\u001b[39m\u001b[38;5;124m'\u001b[39m, axis\u001b[38;5;241m=\u001b[39m\u001b[38;5;241m1\u001b[39m)\n\u001b[0;32m      3\u001b[0m y \u001b[38;5;241m=\u001b[39m df[\u001b[38;5;124m'\u001b[39m\u001b[38;5;124mSelf_Employed\u001b[39m\u001b[38;5;124m'\u001b[39m]\n\u001b[1;32m----> 4\u001b[0m X \u001b[38;5;241m=\u001b[39m \u001b[43msm\u001b[49m\u001b[38;5;241m.\u001b[39madd_constant(X, prepend\u001b[38;5;241m=\u001b[39m\u001b[38;5;28;01mFalse\u001b[39;00m)\n",
      "\u001b[1;31mNameError\u001b[0m: name 'sm' is not defined"
     ]
    }
   ],
   "source": [
    "##Διαχωρισμός των δεδομένων σε χαρακτηριστικά (Independent Variables) και target variable (Dependent Variable) και ορισμό σταθεράς στο μοντέλο λογιστικής παλινδρόμησης\n",
    "X = df.drop('Self_Employed', axis=1)\n",
    "y = df['Self_Employed']\n",
    "X = sm.add_constant(X, prepend=False)"
   ]
  },
  {
   "cell_type": "code",
   "execution_count": 63,
   "id": "b64b7baf8e1aa365",
   "metadata": {
    "ExecuteTime": {
     "end_time": "2024-06-20T17:53:35.261761Z",
     "start_time": "2024-06-20T17:53:35.245609Z"
    },
    "tags": []
   },
   "outputs": [
    {
     "ename": "NameError",
     "evalue": "name 'sm' is not defined",
     "output_type": "error",
     "traceback": [
      "\u001b[1;31m---------------------------------------------------------------------------\u001b[0m",
      "\u001b[1;31mNameError\u001b[0m                                 Traceback (most recent call last)",
      "Cell \u001b[1;32mIn[63], line 2\u001b[0m\n\u001b[0;32m      1\u001b[0m \u001b[38;5;66;03m#Δημιουργία και εκπαίδευση του μοντέλου λογιστικής παλινδρόμησης\u001b[39;00m\n\u001b[1;32m----> 2\u001b[0m logit_mod \u001b[38;5;241m=\u001b[39m \u001b[43msm\u001b[49m\u001b[38;5;241m.\u001b[39mLogit(y, X)\n\u001b[0;32m      3\u001b[0m logit_res \u001b[38;5;241m=\u001b[39m logit_mod\u001b[38;5;241m.\u001b[39mfit(disp\u001b[38;5;241m=\u001b[39m\u001b[38;5;241m0\u001b[39m)\n\u001b[0;32m      4\u001b[0m \u001b[38;5;28mprint\u001b[39m(\u001b[38;5;124m\"\u001b[39m\u001b[38;5;124mParameters:\u001b[39m\u001b[38;5;130;01m\\n\u001b[39;00m\u001b[38;5;124m\"\u001b[39m,logit_res\u001b[38;5;241m.\u001b[39mparams)\n",
      "\u001b[1;31mNameError\u001b[0m: name 'sm' is not defined"
     ]
    }
   ],
   "source": [
    "#Δημιουργία και εκπαίδευση του μοντέλου λογιστικής παλινδρόμησης\n",
    "logit_mod = sm.Logit(y, X)\n",
    "logit_res = logit_mod.fit(disp=0)\n",
    "print(\"Parameters:\\n\",logit_res.params)"
   ]
  },
  {
   "cell_type": "code",
   "execution_count": 64,
   "id": "5dda076e2ebf85aa",
   "metadata": {
    "ExecuteTime": {
     "end_time": "2024-06-20T17:53:35.696841Z",
     "start_time": "2024-06-20T17:53:35.687704Z"
    },
    "tags": []
   },
   "outputs": [
    {
     "ename": "NameError",
     "evalue": "name 'logit_res' is not defined",
     "output_type": "error",
     "traceback": [
      "\u001b[1;31m---------------------------------------------------------------------------\u001b[0m",
      "\u001b[1;31mNameError\u001b[0m                                 Traceback (most recent call last)",
      "Cell \u001b[1;32mIn[64], line 2\u001b[0m\n\u001b[0;32m      1\u001b[0m \u001b[38;5;66;03m#Δημιουργία ενός Identity Matrix με τις διαστάσεις του πίνακα των παραμέτρων του μοντέλου λογιστικής παλινδρόμησης που παίρνει τιμή 1 σε όλες τις διαγώνιες θέσεις εκτός από την πρώτη και διαλέγει όλες τις γραμμές εκτός της πρώτης\u001b[39;00m\n\u001b[1;32m----> 2\u001b[0m A \u001b[38;5;241m=\u001b[39m np\u001b[38;5;241m.\u001b[39midentity(\u001b[38;5;28mlen\u001b[39m(\u001b[43mlogit_res\u001b[49m\u001b[38;5;241m.\u001b[39mparams))\n\u001b[0;32m      3\u001b[0m A \u001b[38;5;241m=\u001b[39m A[\u001b[38;5;241m1\u001b[39m:,:]\n",
      "\u001b[1;31mNameError\u001b[0m: name 'logit_res' is not defined"
     ]
    }
   ],
   "source": [
    "#Δημιουργία ενός Identity Matrix με τις διαστάσεις του πίνακα των παραμέτρων του μοντέλου λογιστικής παλινδρόμησης που παίρνει τιμή 1 σε όλες τις διαγώνιες θέσεις εκτός από την πρώτη και διαλέγει όλες τις γραμμές εκτός της πρώτης\n",
    "A = np.identity(len(logit_res.params))\n",
    "A = A[1:,:]"
   ]
  },
  {
   "cell_type": "code",
   "execution_count": 65,
   "id": "4d703c839e52c1f7",
   "metadata": {
    "ExecuteTime": {
     "end_time": "2024-06-20T17:53:36.148121Z",
     "start_time": "2024-06-20T17:53:36.136138Z"
    },
    "tags": []
   },
   "outputs": [
    {
     "ename": "NameError",
     "evalue": "name 'logit_res' is not defined",
     "output_type": "error",
     "traceback": [
      "\u001b[1;31m---------------------------------------------------------------------------\u001b[0m",
      "\u001b[1;31mNameError\u001b[0m                                 Traceback (most recent call last)",
      "Cell \u001b[1;32mIn[65], line 2\u001b[0m\n\u001b[0;32m      1\u001b[0m \u001b[38;5;66;03m#Εκτελεί ένα F-test για τον έλεγχο της σημαντικότητας των παραμέτρων του μοντέλου λογιστικής παλινδρόμησης που έχει πάρει ως όρισμα τον πίνακα A. Παίρνουμε το p-value και το F-value του τεστ.\u001b[39;00m\n\u001b[1;32m----> 2\u001b[0m \u001b[43mlogit_res\u001b[49m\u001b[38;5;241m.\u001b[39mf_test(A)\n",
      "\u001b[1;31mNameError\u001b[0m: name 'logit_res' is not defined"
     ]
    }
   ],
   "source": [
    "#Εκτελεί ένα F-test για τον έλεγχο της σημαντικότητας των παραμέτρων του μοντέλου λογιστικής παλινδρόμησης που έχει πάρει ως όρισμα τον πίνακα A. Παίρνουμε το p-value και το F-value του τεστ.\n",
    "logit_res.f_test(A)"
   ]
  },
  {
   "cell_type": "code",
   "execution_count": 66,
   "id": "a3f6c7bf446cc13b",
   "metadata": {
    "ExecuteTime": {
     "end_time": "2024-06-20T17:53:36.504210Z",
     "start_time": "2024-06-20T17:53:36.484086Z"
    },
    "tags": []
   },
   "outputs": [
    {
     "ename": "NameError",
     "evalue": "name 'logit_res' is not defined",
     "output_type": "error",
     "traceback": [
      "\u001b[1;31m---------------------------------------------------------------------------\u001b[0m",
      "\u001b[1;31mNameError\u001b[0m                                 Traceback (most recent call last)",
      "Cell \u001b[1;32mIn[66], line 2\u001b[0m\n\u001b[0;32m      1\u001b[0m \u001b[38;5;66;03m#Δίνει τη μεταβολή της εξαρτημένης μεταβλητής LoanAmount για κάθε μονάδα αύξησης της κάθε ανεξάρτητης μεταβλητής όταν οι άλλες παραμένουν σταθερές\u001b[39;00m\n\u001b[1;32m----> 2\u001b[0m margeff \u001b[38;5;241m=\u001b[39m \u001b[43mlogit_res\u001b[49m\u001b[38;5;241m.\u001b[39mget_margeff()\n\u001b[0;32m      3\u001b[0m \u001b[38;5;28mprint\u001b[39m(margeff\u001b[38;5;241m.\u001b[39msummary())\n",
      "\u001b[1;31mNameError\u001b[0m: name 'logit_res' is not defined"
     ]
    }
   ],
   "source": [
    "#Δίνει τη μεταβολή της εξαρτημένης μεταβλητής LoanAmount για κάθε μονάδα αύξησης της κάθε ανεξάρτητης μεταβλητής όταν οι άλλες παραμένουν σταθερές\n",
    "margeff = logit_res.get_margeff()\n",
    "print(margeff.summary())"
   ]
  },
  {
   "cell_type": "code",
   "execution_count": 67,
   "id": "3502eb8d74f97639",
   "metadata": {
    "ExecuteTime": {
     "end_time": "2024-06-20T17:53:37.146043Z",
     "start_time": "2024-06-20T17:53:37.098024Z"
    },
    "tags": []
   },
   "outputs": [
    {
     "ename": "NameError",
     "evalue": "name 'logit_res' is not defined",
     "output_type": "error",
     "traceback": [
      "\u001b[1;31m---------------------------------------------------------------------------\u001b[0m",
      "\u001b[1;31mNameError\u001b[0m                                 Traceback (most recent call last)",
      "Cell \u001b[1;32mIn[67], line 2\u001b[0m\n\u001b[0;32m      1\u001b[0m \u001b[38;5;66;03m#Δίνει το σύνολο των αποτελεσμάτων του μοντέλου λογιστικής παλινδρόμησης που περιέχει τις τιμές των παραμέτρων, τα p-values, τα t-values και τα confidence intervals\u001b[39;00m\n\u001b[1;32m----> 2\u001b[0m \u001b[38;5;28mprint\u001b[39m(\u001b[43mlogit_res\u001b[49m\u001b[38;5;241m.\u001b[39msummary())\n",
      "\u001b[1;31mNameError\u001b[0m: name 'logit_res' is not defined"
     ]
    }
   ],
   "source": [
    "#Δίνει το σύνολο των αποτελεσμάτων του μοντέλου λογιστικής παλινδρόμησης που περιέχει τις τιμές των παραμέτρων, τα p-values, τα t-values και τα confidence intervals\n",
    "print(logit_res.summary())"
   ]
  },
  {
   "cell_type": "code",
   "execution_count": 68,
   "id": "4ce93227dd589e58",
   "metadata": {
    "ExecuteTime": {
     "end_time": "2024-06-20T17:53:37.423665Z",
     "start_time": "2024-06-20T17:53:37.415583Z"
    },
    "tags": []
   },
   "outputs": [
    {
     "ename": "NameError",
     "evalue": "name 'logit_res' is not defined",
     "output_type": "error",
     "traceback": [
      "\u001b[1;31m---------------------------------------------------------------------------\u001b[0m",
      "\u001b[1;31mNameError\u001b[0m                                 Traceback (most recent call last)",
      "Cell \u001b[1;32mIn[68], line 2\u001b[0m\n\u001b[0;32m      1\u001b[0m \u001b[38;5;66;03m#Υπολογίζει τις πιθανότητες για την εξαρτημένη μεταβλητή TenYearCHD\u001b[39;00m\n\u001b[1;32m----> 2\u001b[0m pred_probs \u001b[38;5;241m=\u001b[39m \u001b[43mlogit_res\u001b[49m\u001b[38;5;241m.\u001b[39mpredict(X)\n",
      "\u001b[1;31mNameError\u001b[0m: name 'logit_res' is not defined"
     ]
    }
   ],
   "source": [
    "#Υπολογίζει τις πιθανότητες για την εξαρτημένη μεταβλητή TenYearCHD\n",
    "pred_probs = logit_res.predict(X)"
   ]
  },
  {
   "cell_type": "code",
   "execution_count": 69,
   "id": "1a2544977c466d01",
   "metadata": {
    "ExecuteTime": {
     "end_time": "2024-06-20T17:53:38.012474Z",
     "start_time": "2024-06-20T17:53:38.004108Z"
    },
    "tags": []
   },
   "outputs": [
    {
     "ename": "NameError",
     "evalue": "name 'logit_res' is not defined",
     "output_type": "error",
     "traceback": [
      "\u001b[1;31m---------------------------------------------------------------------------\u001b[0m",
      "\u001b[1;31mNameError\u001b[0m                                 Traceback (most recent call last)",
      "Cell \u001b[1;32mIn[69], line 2\u001b[0m\n\u001b[0;32m      1\u001b[0m \u001b[38;5;66;03m#Δίνει τις πιθανότητες για την εξαρτημένη μεταβλητή LoanAmount\u001b[39;00m\n\u001b[1;32m----> 2\u001b[0m \u001b[38;5;28mprint\u001b[39m(\u001b[43mlogit_res\u001b[49m\u001b[38;5;241m.\u001b[39mpredict(X)) \n",
      "\u001b[1;31mNameError\u001b[0m: name 'logit_res' is not defined"
     ]
    }
   ],
   "source": [
    "#Δίνει τις πιθανότητες για την εξαρτημένη μεταβλητή LoanAmount\n",
    "print(logit_res.predict(X)) "
   ]
  },
  {
   "cell_type": "code",
   "execution_count": 70,
   "id": "39103721dd8cb063",
   "metadata": {
    "ExecuteTime": {
     "end_time": "2024-06-20T17:53:38.380816Z",
     "start_time": "2024-06-20T17:53:38.374355Z"
    },
    "tags": []
   },
   "outputs": [
    {
     "ename": "NameError",
     "evalue": "name 'pred_probs' is not defined",
     "output_type": "error",
     "traceback": [
      "\u001b[1;31m---------------------------------------------------------------------------\u001b[0m",
      "\u001b[1;31mNameError\u001b[0m                                 Traceback (most recent call last)",
      "Cell \u001b[1;32mIn[70], line 2\u001b[0m\n\u001b[0;32m      1\u001b[0m \u001b[38;5;66;03m#Δημιουργεί μια νέα μεταβλητή με βάση τις πιθανότητες που υπολόγισε το μοντέλο λογιστικής παλινδρόμησης και ελέγχει αν η πιθανότητα είναι μεγαλύτερη από 0.5\u001b[39;00m\n\u001b[1;32m----> 2\u001b[0m pred_labels \u001b[38;5;241m=\u001b[39m (\u001b[43mpred_probs\u001b[49m \u001b[38;5;241m>\u001b[39m \u001b[38;5;241m0.5\u001b[39m)\u001b[38;5;241m.\u001b[39mastype(\u001b[38;5;28mint\u001b[39m)\n",
      "\u001b[1;31mNameError\u001b[0m: name 'pred_probs' is not defined"
     ]
    }
   ],
   "source": [
    "#Δημιουργεί μια νέα μεταβλητή με βάση τις πιθανότητες που υπολόγισε το μοντέλο λογιστικής παλινδρόμησης και ελέγχει αν η πιθανότητα είναι μεγαλύτερη από 0.5\n",
    "pred_labels = (pred_probs > 0.5).astype(int)"
   ]
  },
  {
   "cell_type": "code",
   "execution_count": 71,
   "id": "caa826f0cc86dd2d",
   "metadata": {
    "ExecuteTime": {
     "end_time": "2024-06-20T17:53:38.878079Z",
     "start_time": "2024-06-20T17:53:38.868414Z"
    },
    "tags": []
   },
   "outputs": [
    {
     "ename": "NameError",
     "evalue": "name 'pred_labels' is not defined",
     "output_type": "error",
     "traceback": [
      "\u001b[1;31m---------------------------------------------------------------------------\u001b[0m",
      "\u001b[1;31mNameError\u001b[0m                                 Traceback (most recent call last)",
      "Cell \u001b[1;32mIn[71], line 2\u001b[0m\n\u001b[0;32m      1\u001b[0m \u001b[38;5;66;03m# Υπολογίζει την ακρίβεια του μοντέλου λογιστικής παλινδρόμησης \u001b[39;00m\n\u001b[1;32m----> 2\u001b[0m accuracy \u001b[38;5;241m=\u001b[39m np\u001b[38;5;241m.\u001b[39mmean(\u001b[43mpred_labels\u001b[49m \u001b[38;5;241m==\u001b[39m y)\n\u001b[0;32m      3\u001b[0m \u001b[38;5;28mprint\u001b[39m(\u001b[38;5;124mf\u001b[39m\u001b[38;5;124m\"\u001b[39m\u001b[38;5;124mModel accuracy: \u001b[39m\u001b[38;5;132;01m{\u001b[39;00maccuracy\u001b[38;5;132;01m}\u001b[39;00m\u001b[38;5;124m\"\u001b[39m)\n",
      "\u001b[1;31mNameError\u001b[0m: name 'pred_labels' is not defined"
     ]
    }
   ],
   "source": [
    "# Υπολογίζει την ακρίβεια του μοντέλου λογιστικής παλινδρόμησης \n",
    "accuracy = np.mean(pred_labels == y)\n",
    "print(f\"Model accuracy: {accuracy}\")"
   ]
  },
  {
   "cell_type": "markdown",
   "id": "f14f79f3dc0d35b",
   "metadata": {},
   "source": [
    "# <span style=\"color:cyan\">ΔΗΜΙΟΥΡΓΙΑ PIPELINE ΓΙΑ ΤΟΝ ΥΠΟΛΟΓΙΣΜΟ ΤΗΣ ΑΚΡΙΒΕΙΑΣ ΤΟΥ ΜΟΝΤΕΛΟΥ"
   ]
  },
  {
   "cell_type": "code",
   "execution_count": 72,
   "id": "1484af2bc7be70a2",
   "metadata": {
    "ExecuteTime": {
     "end_time": "2024-06-20T17:53:40.288640Z",
     "start_time": "2024-06-20T17:53:40.260506Z"
    },
    "tags": []
   },
   "outputs": [
    {
     "ename": "NameError",
     "evalue": "name 'Pipeline' is not defined",
     "output_type": "error",
     "traceback": [
      "\u001b[1;31m---------------------------------------------------------------------------\u001b[0m",
      "\u001b[1;31mNameError\u001b[0m                                 Traceback (most recent call last)",
      "Cell \u001b[1;32mIn[72], line 2\u001b[0m\n\u001b[0;32m      1\u001b[0m \u001b[38;5;66;03m# Δημιουργία του pipeline\u001b[39;00m\n\u001b[1;32m----> 2\u001b[0m pipeline \u001b[38;5;241m=\u001b[39m \u001b[43mPipeline\u001b[49m([  \n\u001b[0;32m      3\u001b[0m (\u001b[38;5;124m'\u001b[39m\u001b[38;5;124mpreprocessing\u001b[39m\u001b[38;5;124m'\u001b[39m, StandardScaler()), \u001b[38;5;66;03m# Προεπεξεργασία δεδομένων με StandardScaler   \u001b[39;00m\n\u001b[0;32m      4\u001b[0m (\u001b[38;5;124m'\u001b[39m\u001b[38;5;124mfeature_selection\u001b[39m\u001b[38;5;124m'\u001b[39m, SelectKBest(k\u001b[38;5;241m=\u001b[39m\u001b[38;5;241m10\u001b[39m)),  \u001b[38;5;66;03m#Δοκιμάζουμε με διαφορετικό αριθμό χαρακτηριστικών για να βρούμε την καλύτερη ακρίβεια. Εδώ έχουμε βάλει 10 χαρακτηριστικά\u001b[39;00m\n\u001b[0;32m      5\u001b[0m  (\u001b[38;5;124m'\u001b[39m\u001b[38;5;124mmodel\u001b[39m\u001b[38;5;124m'\u001b[39m, LogisticRegression()) ]) \u001b[38;5;66;03m# Εκτίμηση με λογιστική παλινδρόμηση \u001b[39;00m\n\u001b[0;32m      7\u001b[0m \u001b[38;5;66;03m# Εκπαίδευση του μοντέλου\u001b[39;00m\n\u001b[0;32m      8\u001b[0m pipeline\u001b[38;5;241m.\u001b[39mfit(X_train, y_train)\n",
      "\u001b[1;31mNameError\u001b[0m: name 'Pipeline' is not defined"
     ]
    }
   ],
   "source": [
    "# Δημιουργία του pipeline\n",
    "pipeline = Pipeline([  \n",
    "('preprocessing', StandardScaler()), # Προεπεξεργασία δεδομένων με StandardScaler   \n",
    "('feature_selection', SelectKBest(k=10)),  #Δοκιμάζουμε με διαφορετικό αριθμό χαρακτηριστικών για να βρούμε την καλύτερη ακρίβεια. Εδώ έχουμε βάλει 10 χαρακτηριστικά\n",
    " ('model', LogisticRegression()) ]) # Εκτίμηση με λογιστική παλινδρόμηση \n",
    "\n",
    "# Εκπαίδευση του μοντέλου\n",
    "pipeline.fit(X_train, y_train)\n",
    "\n",
    "# Πρόβλεψη σε νέα δεδομένα\n",
    "y_pred = pipeline.predict(X_test)"
   ]
  },
  {
   "cell_type": "code",
   "execution_count": 73,
   "id": "98542db43721668c",
   "metadata": {
    "ExecuteTime": {
     "end_time": "2024-06-20T17:53:41.028384Z",
     "start_time": "2024-06-20T17:53:41.016683Z"
    },
    "tags": []
   },
   "outputs": [
    {
     "ename": "NameError",
     "evalue": "name 'pipeline' is not defined",
     "output_type": "error",
     "traceback": [
      "\u001b[1;31m---------------------------------------------------------------------------\u001b[0m",
      "\u001b[1;31mNameError\u001b[0m                                 Traceback (most recent call last)",
      "Cell \u001b[1;32mIn[73], line 2\u001b[0m\n\u001b[0;32m      1\u001b[0m \u001b[38;5;66;03m#Υπολογισμός της ακρίβειας του μοντέλου με τη χρήση της μεθόδου score\u001b[39;00m\n\u001b[1;32m----> 2\u001b[0m accuracy \u001b[38;5;241m=\u001b[39m \u001b[43mpipeline\u001b[49m\u001b[38;5;241m.\u001b[39mscore(X_test, y_test)\n\u001b[0;32m      3\u001b[0m \u001b[38;5;28mprint\u001b[39m(\u001b[38;5;124m\"\u001b[39m\u001b[38;5;124mModel Accuracy: \u001b[39m\u001b[38;5;124m\"\u001b[39m, accuracy)\n",
      "\u001b[1;31mNameError\u001b[0m: name 'pipeline' is not defined"
     ]
    }
   ],
   "source": [
    "#Υπολογισμός της ακρίβειας του μοντέλου με τη χρήση της μεθόδου score\n",
    "accuracy = pipeline.score(X_test, y_test)\n",
    "print(\"Model Accuracy: \", accuracy)"
   ]
  },
  {
   "cell_type": "code",
   "execution_count": null,
   "id": "dc33415f-c3fe-4517-8a79-831a653de14f",
   "metadata": {},
   "outputs": [],
   "source": []
  }
 ],
 "metadata": {
  "kernelspec": {
   "display_name": "Python 3 (ipykernel)",
   "language": "python",
   "name": "python3"
  },
  "language_info": {
   "codemirror_mode": {
    "name": "ipython",
    "version": 3
   },
   "file_extension": ".py",
   "mimetype": "text/x-python",
   "name": "python",
   "nbconvert_exporter": "python",
   "pygments_lexer": "ipython3",
   "version": "3.11.8"
  }
 },
 "nbformat": 4,
 "nbformat_minor": 5
}
